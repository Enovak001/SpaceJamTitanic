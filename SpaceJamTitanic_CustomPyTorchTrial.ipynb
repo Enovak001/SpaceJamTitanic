{
  "nbformat": 4,
  "nbformat_minor": 0,
  "metadata": {
    "colab": {
      "provenance": [],
      "collapsed_sections": [],
      "toc_visible": true,
      "mount_file_id": "1FJOC482Bc2bWiDS8WUy9ZttaofzHSRnz",
      "authorship_tag": "ABX9TyMADw6mRk/9Rdkm0sKqgU7M",
      "include_colab_link": true
    },
    "kernelspec": {
      "name": "python3",
      "display_name": "Python 3"
    },
    "language_info": {
      "name": "python"
    },
    "accelerator": "GPU"
  },
  "cells": [
    {
      "cell_type": "markdown",
      "metadata": {
        "id": "view-in-github",
        "colab_type": "text"
      },
      "source": [
        "<a href=\"https://colab.research.google.com/github/Enovak001/SpaceJamTitanic/blob/main/SpaceJamTitanic_CustomPyTorchTrial.ipynb\" target=\"_parent\"><img src=\"https://colab.research.google.com/assets/colab-badge.svg\" alt=\"Open In Colab\"/></a>"
      ]
    },
    {
      "cell_type": "code",
      "source": [
        "# Import Model Evaluations\n",
        "from sklearn.model_selection import train_test_split, cross_val_score\n",
        "from sklearn.model_selection import RandomizedSearchCV, GridSearchCV\n",
        "from sklearn.metrics import accuracy_score, f1_score, recall_score, precision_score\n",
        "from sklearn.metrics import confusion_matrix, classification_report\n",
        "from sklearn.metrics import plot_roc_curve\n",
        "\n",
        "\n",
        "import numpy as np\n",
        "import pandas as pd\n",
        "import matplotlib.pyplot as plt\n",
        "import seaborn as sns\n",
        "from sklearn.model_selection import train_test_split\n",
        "from sklearn import datasets\n",
        "from sklearn import metrics\n",
        "from sklearn.preprocessing import StandardScaler, MinMaxScaler\n",
        "\n",
        "# Import PyTorch\n",
        "import torch\n",
        "from torch import nn\n",
        "\n",
        "# Import torchvision\n",
        "import torchvision\n",
        "from torchvision import datasets\n",
        "from torchvision import transforms\n",
        "from torchvision.transforms import ToTensor\n",
        "\n",
        "# Import matplotlib for visualization\n",
        "import matplotlib.pyplot as plt\n",
        "\n",
        "# Check versions\n",
        "print(torch.__version__)\n",
        "print(torchvision.__version__)"
      ],
      "metadata": {
        "id": "7e7WeKFzh1xk",
        "colab": {
          "base_uri": "https://localhost:8080/"
        },
        "outputId": "13f7a843-5eac-4a5f-cc9f-61196a0a05da"
      },
      "execution_count": null,
      "outputs": [
        {
          "output_type": "stream",
          "name": "stdout",
          "text": [
            "1.12.1+cu113\n",
            "0.13.1+cu113\n"
          ]
        }
      ]
    },
    {
      "cell_type": "code",
      "source": [
        "# Getting train data\n",
        "test_list = pd.read_csv('/content/drive/MyDrive/Spaceship_Titanic_binary_class/test.csv')\n",
        "print(test_list.describe())\n",
        "print(test_list.head())"
      ],
      "metadata": {
        "colab": {
          "base_uri": "https://localhost:8080/"
        },
        "id": "ErmNYeL2iRPk",
        "outputId": "5a5e91b5-90e3-4a0e-d734-4bf7fa02032a"
      },
      "execution_count": null,
      "outputs": [
        {
          "output_type": "stream",
          "name": "stdout",
          "text": [
            "               Age   RoomService     FoodCourt  ShoppingMall           Spa  \\\n",
            "count  4186.000000   4195.000000   4171.000000   4179.000000   4176.000000   \n",
            "mean     28.658146    219.266269    439.484296    177.295525    303.052443   \n",
            "std      14.179072    607.011289   1527.663045    560.821123   1117.186015   \n",
            "min       0.000000      0.000000      0.000000      0.000000      0.000000   \n",
            "25%      19.000000      0.000000      0.000000      0.000000      0.000000   \n",
            "50%      26.000000      0.000000      0.000000      0.000000      0.000000   \n",
            "75%      37.000000     53.000000     78.000000     33.000000     50.000000   \n",
            "max      79.000000  11567.000000  25273.000000   8292.000000  19844.000000   \n",
            "\n",
            "             VRDeck  \n",
            "count   4197.000000  \n",
            "mean     310.710031  \n",
            "std     1246.994742  \n",
            "min        0.000000  \n",
            "25%        0.000000  \n",
            "50%        0.000000  \n",
            "75%       36.000000  \n",
            "max    22272.000000  \n",
            "  PassengerId HomePlanet CryoSleep  Cabin  Destination   Age    VIP  \\\n",
            "0     0013_01      Earth      True  G/3/S  TRAPPIST-1e  27.0  False   \n",
            "1     0018_01      Earth     False  F/4/S  TRAPPIST-1e  19.0  False   \n",
            "2     0019_01     Europa      True  C/0/S  55 Cancri e  31.0  False   \n",
            "3     0021_01     Europa     False  C/1/S  TRAPPIST-1e  38.0  False   \n",
            "4     0023_01      Earth     False  F/5/S  TRAPPIST-1e  20.0  False   \n",
            "\n",
            "   RoomService  FoodCourt  ShoppingMall     Spa  VRDeck              Name  \n",
            "0          0.0        0.0           0.0     0.0     0.0   Nelly Carsoning  \n",
            "1          0.0        9.0           0.0  2823.0     0.0    Lerome Peckers  \n",
            "2          0.0        0.0           0.0     0.0     0.0   Sabih Unhearfus  \n",
            "3          0.0     6652.0           0.0   181.0   585.0  Meratz Caltilter  \n",
            "4         10.0        0.0         635.0     0.0     0.0   Brence Harperez  \n"
          ]
        }
      ]
    },
    {
      "cell_type": "code",
      "source": [
        "test_list.shape"
      ],
      "metadata": {
        "colab": {
          "base_uri": "https://localhost:8080/"
        },
        "id": "8QF9-Bqo1Nf3",
        "outputId": "a4cfd2a6-b2f9-4379-fa9d-d20af30eb45c"
      },
      "execution_count": null,
      "outputs": [
        {
          "output_type": "execute_result",
          "data": {
            "text/plain": [
              "(4277, 13)"
            ]
          },
          "metadata": {},
          "execution_count": 3
        }
      ]
    },
    {
      "cell_type": "code",
      "source": [
        "# Getting test data\n",
        "train_list = pd.read_csv('/content/drive/MyDrive/Spaceship_Titanic_binary_class/train.csv')\n",
        "print(train_list.describe())\n",
        "print(train_list.head())"
      ],
      "metadata": {
        "colab": {
          "base_uri": "https://localhost:8080/"
        },
        "id": "E1JoU-M5iSU5",
        "outputId": "e857b338-f4a3-416b-e9f0-1aba49fbd5e3"
      },
      "execution_count": null,
      "outputs": [
        {
          "output_type": "stream",
          "name": "stdout",
          "text": [
            "               Age   RoomService     FoodCourt  ShoppingMall           Spa  \\\n",
            "count  8514.000000   8512.000000   8510.000000   8485.000000   8510.000000   \n",
            "mean     28.827930    224.687617    458.077203    173.729169    311.138778   \n",
            "std      14.489021    666.717663   1611.489240    604.696458   1136.705535   \n",
            "min       0.000000      0.000000      0.000000      0.000000      0.000000   \n",
            "25%      19.000000      0.000000      0.000000      0.000000      0.000000   \n",
            "50%      27.000000      0.000000      0.000000      0.000000      0.000000   \n",
            "75%      38.000000     47.000000     76.000000     27.000000     59.000000   \n",
            "max      79.000000  14327.000000  29813.000000  23492.000000  22408.000000   \n",
            "\n",
            "             VRDeck  \n",
            "count   8505.000000  \n",
            "mean     304.854791  \n",
            "std     1145.717189  \n",
            "min        0.000000  \n",
            "25%        0.000000  \n",
            "50%        0.000000  \n",
            "75%       46.000000  \n",
            "max    24133.000000  \n",
            "  PassengerId HomePlanet CryoSleep  Cabin  Destination   Age    VIP  \\\n",
            "0     0001_01     Europa     False  B/0/P  TRAPPIST-1e  39.0  False   \n",
            "1     0002_01      Earth     False  F/0/S  TRAPPIST-1e  24.0  False   \n",
            "2     0003_01     Europa     False  A/0/S  TRAPPIST-1e  58.0   True   \n",
            "3     0003_02     Europa     False  A/0/S  TRAPPIST-1e  33.0  False   \n",
            "4     0004_01      Earth     False  F/1/S  TRAPPIST-1e  16.0  False   \n",
            "\n",
            "   RoomService  FoodCourt  ShoppingMall     Spa  VRDeck               Name  \\\n",
            "0          0.0        0.0           0.0     0.0     0.0    Maham Ofracculy   \n",
            "1        109.0        9.0          25.0   549.0    44.0       Juanna Vines   \n",
            "2         43.0     3576.0           0.0  6715.0    49.0      Altark Susent   \n",
            "3          0.0     1283.0         371.0  3329.0   193.0       Solam Susent   \n",
            "4        303.0       70.0         151.0   565.0     2.0  Willy Santantines   \n",
            "\n",
            "   Transported  \n",
            "0        False  \n",
            "1         True  \n",
            "2        False  \n",
            "3        False  \n",
            "4         True  \n"
          ]
        }
      ]
    },
    {
      "cell_type": "markdown",
      "source": [
        "### Data description:\n",
        "\n",
        "`PassengerId` - A unique Id for each passenger. Each Id takes the form gggg_pp where gggg indicates a group the passenger is travelling with and pp is their number within the group. People in a group are often family members, but not always.\n",
        "\n",
        "`HomePlanet` - The planet the passenger departed from, typically their planet of permanent residence.\n",
        "\n",
        "`CryoSleep` - Indicates whether the passenger elected to be put into suspended animation for the duration of the voyage. Passengers in cryosleep are confined to their cabins.\n",
        "\n",
        "`Cabin` - The cabin number where the passenger is staying. Takes the form deck/num/side, where side can be either P for Port or S for Starboard.\n",
        "\n",
        "`Destination` - The planet the passenger will be debarking to.\n",
        "\n",
        "`Age` - The age of the passenger.\n",
        "\n",
        "`VIP` - Whether the passenger has paid for special VIP service during the voyage.\n",
        "\n",
        "`RoomService, FoodCourt, ShoppingMall, Spa, VRDeck` - Amount the passenger has billed at each of the Spaceship Titanic's many luxury amenities.\n",
        "\n",
        "`Name` - The first and last names of the passenger.\n",
        "\n",
        "`Transported` - Whether the passenger was transported to another dimension. This is the target, the column you are trying to predict."
      ],
      "metadata": {
        "id": "yaULIxqtP6de"
      }
    },
    {
      "cell_type": "code",
      "source": [
        "raw_train_df=pd.DataFrame(train_list, index=None)\n",
        "raw_train_df"
      ],
      "metadata": {
        "colab": {
          "base_uri": "https://localhost:8080/",
          "height": 424
        },
        "id": "sDFi0huHiUx0",
        "outputId": "4f529764-49af-4679-d20e-bab4c4953054"
      },
      "execution_count": null,
      "outputs": [
        {
          "output_type": "execute_result",
          "data": {
            "text/plain": [
              "     PassengerId HomePlanet CryoSleep     Cabin    Destination   Age    VIP  \\\n",
              "0        0001_01     Europa     False     B/0/P    TRAPPIST-1e  39.0  False   \n",
              "1        0002_01      Earth     False     F/0/S    TRAPPIST-1e  24.0  False   \n",
              "2        0003_01     Europa     False     A/0/S    TRAPPIST-1e  58.0   True   \n",
              "3        0003_02     Europa     False     A/0/S    TRAPPIST-1e  33.0  False   \n",
              "4        0004_01      Earth     False     F/1/S    TRAPPIST-1e  16.0  False   \n",
              "...          ...        ...       ...       ...            ...   ...    ...   \n",
              "8688     9276_01     Europa     False    A/98/P    55 Cancri e  41.0   True   \n",
              "8689     9278_01      Earth      True  G/1499/S  PSO J318.5-22  18.0  False   \n",
              "8690     9279_01      Earth     False  G/1500/S    TRAPPIST-1e  26.0  False   \n",
              "8691     9280_01     Europa     False   E/608/S    55 Cancri e  32.0  False   \n",
              "8692     9280_02     Europa     False   E/608/S    TRAPPIST-1e  44.0  False   \n",
              "\n",
              "      RoomService  FoodCourt  ShoppingMall     Spa  VRDeck               Name  \\\n",
              "0             0.0        0.0           0.0     0.0     0.0    Maham Ofracculy   \n",
              "1           109.0        9.0          25.0   549.0    44.0       Juanna Vines   \n",
              "2            43.0     3576.0           0.0  6715.0    49.0      Altark Susent   \n",
              "3             0.0     1283.0         371.0  3329.0   193.0       Solam Susent   \n",
              "4           303.0       70.0         151.0   565.0     2.0  Willy Santantines   \n",
              "...           ...        ...           ...     ...     ...                ...   \n",
              "8688          0.0     6819.0           0.0  1643.0    74.0  Gravior Noxnuther   \n",
              "8689          0.0        0.0           0.0     0.0     0.0    Kurta Mondalley   \n",
              "8690          0.0        0.0        1872.0     1.0     0.0       Fayey Connon   \n",
              "8691          0.0     1049.0           0.0   353.0  3235.0   Celeon Hontichre   \n",
              "8692        126.0     4688.0           0.0     0.0    12.0   Propsh Hontichre   \n",
              "\n",
              "      Transported  \n",
              "0           False  \n",
              "1            True  \n",
              "2           False  \n",
              "3           False  \n",
              "4            True  \n",
              "...           ...  \n",
              "8688        False  \n",
              "8689        False  \n",
              "8690         True  \n",
              "8691        False  \n",
              "8692         True  \n",
              "\n",
              "[8693 rows x 14 columns]"
            ],
            "text/html": [
              "\n",
              "  <div id=\"df-10789f21-0890-486f-b5bb-64b114bfd260\">\n",
              "    <div class=\"colab-df-container\">\n",
              "      <div>\n",
              "<style scoped>\n",
              "    .dataframe tbody tr th:only-of-type {\n",
              "        vertical-align: middle;\n",
              "    }\n",
              "\n",
              "    .dataframe tbody tr th {\n",
              "        vertical-align: top;\n",
              "    }\n",
              "\n",
              "    .dataframe thead th {\n",
              "        text-align: right;\n",
              "    }\n",
              "</style>\n",
              "<table border=\"1\" class=\"dataframe\">\n",
              "  <thead>\n",
              "    <tr style=\"text-align: right;\">\n",
              "      <th></th>\n",
              "      <th>PassengerId</th>\n",
              "      <th>HomePlanet</th>\n",
              "      <th>CryoSleep</th>\n",
              "      <th>Cabin</th>\n",
              "      <th>Destination</th>\n",
              "      <th>Age</th>\n",
              "      <th>VIP</th>\n",
              "      <th>RoomService</th>\n",
              "      <th>FoodCourt</th>\n",
              "      <th>ShoppingMall</th>\n",
              "      <th>Spa</th>\n",
              "      <th>VRDeck</th>\n",
              "      <th>Name</th>\n",
              "      <th>Transported</th>\n",
              "    </tr>\n",
              "  </thead>\n",
              "  <tbody>\n",
              "    <tr>\n",
              "      <th>0</th>\n",
              "      <td>0001_01</td>\n",
              "      <td>Europa</td>\n",
              "      <td>False</td>\n",
              "      <td>B/0/P</td>\n",
              "      <td>TRAPPIST-1e</td>\n",
              "      <td>39.0</td>\n",
              "      <td>False</td>\n",
              "      <td>0.0</td>\n",
              "      <td>0.0</td>\n",
              "      <td>0.0</td>\n",
              "      <td>0.0</td>\n",
              "      <td>0.0</td>\n",
              "      <td>Maham Ofracculy</td>\n",
              "      <td>False</td>\n",
              "    </tr>\n",
              "    <tr>\n",
              "      <th>1</th>\n",
              "      <td>0002_01</td>\n",
              "      <td>Earth</td>\n",
              "      <td>False</td>\n",
              "      <td>F/0/S</td>\n",
              "      <td>TRAPPIST-1e</td>\n",
              "      <td>24.0</td>\n",
              "      <td>False</td>\n",
              "      <td>109.0</td>\n",
              "      <td>9.0</td>\n",
              "      <td>25.0</td>\n",
              "      <td>549.0</td>\n",
              "      <td>44.0</td>\n",
              "      <td>Juanna Vines</td>\n",
              "      <td>True</td>\n",
              "    </tr>\n",
              "    <tr>\n",
              "      <th>2</th>\n",
              "      <td>0003_01</td>\n",
              "      <td>Europa</td>\n",
              "      <td>False</td>\n",
              "      <td>A/0/S</td>\n",
              "      <td>TRAPPIST-1e</td>\n",
              "      <td>58.0</td>\n",
              "      <td>True</td>\n",
              "      <td>43.0</td>\n",
              "      <td>3576.0</td>\n",
              "      <td>0.0</td>\n",
              "      <td>6715.0</td>\n",
              "      <td>49.0</td>\n",
              "      <td>Altark Susent</td>\n",
              "      <td>False</td>\n",
              "    </tr>\n",
              "    <tr>\n",
              "      <th>3</th>\n",
              "      <td>0003_02</td>\n",
              "      <td>Europa</td>\n",
              "      <td>False</td>\n",
              "      <td>A/0/S</td>\n",
              "      <td>TRAPPIST-1e</td>\n",
              "      <td>33.0</td>\n",
              "      <td>False</td>\n",
              "      <td>0.0</td>\n",
              "      <td>1283.0</td>\n",
              "      <td>371.0</td>\n",
              "      <td>3329.0</td>\n",
              "      <td>193.0</td>\n",
              "      <td>Solam Susent</td>\n",
              "      <td>False</td>\n",
              "    </tr>\n",
              "    <tr>\n",
              "      <th>4</th>\n",
              "      <td>0004_01</td>\n",
              "      <td>Earth</td>\n",
              "      <td>False</td>\n",
              "      <td>F/1/S</td>\n",
              "      <td>TRAPPIST-1e</td>\n",
              "      <td>16.0</td>\n",
              "      <td>False</td>\n",
              "      <td>303.0</td>\n",
              "      <td>70.0</td>\n",
              "      <td>151.0</td>\n",
              "      <td>565.0</td>\n",
              "      <td>2.0</td>\n",
              "      <td>Willy Santantines</td>\n",
              "      <td>True</td>\n",
              "    </tr>\n",
              "    <tr>\n",
              "      <th>...</th>\n",
              "      <td>...</td>\n",
              "      <td>...</td>\n",
              "      <td>...</td>\n",
              "      <td>...</td>\n",
              "      <td>...</td>\n",
              "      <td>...</td>\n",
              "      <td>...</td>\n",
              "      <td>...</td>\n",
              "      <td>...</td>\n",
              "      <td>...</td>\n",
              "      <td>...</td>\n",
              "      <td>...</td>\n",
              "      <td>...</td>\n",
              "      <td>...</td>\n",
              "    </tr>\n",
              "    <tr>\n",
              "      <th>8688</th>\n",
              "      <td>9276_01</td>\n",
              "      <td>Europa</td>\n",
              "      <td>False</td>\n",
              "      <td>A/98/P</td>\n",
              "      <td>55 Cancri e</td>\n",
              "      <td>41.0</td>\n",
              "      <td>True</td>\n",
              "      <td>0.0</td>\n",
              "      <td>6819.0</td>\n",
              "      <td>0.0</td>\n",
              "      <td>1643.0</td>\n",
              "      <td>74.0</td>\n",
              "      <td>Gravior Noxnuther</td>\n",
              "      <td>False</td>\n",
              "    </tr>\n",
              "    <tr>\n",
              "      <th>8689</th>\n",
              "      <td>9278_01</td>\n",
              "      <td>Earth</td>\n",
              "      <td>True</td>\n",
              "      <td>G/1499/S</td>\n",
              "      <td>PSO J318.5-22</td>\n",
              "      <td>18.0</td>\n",
              "      <td>False</td>\n",
              "      <td>0.0</td>\n",
              "      <td>0.0</td>\n",
              "      <td>0.0</td>\n",
              "      <td>0.0</td>\n",
              "      <td>0.0</td>\n",
              "      <td>Kurta Mondalley</td>\n",
              "      <td>False</td>\n",
              "    </tr>\n",
              "    <tr>\n",
              "      <th>8690</th>\n",
              "      <td>9279_01</td>\n",
              "      <td>Earth</td>\n",
              "      <td>False</td>\n",
              "      <td>G/1500/S</td>\n",
              "      <td>TRAPPIST-1e</td>\n",
              "      <td>26.0</td>\n",
              "      <td>False</td>\n",
              "      <td>0.0</td>\n",
              "      <td>0.0</td>\n",
              "      <td>1872.0</td>\n",
              "      <td>1.0</td>\n",
              "      <td>0.0</td>\n",
              "      <td>Fayey Connon</td>\n",
              "      <td>True</td>\n",
              "    </tr>\n",
              "    <tr>\n",
              "      <th>8691</th>\n",
              "      <td>9280_01</td>\n",
              "      <td>Europa</td>\n",
              "      <td>False</td>\n",
              "      <td>E/608/S</td>\n",
              "      <td>55 Cancri e</td>\n",
              "      <td>32.0</td>\n",
              "      <td>False</td>\n",
              "      <td>0.0</td>\n",
              "      <td>1049.0</td>\n",
              "      <td>0.0</td>\n",
              "      <td>353.0</td>\n",
              "      <td>3235.0</td>\n",
              "      <td>Celeon Hontichre</td>\n",
              "      <td>False</td>\n",
              "    </tr>\n",
              "    <tr>\n",
              "      <th>8692</th>\n",
              "      <td>9280_02</td>\n",
              "      <td>Europa</td>\n",
              "      <td>False</td>\n",
              "      <td>E/608/S</td>\n",
              "      <td>TRAPPIST-1e</td>\n",
              "      <td>44.0</td>\n",
              "      <td>False</td>\n",
              "      <td>126.0</td>\n",
              "      <td>4688.0</td>\n",
              "      <td>0.0</td>\n",
              "      <td>0.0</td>\n",
              "      <td>12.0</td>\n",
              "      <td>Propsh Hontichre</td>\n",
              "      <td>True</td>\n",
              "    </tr>\n",
              "  </tbody>\n",
              "</table>\n",
              "<p>8693 rows × 14 columns</p>\n",
              "</div>\n",
              "      <button class=\"colab-df-convert\" onclick=\"convertToInteractive('df-10789f21-0890-486f-b5bb-64b114bfd260')\"\n",
              "              title=\"Convert this dataframe to an interactive table.\"\n",
              "              style=\"display:none;\">\n",
              "        \n",
              "  <svg xmlns=\"http://www.w3.org/2000/svg\" height=\"24px\"viewBox=\"0 0 24 24\"\n",
              "       width=\"24px\">\n",
              "    <path d=\"M0 0h24v24H0V0z\" fill=\"none\"/>\n",
              "    <path d=\"M18.56 5.44l.94 2.06.94-2.06 2.06-.94-2.06-.94-.94-2.06-.94 2.06-2.06.94zm-11 1L8.5 8.5l.94-2.06 2.06-.94-2.06-.94L8.5 2.5l-.94 2.06-2.06.94zm10 10l.94 2.06.94-2.06 2.06-.94-2.06-.94-.94-2.06-.94 2.06-2.06.94z\"/><path d=\"M17.41 7.96l-1.37-1.37c-.4-.4-.92-.59-1.43-.59-.52 0-1.04.2-1.43.59L10.3 9.45l-7.72 7.72c-.78.78-.78 2.05 0 2.83L4 21.41c.39.39.9.59 1.41.59.51 0 1.02-.2 1.41-.59l7.78-7.78 2.81-2.81c.8-.78.8-2.07 0-2.86zM5.41 20L4 18.59l7.72-7.72 1.47 1.35L5.41 20z\"/>\n",
              "  </svg>\n",
              "      </button>\n",
              "      \n",
              "  <style>\n",
              "    .colab-df-container {\n",
              "      display:flex;\n",
              "      flex-wrap:wrap;\n",
              "      gap: 12px;\n",
              "    }\n",
              "\n",
              "    .colab-df-convert {\n",
              "      background-color: #E8F0FE;\n",
              "      border: none;\n",
              "      border-radius: 50%;\n",
              "      cursor: pointer;\n",
              "      display: none;\n",
              "      fill: #1967D2;\n",
              "      height: 32px;\n",
              "      padding: 0 0 0 0;\n",
              "      width: 32px;\n",
              "    }\n",
              "\n",
              "    .colab-df-convert:hover {\n",
              "      background-color: #E2EBFA;\n",
              "      box-shadow: 0px 1px 2px rgba(60, 64, 67, 0.3), 0px 1px 3px 1px rgba(60, 64, 67, 0.15);\n",
              "      fill: #174EA6;\n",
              "    }\n",
              "\n",
              "    [theme=dark] .colab-df-convert {\n",
              "      background-color: #3B4455;\n",
              "      fill: #D2E3FC;\n",
              "    }\n",
              "\n",
              "    [theme=dark] .colab-df-convert:hover {\n",
              "      background-color: #434B5C;\n",
              "      box-shadow: 0px 1px 3px 1px rgba(0, 0, 0, 0.15);\n",
              "      filter: drop-shadow(0px 1px 2px rgba(0, 0, 0, 0.3));\n",
              "      fill: #FFFFFF;\n",
              "    }\n",
              "  </style>\n",
              "\n",
              "      <script>\n",
              "        const buttonEl =\n",
              "          document.querySelector('#df-10789f21-0890-486f-b5bb-64b114bfd260 button.colab-df-convert');\n",
              "        buttonEl.style.display =\n",
              "          google.colab.kernel.accessAllowed ? 'block' : 'none';\n",
              "\n",
              "        async function convertToInteractive(key) {\n",
              "          const element = document.querySelector('#df-10789f21-0890-486f-b5bb-64b114bfd260');\n",
              "          const dataTable =\n",
              "            await google.colab.kernel.invokeFunction('convertToInteractive',\n",
              "                                                     [key], {});\n",
              "          if (!dataTable) return;\n",
              "\n",
              "          const docLinkHtml = 'Like what you see? Visit the ' +\n",
              "            '<a target=\"_blank\" href=https://colab.research.google.com/notebooks/data_table.ipynb>data table notebook</a>'\n",
              "            + ' to learn more about interactive tables.';\n",
              "          element.innerHTML = '';\n",
              "          dataTable['output_type'] = 'display_data';\n",
              "          await google.colab.output.renderOutput(dataTable, element);\n",
              "          const docLink = document.createElement('div');\n",
              "          docLink.innerHTML = docLinkHtml;\n",
              "          element.appendChild(docLink);\n",
              "        }\n",
              "      </script>\n",
              "    </div>\n",
              "  </div>\n",
              "  "
            ]
          },
          "metadata": {},
          "execution_count": 5
        }
      ]
    },
    {
      "cell_type": "code",
      "source": [
        "raw_train_df.info()"
      ],
      "metadata": {
        "colab": {
          "base_uri": "https://localhost:8080/"
        },
        "id": "_EuMuK4Diak6",
        "outputId": "7156765f-99f3-4cb7-f08c-9d8c0c492c38"
      },
      "execution_count": null,
      "outputs": [
        {
          "output_type": "stream",
          "name": "stdout",
          "text": [
            "<class 'pandas.core.frame.DataFrame'>\n",
            "RangeIndex: 8693 entries, 0 to 8692\n",
            "Data columns (total 14 columns):\n",
            " #   Column        Non-Null Count  Dtype  \n",
            "---  ------        --------------  -----  \n",
            " 0   PassengerId   8693 non-null   object \n",
            " 1   HomePlanet    8492 non-null   object \n",
            " 2   CryoSleep     8476 non-null   object \n",
            " 3   Cabin         8494 non-null   object \n",
            " 4   Destination   8511 non-null   object \n",
            " 5   Age           8514 non-null   float64\n",
            " 6   VIP           8490 non-null   object \n",
            " 7   RoomService   8512 non-null   float64\n",
            " 8   FoodCourt     8510 non-null   float64\n",
            " 9   ShoppingMall  8485 non-null   float64\n",
            " 10  Spa           8510 non-null   float64\n",
            " 11  VRDeck        8505 non-null   float64\n",
            " 12  Name          8493 non-null   object \n",
            " 13  Transported   8693 non-null   bool   \n",
            "dtypes: bool(1), float64(6), object(7)\n",
            "memory usage: 891.5+ KB\n"
          ]
        }
      ]
    },
    {
      "cell_type": "code",
      "source": [
        "raw_train_df.isna().sum()"
      ],
      "metadata": {
        "colab": {
          "base_uri": "https://localhost:8080/"
        },
        "id": "hWH4p-kbiaiD",
        "outputId": "a8cd255b-fae0-446d-dd8e-a2e3fc26b77f"
      },
      "execution_count": null,
      "outputs": [
        {
          "output_type": "execute_result",
          "data": {
            "text/plain": [
              "PassengerId       0\n",
              "HomePlanet      201\n",
              "CryoSleep       217\n",
              "Cabin           199\n",
              "Destination     182\n",
              "Age             179\n",
              "VIP             203\n",
              "RoomService     181\n",
              "FoodCourt       183\n",
              "ShoppingMall    208\n",
              "Spa             183\n",
              "VRDeck          188\n",
              "Name            200\n",
              "Transported       0\n",
              "dtype: int64"
            ]
          },
          "metadata": {},
          "execution_count": 7
        }
      ]
    },
    {
      "cell_type": "code",
      "source": [],
      "metadata": {
        "id": "B_LuCHc-__88"
      },
      "execution_count": null,
      "outputs": []
    },
    {
      "cell_type": "markdown",
      "source": [
        "## Train data Feature engineering"
      ],
      "metadata": {
        "id": "JGhU1UfOkTe0"
      }
    },
    {
      "cell_type": "code",
      "source": [
        "# make a copy of dataframe... otherwise we mess also raw_train_df\n",
        "df_temp = raw_train_df.copy()\n",
        "df_temp"
      ],
      "metadata": {
        "colab": {
          "base_uri": "https://localhost:8080/",
          "height": 424
        },
        "id": "OhJamplBZFmf",
        "outputId": "6f9b7203-e6f8-49dd-b43a-039aab6a4249"
      },
      "execution_count": null,
      "outputs": [
        {
          "output_type": "execute_result",
          "data": {
            "text/plain": [
              "     PassengerId HomePlanet CryoSleep     Cabin    Destination   Age    VIP  \\\n",
              "0        0001_01     Europa     False     B/0/P    TRAPPIST-1e  39.0  False   \n",
              "1        0002_01      Earth     False     F/0/S    TRAPPIST-1e  24.0  False   \n",
              "2        0003_01     Europa     False     A/0/S    TRAPPIST-1e  58.0   True   \n",
              "3        0003_02     Europa     False     A/0/S    TRAPPIST-1e  33.0  False   \n",
              "4        0004_01      Earth     False     F/1/S    TRAPPIST-1e  16.0  False   \n",
              "...          ...        ...       ...       ...            ...   ...    ...   \n",
              "8688     9276_01     Europa     False    A/98/P    55 Cancri e  41.0   True   \n",
              "8689     9278_01      Earth      True  G/1499/S  PSO J318.5-22  18.0  False   \n",
              "8690     9279_01      Earth     False  G/1500/S    TRAPPIST-1e  26.0  False   \n",
              "8691     9280_01     Europa     False   E/608/S    55 Cancri e  32.0  False   \n",
              "8692     9280_02     Europa     False   E/608/S    TRAPPIST-1e  44.0  False   \n",
              "\n",
              "      RoomService  FoodCourt  ShoppingMall     Spa  VRDeck               Name  \\\n",
              "0             0.0        0.0           0.0     0.0     0.0    Maham Ofracculy   \n",
              "1           109.0        9.0          25.0   549.0    44.0       Juanna Vines   \n",
              "2            43.0     3576.0           0.0  6715.0    49.0      Altark Susent   \n",
              "3             0.0     1283.0         371.0  3329.0   193.0       Solam Susent   \n",
              "4           303.0       70.0         151.0   565.0     2.0  Willy Santantines   \n",
              "...           ...        ...           ...     ...     ...                ...   \n",
              "8688          0.0     6819.0           0.0  1643.0    74.0  Gravior Noxnuther   \n",
              "8689          0.0        0.0           0.0     0.0     0.0    Kurta Mondalley   \n",
              "8690          0.0        0.0        1872.0     1.0     0.0       Fayey Connon   \n",
              "8691          0.0     1049.0           0.0   353.0  3235.0   Celeon Hontichre   \n",
              "8692        126.0     4688.0           0.0     0.0    12.0   Propsh Hontichre   \n",
              "\n",
              "      Transported  \n",
              "0           False  \n",
              "1            True  \n",
              "2           False  \n",
              "3           False  \n",
              "4            True  \n",
              "...           ...  \n",
              "8688        False  \n",
              "8689        False  \n",
              "8690         True  \n",
              "8691        False  \n",
              "8692         True  \n",
              "\n",
              "[8693 rows x 14 columns]"
            ],
            "text/html": [
              "\n",
              "  <div id=\"df-69edcdfa-9b83-4341-9637-d8ba12cc74a6\">\n",
              "    <div class=\"colab-df-container\">\n",
              "      <div>\n",
              "<style scoped>\n",
              "    .dataframe tbody tr th:only-of-type {\n",
              "        vertical-align: middle;\n",
              "    }\n",
              "\n",
              "    .dataframe tbody tr th {\n",
              "        vertical-align: top;\n",
              "    }\n",
              "\n",
              "    .dataframe thead th {\n",
              "        text-align: right;\n",
              "    }\n",
              "</style>\n",
              "<table border=\"1\" class=\"dataframe\">\n",
              "  <thead>\n",
              "    <tr style=\"text-align: right;\">\n",
              "      <th></th>\n",
              "      <th>PassengerId</th>\n",
              "      <th>HomePlanet</th>\n",
              "      <th>CryoSleep</th>\n",
              "      <th>Cabin</th>\n",
              "      <th>Destination</th>\n",
              "      <th>Age</th>\n",
              "      <th>VIP</th>\n",
              "      <th>RoomService</th>\n",
              "      <th>FoodCourt</th>\n",
              "      <th>ShoppingMall</th>\n",
              "      <th>Spa</th>\n",
              "      <th>VRDeck</th>\n",
              "      <th>Name</th>\n",
              "      <th>Transported</th>\n",
              "    </tr>\n",
              "  </thead>\n",
              "  <tbody>\n",
              "    <tr>\n",
              "      <th>0</th>\n",
              "      <td>0001_01</td>\n",
              "      <td>Europa</td>\n",
              "      <td>False</td>\n",
              "      <td>B/0/P</td>\n",
              "      <td>TRAPPIST-1e</td>\n",
              "      <td>39.0</td>\n",
              "      <td>False</td>\n",
              "      <td>0.0</td>\n",
              "      <td>0.0</td>\n",
              "      <td>0.0</td>\n",
              "      <td>0.0</td>\n",
              "      <td>0.0</td>\n",
              "      <td>Maham Ofracculy</td>\n",
              "      <td>False</td>\n",
              "    </tr>\n",
              "    <tr>\n",
              "      <th>1</th>\n",
              "      <td>0002_01</td>\n",
              "      <td>Earth</td>\n",
              "      <td>False</td>\n",
              "      <td>F/0/S</td>\n",
              "      <td>TRAPPIST-1e</td>\n",
              "      <td>24.0</td>\n",
              "      <td>False</td>\n",
              "      <td>109.0</td>\n",
              "      <td>9.0</td>\n",
              "      <td>25.0</td>\n",
              "      <td>549.0</td>\n",
              "      <td>44.0</td>\n",
              "      <td>Juanna Vines</td>\n",
              "      <td>True</td>\n",
              "    </tr>\n",
              "    <tr>\n",
              "      <th>2</th>\n",
              "      <td>0003_01</td>\n",
              "      <td>Europa</td>\n",
              "      <td>False</td>\n",
              "      <td>A/0/S</td>\n",
              "      <td>TRAPPIST-1e</td>\n",
              "      <td>58.0</td>\n",
              "      <td>True</td>\n",
              "      <td>43.0</td>\n",
              "      <td>3576.0</td>\n",
              "      <td>0.0</td>\n",
              "      <td>6715.0</td>\n",
              "      <td>49.0</td>\n",
              "      <td>Altark Susent</td>\n",
              "      <td>False</td>\n",
              "    </tr>\n",
              "    <tr>\n",
              "      <th>3</th>\n",
              "      <td>0003_02</td>\n",
              "      <td>Europa</td>\n",
              "      <td>False</td>\n",
              "      <td>A/0/S</td>\n",
              "      <td>TRAPPIST-1e</td>\n",
              "      <td>33.0</td>\n",
              "      <td>False</td>\n",
              "      <td>0.0</td>\n",
              "      <td>1283.0</td>\n",
              "      <td>371.0</td>\n",
              "      <td>3329.0</td>\n",
              "      <td>193.0</td>\n",
              "      <td>Solam Susent</td>\n",
              "      <td>False</td>\n",
              "    </tr>\n",
              "    <tr>\n",
              "      <th>4</th>\n",
              "      <td>0004_01</td>\n",
              "      <td>Earth</td>\n",
              "      <td>False</td>\n",
              "      <td>F/1/S</td>\n",
              "      <td>TRAPPIST-1e</td>\n",
              "      <td>16.0</td>\n",
              "      <td>False</td>\n",
              "      <td>303.0</td>\n",
              "      <td>70.0</td>\n",
              "      <td>151.0</td>\n",
              "      <td>565.0</td>\n",
              "      <td>2.0</td>\n",
              "      <td>Willy Santantines</td>\n",
              "      <td>True</td>\n",
              "    </tr>\n",
              "    <tr>\n",
              "      <th>...</th>\n",
              "      <td>...</td>\n",
              "      <td>...</td>\n",
              "      <td>...</td>\n",
              "      <td>...</td>\n",
              "      <td>...</td>\n",
              "      <td>...</td>\n",
              "      <td>...</td>\n",
              "      <td>...</td>\n",
              "      <td>...</td>\n",
              "      <td>...</td>\n",
              "      <td>...</td>\n",
              "      <td>...</td>\n",
              "      <td>...</td>\n",
              "      <td>...</td>\n",
              "    </tr>\n",
              "    <tr>\n",
              "      <th>8688</th>\n",
              "      <td>9276_01</td>\n",
              "      <td>Europa</td>\n",
              "      <td>False</td>\n",
              "      <td>A/98/P</td>\n",
              "      <td>55 Cancri e</td>\n",
              "      <td>41.0</td>\n",
              "      <td>True</td>\n",
              "      <td>0.0</td>\n",
              "      <td>6819.0</td>\n",
              "      <td>0.0</td>\n",
              "      <td>1643.0</td>\n",
              "      <td>74.0</td>\n",
              "      <td>Gravior Noxnuther</td>\n",
              "      <td>False</td>\n",
              "    </tr>\n",
              "    <tr>\n",
              "      <th>8689</th>\n",
              "      <td>9278_01</td>\n",
              "      <td>Earth</td>\n",
              "      <td>True</td>\n",
              "      <td>G/1499/S</td>\n",
              "      <td>PSO J318.5-22</td>\n",
              "      <td>18.0</td>\n",
              "      <td>False</td>\n",
              "      <td>0.0</td>\n",
              "      <td>0.0</td>\n",
              "      <td>0.0</td>\n",
              "      <td>0.0</td>\n",
              "      <td>0.0</td>\n",
              "      <td>Kurta Mondalley</td>\n",
              "      <td>False</td>\n",
              "    </tr>\n",
              "    <tr>\n",
              "      <th>8690</th>\n",
              "      <td>9279_01</td>\n",
              "      <td>Earth</td>\n",
              "      <td>False</td>\n",
              "      <td>G/1500/S</td>\n",
              "      <td>TRAPPIST-1e</td>\n",
              "      <td>26.0</td>\n",
              "      <td>False</td>\n",
              "      <td>0.0</td>\n",
              "      <td>0.0</td>\n",
              "      <td>1872.0</td>\n",
              "      <td>1.0</td>\n",
              "      <td>0.0</td>\n",
              "      <td>Fayey Connon</td>\n",
              "      <td>True</td>\n",
              "    </tr>\n",
              "    <tr>\n",
              "      <th>8691</th>\n",
              "      <td>9280_01</td>\n",
              "      <td>Europa</td>\n",
              "      <td>False</td>\n",
              "      <td>E/608/S</td>\n",
              "      <td>55 Cancri e</td>\n",
              "      <td>32.0</td>\n",
              "      <td>False</td>\n",
              "      <td>0.0</td>\n",
              "      <td>1049.0</td>\n",
              "      <td>0.0</td>\n",
              "      <td>353.0</td>\n",
              "      <td>3235.0</td>\n",
              "      <td>Celeon Hontichre</td>\n",
              "      <td>False</td>\n",
              "    </tr>\n",
              "    <tr>\n",
              "      <th>8692</th>\n",
              "      <td>9280_02</td>\n",
              "      <td>Europa</td>\n",
              "      <td>False</td>\n",
              "      <td>E/608/S</td>\n",
              "      <td>TRAPPIST-1e</td>\n",
              "      <td>44.0</td>\n",
              "      <td>False</td>\n",
              "      <td>126.0</td>\n",
              "      <td>4688.0</td>\n",
              "      <td>0.0</td>\n",
              "      <td>0.0</td>\n",
              "      <td>12.0</td>\n",
              "      <td>Propsh Hontichre</td>\n",
              "      <td>True</td>\n",
              "    </tr>\n",
              "  </tbody>\n",
              "</table>\n",
              "<p>8693 rows × 14 columns</p>\n",
              "</div>\n",
              "      <button class=\"colab-df-convert\" onclick=\"convertToInteractive('df-69edcdfa-9b83-4341-9637-d8ba12cc74a6')\"\n",
              "              title=\"Convert this dataframe to an interactive table.\"\n",
              "              style=\"display:none;\">\n",
              "        \n",
              "  <svg xmlns=\"http://www.w3.org/2000/svg\" height=\"24px\"viewBox=\"0 0 24 24\"\n",
              "       width=\"24px\">\n",
              "    <path d=\"M0 0h24v24H0V0z\" fill=\"none\"/>\n",
              "    <path d=\"M18.56 5.44l.94 2.06.94-2.06 2.06-.94-2.06-.94-.94-2.06-.94 2.06-2.06.94zm-11 1L8.5 8.5l.94-2.06 2.06-.94-2.06-.94L8.5 2.5l-.94 2.06-2.06.94zm10 10l.94 2.06.94-2.06 2.06-.94-2.06-.94-.94-2.06-.94 2.06-2.06.94z\"/><path d=\"M17.41 7.96l-1.37-1.37c-.4-.4-.92-.59-1.43-.59-.52 0-1.04.2-1.43.59L10.3 9.45l-7.72 7.72c-.78.78-.78 2.05 0 2.83L4 21.41c.39.39.9.59 1.41.59.51 0 1.02-.2 1.41-.59l7.78-7.78 2.81-2.81c.8-.78.8-2.07 0-2.86zM5.41 20L4 18.59l7.72-7.72 1.47 1.35L5.41 20z\"/>\n",
              "  </svg>\n",
              "      </button>\n",
              "      \n",
              "  <style>\n",
              "    .colab-df-container {\n",
              "      display:flex;\n",
              "      flex-wrap:wrap;\n",
              "      gap: 12px;\n",
              "    }\n",
              "\n",
              "    .colab-df-convert {\n",
              "      background-color: #E8F0FE;\n",
              "      border: none;\n",
              "      border-radius: 50%;\n",
              "      cursor: pointer;\n",
              "      display: none;\n",
              "      fill: #1967D2;\n",
              "      height: 32px;\n",
              "      padding: 0 0 0 0;\n",
              "      width: 32px;\n",
              "    }\n",
              "\n",
              "    .colab-df-convert:hover {\n",
              "      background-color: #E2EBFA;\n",
              "      box-shadow: 0px 1px 2px rgba(60, 64, 67, 0.3), 0px 1px 3px 1px rgba(60, 64, 67, 0.15);\n",
              "      fill: #174EA6;\n",
              "    }\n",
              "\n",
              "    [theme=dark] .colab-df-convert {\n",
              "      background-color: #3B4455;\n",
              "      fill: #D2E3FC;\n",
              "    }\n",
              "\n",
              "    [theme=dark] .colab-df-convert:hover {\n",
              "      background-color: #434B5C;\n",
              "      box-shadow: 0px 1px 3px 1px rgba(0, 0, 0, 0.15);\n",
              "      filter: drop-shadow(0px 1px 2px rgba(0, 0, 0, 0.3));\n",
              "      fill: #FFFFFF;\n",
              "    }\n",
              "  </style>\n",
              "\n",
              "      <script>\n",
              "        const buttonEl =\n",
              "          document.querySelector('#df-69edcdfa-9b83-4341-9637-d8ba12cc74a6 button.colab-df-convert');\n",
              "        buttonEl.style.display =\n",
              "          google.colab.kernel.accessAllowed ? 'block' : 'none';\n",
              "\n",
              "        async function convertToInteractive(key) {\n",
              "          const element = document.querySelector('#df-69edcdfa-9b83-4341-9637-d8ba12cc74a6');\n",
              "          const dataTable =\n",
              "            await google.colab.kernel.invokeFunction('convertToInteractive',\n",
              "                                                     [key], {});\n",
              "          if (!dataTable) return;\n",
              "\n",
              "          const docLinkHtml = 'Like what you see? Visit the ' +\n",
              "            '<a target=\"_blank\" href=https://colab.research.google.com/notebooks/data_table.ipynb>data table notebook</a>'\n",
              "            + ' to learn more about interactive tables.';\n",
              "          element.innerHTML = '';\n",
              "          dataTable['output_type'] = 'display_data';\n",
              "          await google.colab.output.renderOutput(dataTable, element);\n",
              "          const docLink = document.createElement('div');\n",
              "          docLink.innerHTML = docLinkHtml;\n",
              "          element.appendChild(docLink);\n",
              "        }\n",
              "      </script>\n",
              "    </div>\n",
              "  </div>\n",
              "  "
            ]
          },
          "metadata": {},
          "execution_count": 8
        }
      ]
    },
    {
      "cell_type": "code",
      "source": [
        "train_pass_id = df_temp.PassengerId\n",
        "train_pass_id"
      ],
      "metadata": {
        "colab": {
          "base_uri": "https://localhost:8080/"
        },
        "outputId": "df8eba36-a646-46d2-d0ba-0301e08c699e",
        "id": "pZviYOCiAAxg"
      },
      "execution_count": null,
      "outputs": [
        {
          "output_type": "execute_result",
          "data": {
            "text/plain": [
              "0       0001_01\n",
              "1       0002_01\n",
              "2       0003_01\n",
              "3       0003_02\n",
              "4       0004_01\n",
              "         ...   \n",
              "8688    9276_01\n",
              "8689    9278_01\n",
              "8690    9279_01\n",
              "8691    9280_01\n",
              "8692    9280_02\n",
              "Name: PassengerId, Length: 8693, dtype: object"
            ]
          },
          "metadata": {},
          "execution_count": 9
        }
      ]
    },
    {
      "cell_type": "code",
      "source": [
        "for label, content in df_temp.items():\n",
        "    if pd.api.types.is_string_dtype(content):\n",
        "        print(label)"
      ],
      "metadata": {
        "colab": {
          "base_uri": "https://localhost:8080/"
        },
        "outputId": "739dcdc1-3d3c-4c2c-c64b-adc3a2ed9571",
        "id": "e2Nx9KXKAAxh"
      },
      "execution_count": null,
      "outputs": [
        {
          "output_type": "stream",
          "name": "stdout",
          "text": [
            "PassengerId\n",
            "HomePlanet\n",
            "CryoSleep\n",
            "Cabin\n",
            "Destination\n",
            "VIP\n",
            "Name\n"
          ]
        }
      ]
    },
    {
      "cell_type": "code",
      "source": [
        "# This will turn all string value into categories\n",
        "for label, content in df_temp.items():\n",
        "    if pd.api.types.is_string_dtype(content):\n",
        "        df_temp[label]=content.astype('category').cat.as_ordered()"
      ],
      "metadata": {
        "id": "eT8C8wSuAAxh"
      },
      "execution_count": null,
      "outputs": []
    },
    {
      "cell_type": "code",
      "source": [
        "df_temp.info()"
      ],
      "metadata": {
        "colab": {
          "base_uri": "https://localhost:8080/"
        },
        "outputId": "b86a066d-fbc6-4c03-c052-7e2207b33d10",
        "id": "PBhm9f-lAAxh"
      },
      "execution_count": null,
      "outputs": [
        {
          "output_type": "stream",
          "name": "stdout",
          "text": [
            "<class 'pandas.core.frame.DataFrame'>\n",
            "RangeIndex: 8693 entries, 0 to 8692\n",
            "Data columns (total 14 columns):\n",
            " #   Column        Non-Null Count  Dtype   \n",
            "---  ------        --------------  -----   \n",
            " 0   PassengerId   8693 non-null   category\n",
            " 1   HomePlanet    8492 non-null   category\n",
            " 2   CryoSleep     8476 non-null   category\n",
            " 3   Cabin         8494 non-null   category\n",
            " 4   Destination   8511 non-null   category\n",
            " 5   Age           8514 non-null   float64 \n",
            " 6   VIP           8490 non-null   category\n",
            " 7   RoomService   8512 non-null   float64 \n",
            " 8   FoodCourt     8510 non-null   float64 \n",
            " 9   ShoppingMall  8485 non-null   float64 \n",
            " 10  Spa           8510 non-null   float64 \n",
            " 11  VRDeck        8505 non-null   float64 \n",
            " 12  Name          8493 non-null   category\n",
            " 13  Transported   8693 non-null   bool    \n",
            "dtypes: bool(1), category(7), float64(6)\n",
            "memory usage: 1.4 MB\n"
          ]
        }
      ]
    },
    {
      "cell_type": "code",
      "source": [
        "df_temp.isnull().sum()"
      ],
      "metadata": {
        "colab": {
          "base_uri": "https://localhost:8080/"
        },
        "outputId": "eb3e00e6-0d15-4bfb-dba4-273e8cada447",
        "id": "oTlSmR_bAAxi"
      },
      "execution_count": null,
      "outputs": [
        {
          "output_type": "execute_result",
          "data": {
            "text/plain": [
              "PassengerId       0\n",
              "HomePlanet      201\n",
              "CryoSleep       217\n",
              "Cabin           199\n",
              "Destination     182\n",
              "Age             179\n",
              "VIP             203\n",
              "RoomService     181\n",
              "FoodCourt       183\n",
              "ShoppingMall    208\n",
              "Spa             183\n",
              "VRDeck          188\n",
              "Name            200\n",
              "Transported       0\n",
              "dtype: int64"
            ]
          },
          "metadata": {},
          "execution_count": 13
        }
      ]
    },
    {
      "cell_type": "code",
      "source": [
        "df_temp.head()"
      ],
      "metadata": {
        "colab": {
          "base_uri": "https://localhost:8080/",
          "height": 206
        },
        "outputId": "7b40f5bf-f30e-4022-8510-37820e347119",
        "id": "QT9oP_5tAAxi"
      },
      "execution_count": null,
      "outputs": [
        {
          "output_type": "execute_result",
          "data": {
            "text/plain": [
              "  PassengerId HomePlanet CryoSleep  Cabin  Destination   Age    VIP  \\\n",
              "0     0001_01     Europa     False  B/0/P  TRAPPIST-1e  39.0  False   \n",
              "1     0002_01      Earth     False  F/0/S  TRAPPIST-1e  24.0  False   \n",
              "2     0003_01     Europa     False  A/0/S  TRAPPIST-1e  58.0   True   \n",
              "3     0003_02     Europa     False  A/0/S  TRAPPIST-1e  33.0  False   \n",
              "4     0004_01      Earth     False  F/1/S  TRAPPIST-1e  16.0  False   \n",
              "\n",
              "   RoomService  FoodCourt  ShoppingMall     Spa  VRDeck               Name  \\\n",
              "0          0.0        0.0           0.0     0.0     0.0    Maham Ofracculy   \n",
              "1        109.0        9.0          25.0   549.0    44.0       Juanna Vines   \n",
              "2         43.0     3576.0           0.0  6715.0    49.0      Altark Susent   \n",
              "3          0.0     1283.0         371.0  3329.0   193.0       Solam Susent   \n",
              "4        303.0       70.0         151.0   565.0     2.0  Willy Santantines   \n",
              "\n",
              "   Transported  \n",
              "0        False  \n",
              "1         True  \n",
              "2        False  \n",
              "3        False  \n",
              "4         True  "
            ],
            "text/html": [
              "\n",
              "  <div id=\"df-c071fb1f-ec3e-4d18-9632-5f462f8aa6b3\">\n",
              "    <div class=\"colab-df-container\">\n",
              "      <div>\n",
              "<style scoped>\n",
              "    .dataframe tbody tr th:only-of-type {\n",
              "        vertical-align: middle;\n",
              "    }\n",
              "\n",
              "    .dataframe tbody tr th {\n",
              "        vertical-align: top;\n",
              "    }\n",
              "\n",
              "    .dataframe thead th {\n",
              "        text-align: right;\n",
              "    }\n",
              "</style>\n",
              "<table border=\"1\" class=\"dataframe\">\n",
              "  <thead>\n",
              "    <tr style=\"text-align: right;\">\n",
              "      <th></th>\n",
              "      <th>PassengerId</th>\n",
              "      <th>HomePlanet</th>\n",
              "      <th>CryoSleep</th>\n",
              "      <th>Cabin</th>\n",
              "      <th>Destination</th>\n",
              "      <th>Age</th>\n",
              "      <th>VIP</th>\n",
              "      <th>RoomService</th>\n",
              "      <th>FoodCourt</th>\n",
              "      <th>ShoppingMall</th>\n",
              "      <th>Spa</th>\n",
              "      <th>VRDeck</th>\n",
              "      <th>Name</th>\n",
              "      <th>Transported</th>\n",
              "    </tr>\n",
              "  </thead>\n",
              "  <tbody>\n",
              "    <tr>\n",
              "      <th>0</th>\n",
              "      <td>0001_01</td>\n",
              "      <td>Europa</td>\n",
              "      <td>False</td>\n",
              "      <td>B/0/P</td>\n",
              "      <td>TRAPPIST-1e</td>\n",
              "      <td>39.0</td>\n",
              "      <td>False</td>\n",
              "      <td>0.0</td>\n",
              "      <td>0.0</td>\n",
              "      <td>0.0</td>\n",
              "      <td>0.0</td>\n",
              "      <td>0.0</td>\n",
              "      <td>Maham Ofracculy</td>\n",
              "      <td>False</td>\n",
              "    </tr>\n",
              "    <tr>\n",
              "      <th>1</th>\n",
              "      <td>0002_01</td>\n",
              "      <td>Earth</td>\n",
              "      <td>False</td>\n",
              "      <td>F/0/S</td>\n",
              "      <td>TRAPPIST-1e</td>\n",
              "      <td>24.0</td>\n",
              "      <td>False</td>\n",
              "      <td>109.0</td>\n",
              "      <td>9.0</td>\n",
              "      <td>25.0</td>\n",
              "      <td>549.0</td>\n",
              "      <td>44.0</td>\n",
              "      <td>Juanna Vines</td>\n",
              "      <td>True</td>\n",
              "    </tr>\n",
              "    <tr>\n",
              "      <th>2</th>\n",
              "      <td>0003_01</td>\n",
              "      <td>Europa</td>\n",
              "      <td>False</td>\n",
              "      <td>A/0/S</td>\n",
              "      <td>TRAPPIST-1e</td>\n",
              "      <td>58.0</td>\n",
              "      <td>True</td>\n",
              "      <td>43.0</td>\n",
              "      <td>3576.0</td>\n",
              "      <td>0.0</td>\n",
              "      <td>6715.0</td>\n",
              "      <td>49.0</td>\n",
              "      <td>Altark Susent</td>\n",
              "      <td>False</td>\n",
              "    </tr>\n",
              "    <tr>\n",
              "      <th>3</th>\n",
              "      <td>0003_02</td>\n",
              "      <td>Europa</td>\n",
              "      <td>False</td>\n",
              "      <td>A/0/S</td>\n",
              "      <td>TRAPPIST-1e</td>\n",
              "      <td>33.0</td>\n",
              "      <td>False</td>\n",
              "      <td>0.0</td>\n",
              "      <td>1283.0</td>\n",
              "      <td>371.0</td>\n",
              "      <td>3329.0</td>\n",
              "      <td>193.0</td>\n",
              "      <td>Solam Susent</td>\n",
              "      <td>False</td>\n",
              "    </tr>\n",
              "    <tr>\n",
              "      <th>4</th>\n",
              "      <td>0004_01</td>\n",
              "      <td>Earth</td>\n",
              "      <td>False</td>\n",
              "      <td>F/1/S</td>\n",
              "      <td>TRAPPIST-1e</td>\n",
              "      <td>16.0</td>\n",
              "      <td>False</td>\n",
              "      <td>303.0</td>\n",
              "      <td>70.0</td>\n",
              "      <td>151.0</td>\n",
              "      <td>565.0</td>\n",
              "      <td>2.0</td>\n",
              "      <td>Willy Santantines</td>\n",
              "      <td>True</td>\n",
              "    </tr>\n",
              "  </tbody>\n",
              "</table>\n",
              "</div>\n",
              "      <button class=\"colab-df-convert\" onclick=\"convertToInteractive('df-c071fb1f-ec3e-4d18-9632-5f462f8aa6b3')\"\n",
              "              title=\"Convert this dataframe to an interactive table.\"\n",
              "              style=\"display:none;\">\n",
              "        \n",
              "  <svg xmlns=\"http://www.w3.org/2000/svg\" height=\"24px\"viewBox=\"0 0 24 24\"\n",
              "       width=\"24px\">\n",
              "    <path d=\"M0 0h24v24H0V0z\" fill=\"none\"/>\n",
              "    <path d=\"M18.56 5.44l.94 2.06.94-2.06 2.06-.94-2.06-.94-.94-2.06-.94 2.06-2.06.94zm-11 1L8.5 8.5l.94-2.06 2.06-.94-2.06-.94L8.5 2.5l-.94 2.06-2.06.94zm10 10l.94 2.06.94-2.06 2.06-.94-2.06-.94-.94-2.06-.94 2.06-2.06.94z\"/><path d=\"M17.41 7.96l-1.37-1.37c-.4-.4-.92-.59-1.43-.59-.52 0-1.04.2-1.43.59L10.3 9.45l-7.72 7.72c-.78.78-.78 2.05 0 2.83L4 21.41c.39.39.9.59 1.41.59.51 0 1.02-.2 1.41-.59l7.78-7.78 2.81-2.81c.8-.78.8-2.07 0-2.86zM5.41 20L4 18.59l7.72-7.72 1.47 1.35L5.41 20z\"/>\n",
              "  </svg>\n",
              "      </button>\n",
              "      \n",
              "  <style>\n",
              "    .colab-df-container {\n",
              "      display:flex;\n",
              "      flex-wrap:wrap;\n",
              "      gap: 12px;\n",
              "    }\n",
              "\n",
              "    .colab-df-convert {\n",
              "      background-color: #E8F0FE;\n",
              "      border: none;\n",
              "      border-radius: 50%;\n",
              "      cursor: pointer;\n",
              "      display: none;\n",
              "      fill: #1967D2;\n",
              "      height: 32px;\n",
              "      padding: 0 0 0 0;\n",
              "      width: 32px;\n",
              "    }\n",
              "\n",
              "    .colab-df-convert:hover {\n",
              "      background-color: #E2EBFA;\n",
              "      box-shadow: 0px 1px 2px rgba(60, 64, 67, 0.3), 0px 1px 3px 1px rgba(60, 64, 67, 0.15);\n",
              "      fill: #174EA6;\n",
              "    }\n",
              "\n",
              "    [theme=dark] .colab-df-convert {\n",
              "      background-color: #3B4455;\n",
              "      fill: #D2E3FC;\n",
              "    }\n",
              "\n",
              "    [theme=dark] .colab-df-convert:hover {\n",
              "      background-color: #434B5C;\n",
              "      box-shadow: 0px 1px 3px 1px rgba(0, 0, 0, 0.15);\n",
              "      filter: drop-shadow(0px 1px 2px rgba(0, 0, 0, 0.3));\n",
              "      fill: #FFFFFF;\n",
              "    }\n",
              "  </style>\n",
              "\n",
              "      <script>\n",
              "        const buttonEl =\n",
              "          document.querySelector('#df-c071fb1f-ec3e-4d18-9632-5f462f8aa6b3 button.colab-df-convert');\n",
              "        buttonEl.style.display =\n",
              "          google.colab.kernel.accessAllowed ? 'block' : 'none';\n",
              "\n",
              "        async function convertToInteractive(key) {\n",
              "          const element = document.querySelector('#df-c071fb1f-ec3e-4d18-9632-5f462f8aa6b3');\n",
              "          const dataTable =\n",
              "            await google.colab.kernel.invokeFunction('convertToInteractive',\n",
              "                                                     [key], {});\n",
              "          if (!dataTable) return;\n",
              "\n",
              "          const docLinkHtml = 'Like what you see? Visit the ' +\n",
              "            '<a target=\"_blank\" href=https://colab.research.google.com/notebooks/data_table.ipynb>data table notebook</a>'\n",
              "            + ' to learn more about interactive tables.';\n",
              "          element.innerHTML = '';\n",
              "          dataTable['output_type'] = 'display_data';\n",
              "          await google.colab.output.renderOutput(dataTable, element);\n",
              "          const docLink = document.createElement('div');\n",
              "          docLink.innerHTML = docLinkHtml;\n",
              "          element.appendChild(docLink);\n",
              "        }\n",
              "      </script>\n",
              "    </div>\n",
              "  </div>\n",
              "  "
            ]
          },
          "metadata": {},
          "execution_count": 14
        }
      ]
    },
    {
      "cell_type": "markdown",
      "source": [
        "### Filling in missing numerical features with `median` value"
      ],
      "metadata": {
        "id": "LMkFtgCPXqvx"
      }
    },
    {
      "cell_type": "code",
      "source": [
        "# This will list all numeric columns\n",
        "for label, content in df_temp.items():\n",
        "    if pd.api.types.is_numeric_dtype(content):\n",
        "        print(label)"
      ],
      "metadata": {
        "colab": {
          "base_uri": "https://localhost:8080/"
        },
        "outputId": "d0a51ba3-62fd-4544-ffc1-2c59cd12bc79",
        "id": "14k5pkJfAAxj"
      },
      "execution_count": null,
      "outputs": [
        {
          "output_type": "stream",
          "name": "stdout",
          "text": [
            "Age\n",
            "RoomService\n",
            "FoodCourt\n",
            "ShoppingMall\n",
            "Spa\n",
            "VRDeck\n",
            "Transported\n"
          ]
        }
      ]
    },
    {
      "cell_type": "code",
      "source": [
        "# Check for which numeric columns have null values\n",
        "for label, content in df_temp.items():\n",
        "    if pd.api.types.is_numeric_dtype(content):\n",
        "        if pd.isnull(content).sum():\n",
        "            print(label)"
      ],
      "metadata": {
        "colab": {
          "base_uri": "https://localhost:8080/"
        },
        "outputId": "86effbdb-2d65-4ee9-ab42-654ec192cfe5",
        "id": "Y-XHGcbRAAxj"
      },
      "execution_count": null,
      "outputs": [
        {
          "output_type": "stream",
          "name": "stdout",
          "text": [
            "Age\n",
            "RoomService\n",
            "FoodCourt\n",
            "ShoppingMall\n",
            "Spa\n",
            "VRDeck\n"
          ]
        }
      ]
    },
    {
      "cell_type": "code",
      "source": [
        "# Fill numeric columns with median value\n",
        "for label, content in df_temp.items():\n",
        "    if pd.api.types.is_numeric_dtype(content):\n",
        "        if pd.isnull(content).sum():\n",
        "          # Add a binary column which tells us if the data was missing or not\n",
        "          df_temp[label+'_is_missing'] = pd.isnull(content)\n",
        "          # Fill missing numeric valeus with median\n",
        "          fill_in_median = content.fillna(content.median())\n",
        "          df_temp[label] = fill_in_median"
      ],
      "metadata": {
        "id": "Id5YfkMgAAxj"
      },
      "execution_count": null,
      "outputs": []
    },
    {
      "cell_type": "code",
      "source": [
        "# Check for more numeric columns have null values\n",
        "for label, content in df_temp.items():\n",
        "    if pd.api.types.is_numeric_dtype(content):\n",
        "        if pd.isnull(content).sum():\n",
        "            print(label)"
      ],
      "metadata": {
        "id": "gHZqn81dAAxk"
      },
      "execution_count": null,
      "outputs": []
    },
    {
      "cell_type": "code",
      "source": [
        "# Check to see how many examples were missing\n",
        "\n",
        "df_temp.ShoppingMall.value_counts()"
      ],
      "metadata": {
        "colab": {
          "base_uri": "https://localhost:8080/"
        },
        "outputId": "ecaafef2-7db0-4f3a-e1e4-34fd8be75754",
        "id": "8rrxO8UYAAxk"
      },
      "execution_count": null,
      "outputs": [
        {
          "output_type": "execute_result",
          "data": {
            "text/plain": [
              "0.0       5795\n",
              "1.0        153\n",
              "2.0         80\n",
              "3.0         59\n",
              "4.0         45\n",
              "          ... \n",
              "3627.0       1\n",
              "2074.0       1\n",
              "871.0        1\n",
              "742.0        1\n",
              "1872.0       1\n",
              "Name: ShoppingMall, Length: 1115, dtype: int64"
            ]
          },
          "metadata": {},
          "execution_count": 19
        }
      ]
    },
    {
      "cell_type": "code",
      "source": [
        "df_temp.isna().sum()"
      ],
      "metadata": {
        "colab": {
          "base_uri": "https://localhost:8080/"
        },
        "outputId": "f40ba41d-23a0-42cf-f23a-d2699a8beb03",
        "id": "bVZ_xJy-AAxk"
      },
      "execution_count": null,
      "outputs": [
        {
          "output_type": "execute_result",
          "data": {
            "text/plain": [
              "PassengerId                  0\n",
              "HomePlanet                 201\n",
              "CryoSleep                  217\n",
              "Cabin                      199\n",
              "Destination                182\n",
              "Age                          0\n",
              "VIP                        203\n",
              "RoomService                  0\n",
              "FoodCourt                    0\n",
              "ShoppingMall                 0\n",
              "Spa                          0\n",
              "VRDeck                       0\n",
              "Name                       200\n",
              "Transported                  0\n",
              "Age_is_missing               0\n",
              "RoomService_is_missing       0\n",
              "FoodCourt_is_missing         0\n",
              "ShoppingMall_is_missing      0\n",
              "Spa_is_missing               0\n",
              "VRDeck_is_missing            0\n",
              "dtype: int64"
            ]
          },
          "metadata": {},
          "execution_count": 20
        }
      ]
    },
    {
      "cell_type": "markdown",
      "source": [
        "### Filling in missing categorical features with corresponding values"
      ],
      "metadata": {
        "id": "kLB8LdPFZ2i3"
      }
    },
    {
      "cell_type": "code",
      "source": [
        "# check for columns that are not numeric\n",
        "for label, content in df_temp.items():\n",
        "    if not pd.api.types.is_numeric_dtype(content):\n",
        "        print(label)"
      ],
      "metadata": {
        "colab": {
          "base_uri": "https://localhost:8080/"
        },
        "outputId": "1d2eb5cd-38d4-484b-a2f1-64165cbaab77",
        "id": "k6fgQBY4AAxl"
      },
      "execution_count": null,
      "outputs": [
        {
          "output_type": "stream",
          "name": "stdout",
          "text": [
            "PassengerId\n",
            "HomePlanet\n",
            "CryoSleep\n",
            "Cabin\n",
            "Destination\n",
            "VIP\n",
            "Name\n"
          ]
        }
      ]
    },
    {
      "cell_type": "code",
      "source": [
        "df_temp.head()"
      ],
      "metadata": {
        "colab": {
          "base_uri": "https://localhost:8080/",
          "height": 357
        },
        "id": "3yRKkB6QbHW7",
        "outputId": "6cc08506-133f-4d00-e323-5835f50fcec6"
      },
      "execution_count": null,
      "outputs": [
        {
          "output_type": "execute_result",
          "data": {
            "text/plain": [
              "  PassengerId HomePlanet CryoSleep  Cabin  Destination   Age    VIP  \\\n",
              "0     0001_01     Europa     False  B/0/P  TRAPPIST-1e  39.0  False   \n",
              "1     0002_01      Earth     False  F/0/S  TRAPPIST-1e  24.0  False   \n",
              "2     0003_01     Europa     False  A/0/S  TRAPPIST-1e  58.0   True   \n",
              "3     0003_02     Europa     False  A/0/S  TRAPPIST-1e  33.0  False   \n",
              "4     0004_01      Earth     False  F/1/S  TRAPPIST-1e  16.0  False   \n",
              "\n",
              "   RoomService  FoodCourt  ShoppingMall     Spa  VRDeck               Name  \\\n",
              "0          0.0        0.0           0.0     0.0     0.0    Maham Ofracculy   \n",
              "1        109.0        9.0          25.0   549.0    44.0       Juanna Vines   \n",
              "2         43.0     3576.0           0.0  6715.0    49.0      Altark Susent   \n",
              "3          0.0     1283.0         371.0  3329.0   193.0       Solam Susent   \n",
              "4        303.0       70.0         151.0   565.0     2.0  Willy Santantines   \n",
              "\n",
              "   Transported  Age_is_missing  RoomService_is_missing  FoodCourt_is_missing  \\\n",
              "0        False           False                   False                 False   \n",
              "1         True           False                   False                 False   \n",
              "2        False           False                   False                 False   \n",
              "3        False           False                   False                 False   \n",
              "4         True           False                   False                 False   \n",
              "\n",
              "   ShoppingMall_is_missing  Spa_is_missing  VRDeck_is_missing  \n",
              "0                    False           False              False  \n",
              "1                    False           False              False  \n",
              "2                    False           False              False  \n",
              "3                    False           False              False  \n",
              "4                    False           False              False  "
            ],
            "text/html": [
              "\n",
              "  <div id=\"df-ef65de66-9680-4e03-a158-f3e4aa99aca9\">\n",
              "    <div class=\"colab-df-container\">\n",
              "      <div>\n",
              "<style scoped>\n",
              "    .dataframe tbody tr th:only-of-type {\n",
              "        vertical-align: middle;\n",
              "    }\n",
              "\n",
              "    .dataframe tbody tr th {\n",
              "        vertical-align: top;\n",
              "    }\n",
              "\n",
              "    .dataframe thead th {\n",
              "        text-align: right;\n",
              "    }\n",
              "</style>\n",
              "<table border=\"1\" class=\"dataframe\">\n",
              "  <thead>\n",
              "    <tr style=\"text-align: right;\">\n",
              "      <th></th>\n",
              "      <th>PassengerId</th>\n",
              "      <th>HomePlanet</th>\n",
              "      <th>CryoSleep</th>\n",
              "      <th>Cabin</th>\n",
              "      <th>Destination</th>\n",
              "      <th>Age</th>\n",
              "      <th>VIP</th>\n",
              "      <th>RoomService</th>\n",
              "      <th>FoodCourt</th>\n",
              "      <th>ShoppingMall</th>\n",
              "      <th>Spa</th>\n",
              "      <th>VRDeck</th>\n",
              "      <th>Name</th>\n",
              "      <th>Transported</th>\n",
              "      <th>Age_is_missing</th>\n",
              "      <th>RoomService_is_missing</th>\n",
              "      <th>FoodCourt_is_missing</th>\n",
              "      <th>ShoppingMall_is_missing</th>\n",
              "      <th>Spa_is_missing</th>\n",
              "      <th>VRDeck_is_missing</th>\n",
              "    </tr>\n",
              "  </thead>\n",
              "  <tbody>\n",
              "    <tr>\n",
              "      <th>0</th>\n",
              "      <td>0001_01</td>\n",
              "      <td>Europa</td>\n",
              "      <td>False</td>\n",
              "      <td>B/0/P</td>\n",
              "      <td>TRAPPIST-1e</td>\n",
              "      <td>39.0</td>\n",
              "      <td>False</td>\n",
              "      <td>0.0</td>\n",
              "      <td>0.0</td>\n",
              "      <td>0.0</td>\n",
              "      <td>0.0</td>\n",
              "      <td>0.0</td>\n",
              "      <td>Maham Ofracculy</td>\n",
              "      <td>False</td>\n",
              "      <td>False</td>\n",
              "      <td>False</td>\n",
              "      <td>False</td>\n",
              "      <td>False</td>\n",
              "      <td>False</td>\n",
              "      <td>False</td>\n",
              "    </tr>\n",
              "    <tr>\n",
              "      <th>1</th>\n",
              "      <td>0002_01</td>\n",
              "      <td>Earth</td>\n",
              "      <td>False</td>\n",
              "      <td>F/0/S</td>\n",
              "      <td>TRAPPIST-1e</td>\n",
              "      <td>24.0</td>\n",
              "      <td>False</td>\n",
              "      <td>109.0</td>\n",
              "      <td>9.0</td>\n",
              "      <td>25.0</td>\n",
              "      <td>549.0</td>\n",
              "      <td>44.0</td>\n",
              "      <td>Juanna Vines</td>\n",
              "      <td>True</td>\n",
              "      <td>False</td>\n",
              "      <td>False</td>\n",
              "      <td>False</td>\n",
              "      <td>False</td>\n",
              "      <td>False</td>\n",
              "      <td>False</td>\n",
              "    </tr>\n",
              "    <tr>\n",
              "      <th>2</th>\n",
              "      <td>0003_01</td>\n",
              "      <td>Europa</td>\n",
              "      <td>False</td>\n",
              "      <td>A/0/S</td>\n",
              "      <td>TRAPPIST-1e</td>\n",
              "      <td>58.0</td>\n",
              "      <td>True</td>\n",
              "      <td>43.0</td>\n",
              "      <td>3576.0</td>\n",
              "      <td>0.0</td>\n",
              "      <td>6715.0</td>\n",
              "      <td>49.0</td>\n",
              "      <td>Altark Susent</td>\n",
              "      <td>False</td>\n",
              "      <td>False</td>\n",
              "      <td>False</td>\n",
              "      <td>False</td>\n",
              "      <td>False</td>\n",
              "      <td>False</td>\n",
              "      <td>False</td>\n",
              "    </tr>\n",
              "    <tr>\n",
              "      <th>3</th>\n",
              "      <td>0003_02</td>\n",
              "      <td>Europa</td>\n",
              "      <td>False</td>\n",
              "      <td>A/0/S</td>\n",
              "      <td>TRAPPIST-1e</td>\n",
              "      <td>33.0</td>\n",
              "      <td>False</td>\n",
              "      <td>0.0</td>\n",
              "      <td>1283.0</td>\n",
              "      <td>371.0</td>\n",
              "      <td>3329.0</td>\n",
              "      <td>193.0</td>\n",
              "      <td>Solam Susent</td>\n",
              "      <td>False</td>\n",
              "      <td>False</td>\n",
              "      <td>False</td>\n",
              "      <td>False</td>\n",
              "      <td>False</td>\n",
              "      <td>False</td>\n",
              "      <td>False</td>\n",
              "    </tr>\n",
              "    <tr>\n",
              "      <th>4</th>\n",
              "      <td>0004_01</td>\n",
              "      <td>Earth</td>\n",
              "      <td>False</td>\n",
              "      <td>F/1/S</td>\n",
              "      <td>TRAPPIST-1e</td>\n",
              "      <td>16.0</td>\n",
              "      <td>False</td>\n",
              "      <td>303.0</td>\n",
              "      <td>70.0</td>\n",
              "      <td>151.0</td>\n",
              "      <td>565.0</td>\n",
              "      <td>2.0</td>\n",
              "      <td>Willy Santantines</td>\n",
              "      <td>True</td>\n",
              "      <td>False</td>\n",
              "      <td>False</td>\n",
              "      <td>False</td>\n",
              "      <td>False</td>\n",
              "      <td>False</td>\n",
              "      <td>False</td>\n",
              "    </tr>\n",
              "  </tbody>\n",
              "</table>\n",
              "</div>\n",
              "      <button class=\"colab-df-convert\" onclick=\"convertToInteractive('df-ef65de66-9680-4e03-a158-f3e4aa99aca9')\"\n",
              "              title=\"Convert this dataframe to an interactive table.\"\n",
              "              style=\"display:none;\">\n",
              "        \n",
              "  <svg xmlns=\"http://www.w3.org/2000/svg\" height=\"24px\"viewBox=\"0 0 24 24\"\n",
              "       width=\"24px\">\n",
              "    <path d=\"M0 0h24v24H0V0z\" fill=\"none\"/>\n",
              "    <path d=\"M18.56 5.44l.94 2.06.94-2.06 2.06-.94-2.06-.94-.94-2.06-.94 2.06-2.06.94zm-11 1L8.5 8.5l.94-2.06 2.06-.94-2.06-.94L8.5 2.5l-.94 2.06-2.06.94zm10 10l.94 2.06.94-2.06 2.06-.94-2.06-.94-.94-2.06-.94 2.06-2.06.94z\"/><path d=\"M17.41 7.96l-1.37-1.37c-.4-.4-.92-.59-1.43-.59-.52 0-1.04.2-1.43.59L10.3 9.45l-7.72 7.72c-.78.78-.78 2.05 0 2.83L4 21.41c.39.39.9.59 1.41.59.51 0 1.02-.2 1.41-.59l7.78-7.78 2.81-2.81c.8-.78.8-2.07 0-2.86zM5.41 20L4 18.59l7.72-7.72 1.47 1.35L5.41 20z\"/>\n",
              "  </svg>\n",
              "      </button>\n",
              "      \n",
              "  <style>\n",
              "    .colab-df-container {\n",
              "      display:flex;\n",
              "      flex-wrap:wrap;\n",
              "      gap: 12px;\n",
              "    }\n",
              "\n",
              "    .colab-df-convert {\n",
              "      background-color: #E8F0FE;\n",
              "      border: none;\n",
              "      border-radius: 50%;\n",
              "      cursor: pointer;\n",
              "      display: none;\n",
              "      fill: #1967D2;\n",
              "      height: 32px;\n",
              "      padding: 0 0 0 0;\n",
              "      width: 32px;\n",
              "    }\n",
              "\n",
              "    .colab-df-convert:hover {\n",
              "      background-color: #E2EBFA;\n",
              "      box-shadow: 0px 1px 2px rgba(60, 64, 67, 0.3), 0px 1px 3px 1px rgba(60, 64, 67, 0.15);\n",
              "      fill: #174EA6;\n",
              "    }\n",
              "\n",
              "    [theme=dark] .colab-df-convert {\n",
              "      background-color: #3B4455;\n",
              "      fill: #D2E3FC;\n",
              "    }\n",
              "\n",
              "    [theme=dark] .colab-df-convert:hover {\n",
              "      background-color: #434B5C;\n",
              "      box-shadow: 0px 1px 3px 1px rgba(0, 0, 0, 0.15);\n",
              "      filter: drop-shadow(0px 1px 2px rgba(0, 0, 0, 0.3));\n",
              "      fill: #FFFFFF;\n",
              "    }\n",
              "  </style>\n",
              "\n",
              "      <script>\n",
              "        const buttonEl =\n",
              "          document.querySelector('#df-ef65de66-9680-4e03-a158-f3e4aa99aca9 button.colab-df-convert');\n",
              "        buttonEl.style.display =\n",
              "          google.colab.kernel.accessAllowed ? 'block' : 'none';\n",
              "\n",
              "        async function convertToInteractive(key) {\n",
              "          const element = document.querySelector('#df-ef65de66-9680-4e03-a158-f3e4aa99aca9');\n",
              "          const dataTable =\n",
              "            await google.colab.kernel.invokeFunction('convertToInteractive',\n",
              "                                                     [key], {});\n",
              "          if (!dataTable) return;\n",
              "\n",
              "          const docLinkHtml = 'Like what you see? Visit the ' +\n",
              "            '<a target=\"_blank\" href=https://colab.research.google.com/notebooks/data_table.ipynb>data table notebook</a>'\n",
              "            + ' to learn more about interactive tables.';\n",
              "          element.innerHTML = '';\n",
              "          dataTable['output_type'] = 'display_data';\n",
              "          await google.colab.output.renderOutput(dataTable, element);\n",
              "          const docLink = document.createElement('div');\n",
              "          docLink.innerHTML = docLinkHtml;\n",
              "          element.appendChild(docLink);\n",
              "        }\n",
              "      </script>\n",
              "    </div>\n",
              "  </div>\n",
              "  "
            ]
          },
          "metadata": {},
          "execution_count": 22
        }
      ]
    },
    {
      "cell_type": "markdown",
      "source": [
        "#### Data description:\n",
        "\n",
        "`PassengerId` - A unique Id for each passenger. Each Id takes the form gggg_pp where gggg indicates a group the passenger is travelling with and pp is their number within the group. People in a group are often family members, but not always.\n",
        "\n",
        "`Cabin` - The cabin number where the passenger is staying. Takes the form deck/num/side, where side can be either P for Port or S for Starboard."
      ],
      "metadata": {
        "id": "T6bfOEFEbdiA"
      }
    },
    {
      "cell_type": "code",
      "source": [
        "df_temp[[\"Cabin_deck\",\"Cabin_no.\",\"Cabin_side\"]]=df_temp[\"Cabin\"].str.split(\"/\",expand=True)\n",
        "df_temp.drop(columns=[\"Cabin\"],inplace=True)\n",
        "\n",
        "df_temp[[\"firstname\",\"last_name\"]]=df_temp[\"Name\"].str.split(\" \",expand=True)\n",
        "df_temp.drop(columns=[\"Name\"],inplace=True)\n",
        "\n",
        "df_temp[[\"PassengerId_group\",\"PassenngerId_no\"]]=df_temp[\"PassengerId\"].str.split(\"_\",expand=True)\n",
        "df_temp.drop(columns=[\"PassengerId\"],inplace=True)   # -> we have train_pass_id"
      ],
      "metadata": {
        "id": "ybpFwDVhd_s_"
      },
      "execution_count": null,
      "outputs": []
    },
    {
      "cell_type": "code",
      "source": [
        "train_pass_id"
      ],
      "metadata": {
        "colab": {
          "base_uri": "https://localhost:8080/"
        },
        "id": "NHKhQewre4jq",
        "outputId": "2af93db1-d8dd-4e11-c9de-ee4a4405767d"
      },
      "execution_count": null,
      "outputs": [
        {
          "output_type": "execute_result",
          "data": {
            "text/plain": [
              "0       0001_01\n",
              "1       0002_01\n",
              "2       0003_01\n",
              "3       0003_02\n",
              "4       0004_01\n",
              "         ...   \n",
              "8688    9276_01\n",
              "8689    9278_01\n",
              "8690    9279_01\n",
              "8691    9280_01\n",
              "8692    9280_02\n",
              "Name: PassengerId, Length: 8693, dtype: object"
            ]
          },
          "metadata": {},
          "execution_count": 24
        }
      ]
    },
    {
      "cell_type": "code",
      "source": [
        "df_temp.head()"
      ],
      "metadata": {
        "colab": {
          "base_uri": "https://localhost:8080/",
          "height": 386
        },
        "id": "aDhTcK7-dN3E",
        "outputId": "b8f270a3-ce26-4d98-996d-93f7701b1abc"
      },
      "execution_count": null,
      "outputs": [
        {
          "output_type": "execute_result",
          "data": {
            "text/plain": [
              "  HomePlanet CryoSleep  Destination   Age    VIP  RoomService  FoodCourt  \\\n",
              "0     Europa     False  TRAPPIST-1e  39.0  False          0.0        0.0   \n",
              "1      Earth     False  TRAPPIST-1e  24.0  False        109.0        9.0   \n",
              "2     Europa     False  TRAPPIST-1e  58.0   True         43.0     3576.0   \n",
              "3     Europa     False  TRAPPIST-1e  33.0  False          0.0     1283.0   \n",
              "4      Earth     False  TRAPPIST-1e  16.0  False        303.0       70.0   \n",
              "\n",
              "   ShoppingMall     Spa  VRDeck  ...  ShoppingMall_is_missing  Spa_is_missing  \\\n",
              "0           0.0     0.0     0.0  ...                    False           False   \n",
              "1          25.0   549.0    44.0  ...                    False           False   \n",
              "2           0.0  6715.0    49.0  ...                    False           False   \n",
              "3         371.0  3329.0   193.0  ...                    False           False   \n",
              "4         151.0   565.0     2.0  ...                    False           False   \n",
              "\n",
              "   VRDeck_is_missing  Cabin_deck  Cabin_no.  Cabin_side  firstname  \\\n",
              "0              False           B          0           P      Maham   \n",
              "1              False           F          0           S     Juanna   \n",
              "2              False           A          0           S     Altark   \n",
              "3              False           A          0           S      Solam   \n",
              "4              False           F          1           S      Willy   \n",
              "\n",
              "     last_name PassengerId_group PassenngerId_no  \n",
              "0    Ofracculy              0001              01  \n",
              "1        Vines              0002              01  \n",
              "2       Susent              0003              01  \n",
              "3       Susent              0003              02  \n",
              "4  Santantines              0004              01  \n",
              "\n",
              "[5 rows x 24 columns]"
            ],
            "text/html": [
              "\n",
              "  <div id=\"df-7e742f6b-5051-41a5-a8b7-3ffb9821212e\">\n",
              "    <div class=\"colab-df-container\">\n",
              "      <div>\n",
              "<style scoped>\n",
              "    .dataframe tbody tr th:only-of-type {\n",
              "        vertical-align: middle;\n",
              "    }\n",
              "\n",
              "    .dataframe tbody tr th {\n",
              "        vertical-align: top;\n",
              "    }\n",
              "\n",
              "    .dataframe thead th {\n",
              "        text-align: right;\n",
              "    }\n",
              "</style>\n",
              "<table border=\"1\" class=\"dataframe\">\n",
              "  <thead>\n",
              "    <tr style=\"text-align: right;\">\n",
              "      <th></th>\n",
              "      <th>HomePlanet</th>\n",
              "      <th>CryoSleep</th>\n",
              "      <th>Destination</th>\n",
              "      <th>Age</th>\n",
              "      <th>VIP</th>\n",
              "      <th>RoomService</th>\n",
              "      <th>FoodCourt</th>\n",
              "      <th>ShoppingMall</th>\n",
              "      <th>Spa</th>\n",
              "      <th>VRDeck</th>\n",
              "      <th>...</th>\n",
              "      <th>ShoppingMall_is_missing</th>\n",
              "      <th>Spa_is_missing</th>\n",
              "      <th>VRDeck_is_missing</th>\n",
              "      <th>Cabin_deck</th>\n",
              "      <th>Cabin_no.</th>\n",
              "      <th>Cabin_side</th>\n",
              "      <th>firstname</th>\n",
              "      <th>last_name</th>\n",
              "      <th>PassengerId_group</th>\n",
              "      <th>PassenngerId_no</th>\n",
              "    </tr>\n",
              "  </thead>\n",
              "  <tbody>\n",
              "    <tr>\n",
              "      <th>0</th>\n",
              "      <td>Europa</td>\n",
              "      <td>False</td>\n",
              "      <td>TRAPPIST-1e</td>\n",
              "      <td>39.0</td>\n",
              "      <td>False</td>\n",
              "      <td>0.0</td>\n",
              "      <td>0.0</td>\n",
              "      <td>0.0</td>\n",
              "      <td>0.0</td>\n",
              "      <td>0.0</td>\n",
              "      <td>...</td>\n",
              "      <td>False</td>\n",
              "      <td>False</td>\n",
              "      <td>False</td>\n",
              "      <td>B</td>\n",
              "      <td>0</td>\n",
              "      <td>P</td>\n",
              "      <td>Maham</td>\n",
              "      <td>Ofracculy</td>\n",
              "      <td>0001</td>\n",
              "      <td>01</td>\n",
              "    </tr>\n",
              "    <tr>\n",
              "      <th>1</th>\n",
              "      <td>Earth</td>\n",
              "      <td>False</td>\n",
              "      <td>TRAPPIST-1e</td>\n",
              "      <td>24.0</td>\n",
              "      <td>False</td>\n",
              "      <td>109.0</td>\n",
              "      <td>9.0</td>\n",
              "      <td>25.0</td>\n",
              "      <td>549.0</td>\n",
              "      <td>44.0</td>\n",
              "      <td>...</td>\n",
              "      <td>False</td>\n",
              "      <td>False</td>\n",
              "      <td>False</td>\n",
              "      <td>F</td>\n",
              "      <td>0</td>\n",
              "      <td>S</td>\n",
              "      <td>Juanna</td>\n",
              "      <td>Vines</td>\n",
              "      <td>0002</td>\n",
              "      <td>01</td>\n",
              "    </tr>\n",
              "    <tr>\n",
              "      <th>2</th>\n",
              "      <td>Europa</td>\n",
              "      <td>False</td>\n",
              "      <td>TRAPPIST-1e</td>\n",
              "      <td>58.0</td>\n",
              "      <td>True</td>\n",
              "      <td>43.0</td>\n",
              "      <td>3576.0</td>\n",
              "      <td>0.0</td>\n",
              "      <td>6715.0</td>\n",
              "      <td>49.0</td>\n",
              "      <td>...</td>\n",
              "      <td>False</td>\n",
              "      <td>False</td>\n",
              "      <td>False</td>\n",
              "      <td>A</td>\n",
              "      <td>0</td>\n",
              "      <td>S</td>\n",
              "      <td>Altark</td>\n",
              "      <td>Susent</td>\n",
              "      <td>0003</td>\n",
              "      <td>01</td>\n",
              "    </tr>\n",
              "    <tr>\n",
              "      <th>3</th>\n",
              "      <td>Europa</td>\n",
              "      <td>False</td>\n",
              "      <td>TRAPPIST-1e</td>\n",
              "      <td>33.0</td>\n",
              "      <td>False</td>\n",
              "      <td>0.0</td>\n",
              "      <td>1283.0</td>\n",
              "      <td>371.0</td>\n",
              "      <td>3329.0</td>\n",
              "      <td>193.0</td>\n",
              "      <td>...</td>\n",
              "      <td>False</td>\n",
              "      <td>False</td>\n",
              "      <td>False</td>\n",
              "      <td>A</td>\n",
              "      <td>0</td>\n",
              "      <td>S</td>\n",
              "      <td>Solam</td>\n",
              "      <td>Susent</td>\n",
              "      <td>0003</td>\n",
              "      <td>02</td>\n",
              "    </tr>\n",
              "    <tr>\n",
              "      <th>4</th>\n",
              "      <td>Earth</td>\n",
              "      <td>False</td>\n",
              "      <td>TRAPPIST-1e</td>\n",
              "      <td>16.0</td>\n",
              "      <td>False</td>\n",
              "      <td>303.0</td>\n",
              "      <td>70.0</td>\n",
              "      <td>151.0</td>\n",
              "      <td>565.0</td>\n",
              "      <td>2.0</td>\n",
              "      <td>...</td>\n",
              "      <td>False</td>\n",
              "      <td>False</td>\n",
              "      <td>False</td>\n",
              "      <td>F</td>\n",
              "      <td>1</td>\n",
              "      <td>S</td>\n",
              "      <td>Willy</td>\n",
              "      <td>Santantines</td>\n",
              "      <td>0004</td>\n",
              "      <td>01</td>\n",
              "    </tr>\n",
              "  </tbody>\n",
              "</table>\n",
              "<p>5 rows × 24 columns</p>\n",
              "</div>\n",
              "      <button class=\"colab-df-convert\" onclick=\"convertToInteractive('df-7e742f6b-5051-41a5-a8b7-3ffb9821212e')\"\n",
              "              title=\"Convert this dataframe to an interactive table.\"\n",
              "              style=\"display:none;\">\n",
              "        \n",
              "  <svg xmlns=\"http://www.w3.org/2000/svg\" height=\"24px\"viewBox=\"0 0 24 24\"\n",
              "       width=\"24px\">\n",
              "    <path d=\"M0 0h24v24H0V0z\" fill=\"none\"/>\n",
              "    <path d=\"M18.56 5.44l.94 2.06.94-2.06 2.06-.94-2.06-.94-.94-2.06-.94 2.06-2.06.94zm-11 1L8.5 8.5l.94-2.06 2.06-.94-2.06-.94L8.5 2.5l-.94 2.06-2.06.94zm10 10l.94 2.06.94-2.06 2.06-.94-2.06-.94-.94-2.06-.94 2.06-2.06.94z\"/><path d=\"M17.41 7.96l-1.37-1.37c-.4-.4-.92-.59-1.43-.59-.52 0-1.04.2-1.43.59L10.3 9.45l-7.72 7.72c-.78.78-.78 2.05 0 2.83L4 21.41c.39.39.9.59 1.41.59.51 0 1.02-.2 1.41-.59l7.78-7.78 2.81-2.81c.8-.78.8-2.07 0-2.86zM5.41 20L4 18.59l7.72-7.72 1.47 1.35L5.41 20z\"/>\n",
              "  </svg>\n",
              "      </button>\n",
              "      \n",
              "  <style>\n",
              "    .colab-df-container {\n",
              "      display:flex;\n",
              "      flex-wrap:wrap;\n",
              "      gap: 12px;\n",
              "    }\n",
              "\n",
              "    .colab-df-convert {\n",
              "      background-color: #E8F0FE;\n",
              "      border: none;\n",
              "      border-radius: 50%;\n",
              "      cursor: pointer;\n",
              "      display: none;\n",
              "      fill: #1967D2;\n",
              "      height: 32px;\n",
              "      padding: 0 0 0 0;\n",
              "      width: 32px;\n",
              "    }\n",
              "\n",
              "    .colab-df-convert:hover {\n",
              "      background-color: #E2EBFA;\n",
              "      box-shadow: 0px 1px 2px rgba(60, 64, 67, 0.3), 0px 1px 3px 1px rgba(60, 64, 67, 0.15);\n",
              "      fill: #174EA6;\n",
              "    }\n",
              "\n",
              "    [theme=dark] .colab-df-convert {\n",
              "      background-color: #3B4455;\n",
              "      fill: #D2E3FC;\n",
              "    }\n",
              "\n",
              "    [theme=dark] .colab-df-convert:hover {\n",
              "      background-color: #434B5C;\n",
              "      box-shadow: 0px 1px 3px 1px rgba(0, 0, 0, 0.15);\n",
              "      filter: drop-shadow(0px 1px 2px rgba(0, 0, 0, 0.3));\n",
              "      fill: #FFFFFF;\n",
              "    }\n",
              "  </style>\n",
              "\n",
              "      <script>\n",
              "        const buttonEl =\n",
              "          document.querySelector('#df-7e742f6b-5051-41a5-a8b7-3ffb9821212e button.colab-df-convert');\n",
              "        buttonEl.style.display =\n",
              "          google.colab.kernel.accessAllowed ? 'block' : 'none';\n",
              "\n",
              "        async function convertToInteractive(key) {\n",
              "          const element = document.querySelector('#df-7e742f6b-5051-41a5-a8b7-3ffb9821212e');\n",
              "          const dataTable =\n",
              "            await google.colab.kernel.invokeFunction('convertToInteractive',\n",
              "                                                     [key], {});\n",
              "          if (!dataTable) return;\n",
              "\n",
              "          const docLinkHtml = 'Like what you see? Visit the ' +\n",
              "            '<a target=\"_blank\" href=https://colab.research.google.com/notebooks/data_table.ipynb>data table notebook</a>'\n",
              "            + ' to learn more about interactive tables.';\n",
              "          element.innerHTML = '';\n",
              "          dataTable['output_type'] = 'display_data';\n",
              "          await google.colab.output.renderOutput(dataTable, element);\n",
              "          const docLink = document.createElement('div');\n",
              "          docLink.innerHTML = docLinkHtml;\n",
              "          element.appendChild(docLink);\n",
              "        }\n",
              "      </script>\n",
              "    </div>\n",
              "  </div>\n",
              "  "
            ]
          },
          "metadata": {},
          "execution_count": 25
        }
      ]
    },
    {
      "cell_type": "code",
      "source": [
        "# check for columns that are not numeric\n",
        "for label, content in df_temp.items():\n",
        "    if not pd.api.types.is_numeric_dtype(content):\n",
        "        print(label)"
      ],
      "metadata": {
        "colab": {
          "base_uri": "https://localhost:8080/"
        },
        "id": "Cq-W9_Keib7q",
        "outputId": "c9dd2dec-530f-4bf5-d807-f24725716dcf"
      },
      "execution_count": null,
      "outputs": [
        {
          "output_type": "stream",
          "name": "stdout",
          "text": [
            "HomePlanet\n",
            "CryoSleep\n",
            "Destination\n",
            "VIP\n",
            "Cabin_deck\n",
            "Cabin_no.\n",
            "Cabin_side\n",
            "firstname\n",
            "last_name\n",
            "PassengerId_group\n",
            "PassenngerId_no\n"
          ]
        }
      ]
    },
    {
      "cell_type": "code",
      "source": [
        "df_temp.isna().sum()"
      ],
      "metadata": {
        "colab": {
          "base_uri": "https://localhost:8080/"
        },
        "id": "RL03FtJAkmAh",
        "outputId": "4659f56f-d7c1-4c89-aa88-a318c0a62d5e"
      },
      "execution_count": null,
      "outputs": [
        {
          "output_type": "execute_result",
          "data": {
            "text/plain": [
              "HomePlanet                 201\n",
              "CryoSleep                  217\n",
              "Destination                182\n",
              "Age                          0\n",
              "VIP                        203\n",
              "RoomService                  0\n",
              "FoodCourt                    0\n",
              "ShoppingMall                 0\n",
              "Spa                          0\n",
              "VRDeck                       0\n",
              "Transported                  0\n",
              "Age_is_missing               0\n",
              "RoomService_is_missing       0\n",
              "FoodCourt_is_missing         0\n",
              "ShoppingMall_is_missing      0\n",
              "Spa_is_missing               0\n",
              "VRDeck_is_missing            0\n",
              "Cabin_deck                 199\n",
              "Cabin_no.                  199\n",
              "Cabin_side                 199\n",
              "firstname                  200\n",
              "last_name                  200\n",
              "PassengerId_group            0\n",
              "PassenngerId_no              0\n",
              "dtype: int64"
            ]
          },
          "metadata": {},
          "execution_count": 27
        }
      ]
    },
    {
      "cell_type": "code",
      "source": [
        "# Turn categorical variables into numbers and fill missing\n",
        "for label, content in df_temp.items():\n",
        "    if not pd.api.types.is_numeric_dtype(content):\n",
        "        # Add a binary column to indicate weather sample has a missing value\n",
        "        df_temp[label+'_is_missing'] = pd.isnull(content)\n",
        "        # Turn categories into numbers and add +1\n",
        "        df_temp[label] = pd.Categorical(content).codes +1"
      ],
      "metadata": {
        "id": "flXhTcIhAAxn"
      },
      "execution_count": null,
      "outputs": []
    },
    {
      "cell_type": "code",
      "source": [
        "# Check for more categorical columns have null values\n",
        "for label, content in df_temp.items():\n",
        "    if not pd.api.types.is_numeric_dtype(content):\n",
        "        if pd.isnull(content).sum():\n",
        "            print(label)"
      ],
      "metadata": {
        "id": "D66WJCpoAAxn"
      },
      "execution_count": null,
      "outputs": []
    },
    {
      "cell_type": "code",
      "source": [
        "df_temp.isna().sum()"
      ],
      "metadata": {
        "colab": {
          "base_uri": "https://localhost:8080/"
        },
        "outputId": "2e6612be-48a4-4bc3-8ee3-37e7be098a5a",
        "id": "7URzpCrCAAxo"
      },
      "execution_count": null,
      "outputs": [
        {
          "output_type": "execute_result",
          "data": {
            "text/plain": [
              "HomePlanet                      0\n",
              "CryoSleep                       0\n",
              "Destination                     0\n",
              "Age                             0\n",
              "VIP                             0\n",
              "RoomService                     0\n",
              "FoodCourt                       0\n",
              "ShoppingMall                    0\n",
              "Spa                             0\n",
              "VRDeck                          0\n",
              "Transported                     0\n",
              "Age_is_missing                  0\n",
              "RoomService_is_missing          0\n",
              "FoodCourt_is_missing            0\n",
              "ShoppingMall_is_missing         0\n",
              "Spa_is_missing                  0\n",
              "VRDeck_is_missing               0\n",
              "Cabin_deck                      0\n",
              "Cabin_no.                       0\n",
              "Cabin_side                      0\n",
              "firstname                       0\n",
              "last_name                       0\n",
              "PassengerId_group               0\n",
              "PassenngerId_no                 0\n",
              "HomePlanet_is_missing           0\n",
              "CryoSleep_is_missing            0\n",
              "Destination_is_missing          0\n",
              "VIP_is_missing                  0\n",
              "Cabin_deck_is_missing           0\n",
              "Cabin_no._is_missing            0\n",
              "Cabin_side_is_missing           0\n",
              "firstname_is_missing            0\n",
              "last_name_is_missing            0\n",
              "PassengerId_group_is_missing    0\n",
              "PassenngerId_no_is_missing      0\n",
              "dtype: int64"
            ]
          },
          "metadata": {},
          "execution_count": 30
        }
      ]
    },
    {
      "cell_type": "code",
      "source": [
        "df_temp.Transported.head()"
      ],
      "metadata": {
        "colab": {
          "base_uri": "https://localhost:8080/"
        },
        "outputId": "7d52fe9f-2c84-4a65-a8c4-4b1c0ce87920",
        "id": "N_cxShjfAAxo"
      },
      "execution_count": null,
      "outputs": [
        {
          "output_type": "execute_result",
          "data": {
            "text/plain": [
              "0    False\n",
              "1     True\n",
              "2    False\n",
              "3    False\n",
              "4     True\n",
              "Name: Transported, dtype: bool"
            ]
          },
          "metadata": {},
          "execution_count": 31
        }
      ]
    },
    {
      "cell_type": "code",
      "source": [
        "df_temp.head()"
      ],
      "metadata": {
        "colab": {
          "base_uri": "https://localhost:8080/",
          "height": 300
        },
        "outputId": "9b3e54d5-d167-4026-a80f-53165fc56163",
        "id": "RbbpnoGoAAxp"
      },
      "execution_count": null,
      "outputs": [
        {
          "output_type": "execute_result",
          "data": {
            "text/plain": [
              "   HomePlanet  CryoSleep  Destination   Age  VIP  RoomService  FoodCourt  \\\n",
              "0           2          1            3  39.0    1          0.0        0.0   \n",
              "1           1          1            3  24.0    1        109.0        9.0   \n",
              "2           2          1            3  58.0    2         43.0     3576.0   \n",
              "3           2          1            3  33.0    1          0.0     1283.0   \n",
              "4           1          1            3  16.0    1        303.0       70.0   \n",
              "\n",
              "   ShoppingMall     Spa  VRDeck  ...  CryoSleep_is_missing  \\\n",
              "0           0.0     0.0     0.0  ...                 False   \n",
              "1          25.0   549.0    44.0  ...                 False   \n",
              "2           0.0  6715.0    49.0  ...                 False   \n",
              "3         371.0  3329.0   193.0  ...                 False   \n",
              "4         151.0   565.0     2.0  ...                 False   \n",
              "\n",
              "   Destination_is_missing  VIP_is_missing  Cabin_deck_is_missing  \\\n",
              "0                   False           False                  False   \n",
              "1                   False           False                  False   \n",
              "2                   False           False                  False   \n",
              "3                   False           False                  False   \n",
              "4                   False           False                  False   \n",
              "\n",
              "   Cabin_no._is_missing  Cabin_side_is_missing  firstname_is_missing  \\\n",
              "0                 False                  False                 False   \n",
              "1                 False                  False                 False   \n",
              "2                 False                  False                 False   \n",
              "3                 False                  False                 False   \n",
              "4                 False                  False                 False   \n",
              "\n",
              "   last_name_is_missing  PassengerId_group_is_missing  \\\n",
              "0                 False                         False   \n",
              "1                 False                         False   \n",
              "2                 False                         False   \n",
              "3                 False                         False   \n",
              "4                 False                         False   \n",
              "\n",
              "   PassenngerId_no_is_missing  \n",
              "0                       False  \n",
              "1                       False  \n",
              "2                       False  \n",
              "3                       False  \n",
              "4                       False  \n",
              "\n",
              "[5 rows x 35 columns]"
            ],
            "text/html": [
              "\n",
              "  <div id=\"df-f5b39e25-0051-44f7-a072-e8b7388273e4\">\n",
              "    <div class=\"colab-df-container\">\n",
              "      <div>\n",
              "<style scoped>\n",
              "    .dataframe tbody tr th:only-of-type {\n",
              "        vertical-align: middle;\n",
              "    }\n",
              "\n",
              "    .dataframe tbody tr th {\n",
              "        vertical-align: top;\n",
              "    }\n",
              "\n",
              "    .dataframe thead th {\n",
              "        text-align: right;\n",
              "    }\n",
              "</style>\n",
              "<table border=\"1\" class=\"dataframe\">\n",
              "  <thead>\n",
              "    <tr style=\"text-align: right;\">\n",
              "      <th></th>\n",
              "      <th>HomePlanet</th>\n",
              "      <th>CryoSleep</th>\n",
              "      <th>Destination</th>\n",
              "      <th>Age</th>\n",
              "      <th>VIP</th>\n",
              "      <th>RoomService</th>\n",
              "      <th>FoodCourt</th>\n",
              "      <th>ShoppingMall</th>\n",
              "      <th>Spa</th>\n",
              "      <th>VRDeck</th>\n",
              "      <th>...</th>\n",
              "      <th>CryoSleep_is_missing</th>\n",
              "      <th>Destination_is_missing</th>\n",
              "      <th>VIP_is_missing</th>\n",
              "      <th>Cabin_deck_is_missing</th>\n",
              "      <th>Cabin_no._is_missing</th>\n",
              "      <th>Cabin_side_is_missing</th>\n",
              "      <th>firstname_is_missing</th>\n",
              "      <th>last_name_is_missing</th>\n",
              "      <th>PassengerId_group_is_missing</th>\n",
              "      <th>PassenngerId_no_is_missing</th>\n",
              "    </tr>\n",
              "  </thead>\n",
              "  <tbody>\n",
              "    <tr>\n",
              "      <th>0</th>\n",
              "      <td>2</td>\n",
              "      <td>1</td>\n",
              "      <td>3</td>\n",
              "      <td>39.0</td>\n",
              "      <td>1</td>\n",
              "      <td>0.0</td>\n",
              "      <td>0.0</td>\n",
              "      <td>0.0</td>\n",
              "      <td>0.0</td>\n",
              "      <td>0.0</td>\n",
              "      <td>...</td>\n",
              "      <td>False</td>\n",
              "      <td>False</td>\n",
              "      <td>False</td>\n",
              "      <td>False</td>\n",
              "      <td>False</td>\n",
              "      <td>False</td>\n",
              "      <td>False</td>\n",
              "      <td>False</td>\n",
              "      <td>False</td>\n",
              "      <td>False</td>\n",
              "    </tr>\n",
              "    <tr>\n",
              "      <th>1</th>\n",
              "      <td>1</td>\n",
              "      <td>1</td>\n",
              "      <td>3</td>\n",
              "      <td>24.0</td>\n",
              "      <td>1</td>\n",
              "      <td>109.0</td>\n",
              "      <td>9.0</td>\n",
              "      <td>25.0</td>\n",
              "      <td>549.0</td>\n",
              "      <td>44.0</td>\n",
              "      <td>...</td>\n",
              "      <td>False</td>\n",
              "      <td>False</td>\n",
              "      <td>False</td>\n",
              "      <td>False</td>\n",
              "      <td>False</td>\n",
              "      <td>False</td>\n",
              "      <td>False</td>\n",
              "      <td>False</td>\n",
              "      <td>False</td>\n",
              "      <td>False</td>\n",
              "    </tr>\n",
              "    <tr>\n",
              "      <th>2</th>\n",
              "      <td>2</td>\n",
              "      <td>1</td>\n",
              "      <td>3</td>\n",
              "      <td>58.0</td>\n",
              "      <td>2</td>\n",
              "      <td>43.0</td>\n",
              "      <td>3576.0</td>\n",
              "      <td>0.0</td>\n",
              "      <td>6715.0</td>\n",
              "      <td>49.0</td>\n",
              "      <td>...</td>\n",
              "      <td>False</td>\n",
              "      <td>False</td>\n",
              "      <td>False</td>\n",
              "      <td>False</td>\n",
              "      <td>False</td>\n",
              "      <td>False</td>\n",
              "      <td>False</td>\n",
              "      <td>False</td>\n",
              "      <td>False</td>\n",
              "      <td>False</td>\n",
              "    </tr>\n",
              "    <tr>\n",
              "      <th>3</th>\n",
              "      <td>2</td>\n",
              "      <td>1</td>\n",
              "      <td>3</td>\n",
              "      <td>33.0</td>\n",
              "      <td>1</td>\n",
              "      <td>0.0</td>\n",
              "      <td>1283.0</td>\n",
              "      <td>371.0</td>\n",
              "      <td>3329.0</td>\n",
              "      <td>193.0</td>\n",
              "      <td>...</td>\n",
              "      <td>False</td>\n",
              "      <td>False</td>\n",
              "      <td>False</td>\n",
              "      <td>False</td>\n",
              "      <td>False</td>\n",
              "      <td>False</td>\n",
              "      <td>False</td>\n",
              "      <td>False</td>\n",
              "      <td>False</td>\n",
              "      <td>False</td>\n",
              "    </tr>\n",
              "    <tr>\n",
              "      <th>4</th>\n",
              "      <td>1</td>\n",
              "      <td>1</td>\n",
              "      <td>3</td>\n",
              "      <td>16.0</td>\n",
              "      <td>1</td>\n",
              "      <td>303.0</td>\n",
              "      <td>70.0</td>\n",
              "      <td>151.0</td>\n",
              "      <td>565.0</td>\n",
              "      <td>2.0</td>\n",
              "      <td>...</td>\n",
              "      <td>False</td>\n",
              "      <td>False</td>\n",
              "      <td>False</td>\n",
              "      <td>False</td>\n",
              "      <td>False</td>\n",
              "      <td>False</td>\n",
              "      <td>False</td>\n",
              "      <td>False</td>\n",
              "      <td>False</td>\n",
              "      <td>False</td>\n",
              "    </tr>\n",
              "  </tbody>\n",
              "</table>\n",
              "<p>5 rows × 35 columns</p>\n",
              "</div>\n",
              "      <button class=\"colab-df-convert\" onclick=\"convertToInteractive('df-f5b39e25-0051-44f7-a072-e8b7388273e4')\"\n",
              "              title=\"Convert this dataframe to an interactive table.\"\n",
              "              style=\"display:none;\">\n",
              "        \n",
              "  <svg xmlns=\"http://www.w3.org/2000/svg\" height=\"24px\"viewBox=\"0 0 24 24\"\n",
              "       width=\"24px\">\n",
              "    <path d=\"M0 0h24v24H0V0z\" fill=\"none\"/>\n",
              "    <path d=\"M18.56 5.44l.94 2.06.94-2.06 2.06-.94-2.06-.94-.94-2.06-.94 2.06-2.06.94zm-11 1L8.5 8.5l.94-2.06 2.06-.94-2.06-.94L8.5 2.5l-.94 2.06-2.06.94zm10 10l.94 2.06.94-2.06 2.06-.94-2.06-.94-.94-2.06-.94 2.06-2.06.94z\"/><path d=\"M17.41 7.96l-1.37-1.37c-.4-.4-.92-.59-1.43-.59-.52 0-1.04.2-1.43.59L10.3 9.45l-7.72 7.72c-.78.78-.78 2.05 0 2.83L4 21.41c.39.39.9.59 1.41.59.51 0 1.02-.2 1.41-.59l7.78-7.78 2.81-2.81c.8-.78.8-2.07 0-2.86zM5.41 20L4 18.59l7.72-7.72 1.47 1.35L5.41 20z\"/>\n",
              "  </svg>\n",
              "      </button>\n",
              "      \n",
              "  <style>\n",
              "    .colab-df-container {\n",
              "      display:flex;\n",
              "      flex-wrap:wrap;\n",
              "      gap: 12px;\n",
              "    }\n",
              "\n",
              "    .colab-df-convert {\n",
              "      background-color: #E8F0FE;\n",
              "      border: none;\n",
              "      border-radius: 50%;\n",
              "      cursor: pointer;\n",
              "      display: none;\n",
              "      fill: #1967D2;\n",
              "      height: 32px;\n",
              "      padding: 0 0 0 0;\n",
              "      width: 32px;\n",
              "    }\n",
              "\n",
              "    .colab-df-convert:hover {\n",
              "      background-color: #E2EBFA;\n",
              "      box-shadow: 0px 1px 2px rgba(60, 64, 67, 0.3), 0px 1px 3px 1px rgba(60, 64, 67, 0.15);\n",
              "      fill: #174EA6;\n",
              "    }\n",
              "\n",
              "    [theme=dark] .colab-df-convert {\n",
              "      background-color: #3B4455;\n",
              "      fill: #D2E3FC;\n",
              "    }\n",
              "\n",
              "    [theme=dark] .colab-df-convert:hover {\n",
              "      background-color: #434B5C;\n",
              "      box-shadow: 0px 1px 3px 1px rgba(0, 0, 0, 0.15);\n",
              "      filter: drop-shadow(0px 1px 2px rgba(0, 0, 0, 0.3));\n",
              "      fill: #FFFFFF;\n",
              "    }\n",
              "  </style>\n",
              "\n",
              "      <script>\n",
              "        const buttonEl =\n",
              "          document.querySelector('#df-f5b39e25-0051-44f7-a072-e8b7388273e4 button.colab-df-convert');\n",
              "        buttonEl.style.display =\n",
              "          google.colab.kernel.accessAllowed ? 'block' : 'none';\n",
              "\n",
              "        async function convertToInteractive(key) {\n",
              "          const element = document.querySelector('#df-f5b39e25-0051-44f7-a072-e8b7388273e4');\n",
              "          const dataTable =\n",
              "            await google.colab.kernel.invokeFunction('convertToInteractive',\n",
              "                                                     [key], {});\n",
              "          if (!dataTable) return;\n",
              "\n",
              "          const docLinkHtml = 'Like what you see? Visit the ' +\n",
              "            '<a target=\"_blank\" href=https://colab.research.google.com/notebooks/data_table.ipynb>data table notebook</a>'\n",
              "            + ' to learn more about interactive tables.';\n",
              "          element.innerHTML = '';\n",
              "          dataTable['output_type'] = 'display_data';\n",
              "          await google.colab.output.renderOutput(dataTable, element);\n",
              "          const docLink = document.createElement('div');\n",
              "          docLink.innerHTML = docLinkHtml;\n",
              "          element.appendChild(docLink);\n",
              "        }\n",
              "      </script>\n",
              "    </div>\n",
              "  </div>\n",
              "  "
            ]
          },
          "metadata": {},
          "execution_count": 32
        }
      ]
    },
    {
      "cell_type": "code",
      "source": [
        "# X = df_temp.drop('Transported', axis=1)\n",
        "# y = df_temp.Transported"
      ],
      "metadata": {
        "id": "UxYaTzwcAAxq"
      },
      "execution_count": null,
      "outputs": []
    },
    {
      "cell_type": "code",
      "source": [
        "# #split the data into train and test sets\n",
        "\n",
        "# np.random.seed(42)\n",
        "\n",
        "# X_train = X.iloc[:int(len(X) * 0.8), :]\n",
        "# X_val = X.iloc[int(len(X) * 0.8):, :]\n",
        "# y_train = y.iloc[:int(len(y) * 0.8)]\n",
        "# y_val = y.iloc[int(len(y) * 0.8):]"
      ],
      "metadata": {
        "id": "Z5zaRtz3AAxq"
      },
      "execution_count": null,
      "outputs": []
    },
    {
      "cell_type": "markdown",
      "source": [
        "## Test data Feature engineering"
      ],
      "metadata": {
        "id": "DUBHTIz7eXrl"
      }
    },
    {
      "cell_type": "code",
      "source": [
        "test_df=pd.DataFrame(test_list, index=None)"
      ],
      "metadata": {
        "id": "-0vxMsspAAxr"
      },
      "execution_count": null,
      "outputs": []
    },
    {
      "cell_type": "code",
      "source": [
        "test_df"
      ],
      "metadata": {
        "colab": {
          "base_uri": "https://localhost:8080/",
          "height": 424
        },
        "id": "DHCxcCYUnLK9",
        "outputId": "b3e5ed86-28e9-4268-cff3-53cfe819a974"
      },
      "execution_count": null,
      "outputs": [
        {
          "output_type": "execute_result",
          "data": {
            "text/plain": [
              "     PassengerId HomePlanet CryoSleep     Cabin    Destination   Age    VIP  \\\n",
              "0        0013_01      Earth      True     G/3/S    TRAPPIST-1e  27.0  False   \n",
              "1        0018_01      Earth     False     F/4/S    TRAPPIST-1e  19.0  False   \n",
              "2        0019_01     Europa      True     C/0/S    55 Cancri e  31.0  False   \n",
              "3        0021_01     Europa     False     C/1/S    TRAPPIST-1e  38.0  False   \n",
              "4        0023_01      Earth     False     F/5/S    TRAPPIST-1e  20.0  False   \n",
              "...          ...        ...       ...       ...            ...   ...    ...   \n",
              "4272     9266_02      Earth      True  G/1496/S    TRAPPIST-1e  34.0  False   \n",
              "4273     9269_01      Earth     False       NaN    TRAPPIST-1e  42.0  False   \n",
              "4274     9271_01       Mars      True   D/296/P    55 Cancri e   NaN  False   \n",
              "4275     9273_01     Europa     False   D/297/P            NaN   NaN  False   \n",
              "4276     9277_01      Earth      True  G/1498/S  PSO J318.5-22  43.0  False   \n",
              "\n",
              "      RoomService  FoodCourt  ShoppingMall     Spa  VRDeck              Name  \n",
              "0             0.0        0.0           0.0     0.0     0.0   Nelly Carsoning  \n",
              "1             0.0        9.0           0.0  2823.0     0.0    Lerome Peckers  \n",
              "2             0.0        0.0           0.0     0.0     0.0   Sabih Unhearfus  \n",
              "3             0.0     6652.0           0.0   181.0   585.0  Meratz Caltilter  \n",
              "4            10.0        0.0         635.0     0.0     0.0   Brence Harperez  \n",
              "...           ...        ...           ...     ...     ...               ...  \n",
              "4272          0.0        0.0           0.0     0.0     0.0       Jeron Peter  \n",
              "4273          0.0      847.0          17.0    10.0   144.0     Matty Scheron  \n",
              "4274          0.0        0.0           0.0     0.0     0.0       Jayrin Pore  \n",
              "4275          0.0     2680.0           0.0     0.0   523.0    Kitakan Conale  \n",
              "4276          0.0        0.0           0.0     0.0     0.0  Lilace Leonzaley  \n",
              "\n",
              "[4277 rows x 13 columns]"
            ],
            "text/html": [
              "\n",
              "  <div id=\"df-d262423b-dbb5-4295-9cf4-1619d3a48c11\">\n",
              "    <div class=\"colab-df-container\">\n",
              "      <div>\n",
              "<style scoped>\n",
              "    .dataframe tbody tr th:only-of-type {\n",
              "        vertical-align: middle;\n",
              "    }\n",
              "\n",
              "    .dataframe tbody tr th {\n",
              "        vertical-align: top;\n",
              "    }\n",
              "\n",
              "    .dataframe thead th {\n",
              "        text-align: right;\n",
              "    }\n",
              "</style>\n",
              "<table border=\"1\" class=\"dataframe\">\n",
              "  <thead>\n",
              "    <tr style=\"text-align: right;\">\n",
              "      <th></th>\n",
              "      <th>PassengerId</th>\n",
              "      <th>HomePlanet</th>\n",
              "      <th>CryoSleep</th>\n",
              "      <th>Cabin</th>\n",
              "      <th>Destination</th>\n",
              "      <th>Age</th>\n",
              "      <th>VIP</th>\n",
              "      <th>RoomService</th>\n",
              "      <th>FoodCourt</th>\n",
              "      <th>ShoppingMall</th>\n",
              "      <th>Spa</th>\n",
              "      <th>VRDeck</th>\n",
              "      <th>Name</th>\n",
              "    </tr>\n",
              "  </thead>\n",
              "  <tbody>\n",
              "    <tr>\n",
              "      <th>0</th>\n",
              "      <td>0013_01</td>\n",
              "      <td>Earth</td>\n",
              "      <td>True</td>\n",
              "      <td>G/3/S</td>\n",
              "      <td>TRAPPIST-1e</td>\n",
              "      <td>27.0</td>\n",
              "      <td>False</td>\n",
              "      <td>0.0</td>\n",
              "      <td>0.0</td>\n",
              "      <td>0.0</td>\n",
              "      <td>0.0</td>\n",
              "      <td>0.0</td>\n",
              "      <td>Nelly Carsoning</td>\n",
              "    </tr>\n",
              "    <tr>\n",
              "      <th>1</th>\n",
              "      <td>0018_01</td>\n",
              "      <td>Earth</td>\n",
              "      <td>False</td>\n",
              "      <td>F/4/S</td>\n",
              "      <td>TRAPPIST-1e</td>\n",
              "      <td>19.0</td>\n",
              "      <td>False</td>\n",
              "      <td>0.0</td>\n",
              "      <td>9.0</td>\n",
              "      <td>0.0</td>\n",
              "      <td>2823.0</td>\n",
              "      <td>0.0</td>\n",
              "      <td>Lerome Peckers</td>\n",
              "    </tr>\n",
              "    <tr>\n",
              "      <th>2</th>\n",
              "      <td>0019_01</td>\n",
              "      <td>Europa</td>\n",
              "      <td>True</td>\n",
              "      <td>C/0/S</td>\n",
              "      <td>55 Cancri e</td>\n",
              "      <td>31.0</td>\n",
              "      <td>False</td>\n",
              "      <td>0.0</td>\n",
              "      <td>0.0</td>\n",
              "      <td>0.0</td>\n",
              "      <td>0.0</td>\n",
              "      <td>0.0</td>\n",
              "      <td>Sabih Unhearfus</td>\n",
              "    </tr>\n",
              "    <tr>\n",
              "      <th>3</th>\n",
              "      <td>0021_01</td>\n",
              "      <td>Europa</td>\n",
              "      <td>False</td>\n",
              "      <td>C/1/S</td>\n",
              "      <td>TRAPPIST-1e</td>\n",
              "      <td>38.0</td>\n",
              "      <td>False</td>\n",
              "      <td>0.0</td>\n",
              "      <td>6652.0</td>\n",
              "      <td>0.0</td>\n",
              "      <td>181.0</td>\n",
              "      <td>585.0</td>\n",
              "      <td>Meratz Caltilter</td>\n",
              "    </tr>\n",
              "    <tr>\n",
              "      <th>4</th>\n",
              "      <td>0023_01</td>\n",
              "      <td>Earth</td>\n",
              "      <td>False</td>\n",
              "      <td>F/5/S</td>\n",
              "      <td>TRAPPIST-1e</td>\n",
              "      <td>20.0</td>\n",
              "      <td>False</td>\n",
              "      <td>10.0</td>\n",
              "      <td>0.0</td>\n",
              "      <td>635.0</td>\n",
              "      <td>0.0</td>\n",
              "      <td>0.0</td>\n",
              "      <td>Brence Harperez</td>\n",
              "    </tr>\n",
              "    <tr>\n",
              "      <th>...</th>\n",
              "      <td>...</td>\n",
              "      <td>...</td>\n",
              "      <td>...</td>\n",
              "      <td>...</td>\n",
              "      <td>...</td>\n",
              "      <td>...</td>\n",
              "      <td>...</td>\n",
              "      <td>...</td>\n",
              "      <td>...</td>\n",
              "      <td>...</td>\n",
              "      <td>...</td>\n",
              "      <td>...</td>\n",
              "      <td>...</td>\n",
              "    </tr>\n",
              "    <tr>\n",
              "      <th>4272</th>\n",
              "      <td>9266_02</td>\n",
              "      <td>Earth</td>\n",
              "      <td>True</td>\n",
              "      <td>G/1496/S</td>\n",
              "      <td>TRAPPIST-1e</td>\n",
              "      <td>34.0</td>\n",
              "      <td>False</td>\n",
              "      <td>0.0</td>\n",
              "      <td>0.0</td>\n",
              "      <td>0.0</td>\n",
              "      <td>0.0</td>\n",
              "      <td>0.0</td>\n",
              "      <td>Jeron Peter</td>\n",
              "    </tr>\n",
              "    <tr>\n",
              "      <th>4273</th>\n",
              "      <td>9269_01</td>\n",
              "      <td>Earth</td>\n",
              "      <td>False</td>\n",
              "      <td>NaN</td>\n",
              "      <td>TRAPPIST-1e</td>\n",
              "      <td>42.0</td>\n",
              "      <td>False</td>\n",
              "      <td>0.0</td>\n",
              "      <td>847.0</td>\n",
              "      <td>17.0</td>\n",
              "      <td>10.0</td>\n",
              "      <td>144.0</td>\n",
              "      <td>Matty Scheron</td>\n",
              "    </tr>\n",
              "    <tr>\n",
              "      <th>4274</th>\n",
              "      <td>9271_01</td>\n",
              "      <td>Mars</td>\n",
              "      <td>True</td>\n",
              "      <td>D/296/P</td>\n",
              "      <td>55 Cancri e</td>\n",
              "      <td>NaN</td>\n",
              "      <td>False</td>\n",
              "      <td>0.0</td>\n",
              "      <td>0.0</td>\n",
              "      <td>0.0</td>\n",
              "      <td>0.0</td>\n",
              "      <td>0.0</td>\n",
              "      <td>Jayrin Pore</td>\n",
              "    </tr>\n",
              "    <tr>\n",
              "      <th>4275</th>\n",
              "      <td>9273_01</td>\n",
              "      <td>Europa</td>\n",
              "      <td>False</td>\n",
              "      <td>D/297/P</td>\n",
              "      <td>NaN</td>\n",
              "      <td>NaN</td>\n",
              "      <td>False</td>\n",
              "      <td>0.0</td>\n",
              "      <td>2680.0</td>\n",
              "      <td>0.0</td>\n",
              "      <td>0.0</td>\n",
              "      <td>523.0</td>\n",
              "      <td>Kitakan Conale</td>\n",
              "    </tr>\n",
              "    <tr>\n",
              "      <th>4276</th>\n",
              "      <td>9277_01</td>\n",
              "      <td>Earth</td>\n",
              "      <td>True</td>\n",
              "      <td>G/1498/S</td>\n",
              "      <td>PSO J318.5-22</td>\n",
              "      <td>43.0</td>\n",
              "      <td>False</td>\n",
              "      <td>0.0</td>\n",
              "      <td>0.0</td>\n",
              "      <td>0.0</td>\n",
              "      <td>0.0</td>\n",
              "      <td>0.0</td>\n",
              "      <td>Lilace Leonzaley</td>\n",
              "    </tr>\n",
              "  </tbody>\n",
              "</table>\n",
              "<p>4277 rows × 13 columns</p>\n",
              "</div>\n",
              "      <button class=\"colab-df-convert\" onclick=\"convertToInteractive('df-d262423b-dbb5-4295-9cf4-1619d3a48c11')\"\n",
              "              title=\"Convert this dataframe to an interactive table.\"\n",
              "              style=\"display:none;\">\n",
              "        \n",
              "  <svg xmlns=\"http://www.w3.org/2000/svg\" height=\"24px\"viewBox=\"0 0 24 24\"\n",
              "       width=\"24px\">\n",
              "    <path d=\"M0 0h24v24H0V0z\" fill=\"none\"/>\n",
              "    <path d=\"M18.56 5.44l.94 2.06.94-2.06 2.06-.94-2.06-.94-.94-2.06-.94 2.06-2.06.94zm-11 1L8.5 8.5l.94-2.06 2.06-.94-2.06-.94L8.5 2.5l-.94 2.06-2.06.94zm10 10l.94 2.06.94-2.06 2.06-.94-2.06-.94-.94-2.06-.94 2.06-2.06.94z\"/><path d=\"M17.41 7.96l-1.37-1.37c-.4-.4-.92-.59-1.43-.59-.52 0-1.04.2-1.43.59L10.3 9.45l-7.72 7.72c-.78.78-.78 2.05 0 2.83L4 21.41c.39.39.9.59 1.41.59.51 0 1.02-.2 1.41-.59l7.78-7.78 2.81-2.81c.8-.78.8-2.07 0-2.86zM5.41 20L4 18.59l7.72-7.72 1.47 1.35L5.41 20z\"/>\n",
              "  </svg>\n",
              "      </button>\n",
              "      \n",
              "  <style>\n",
              "    .colab-df-container {\n",
              "      display:flex;\n",
              "      flex-wrap:wrap;\n",
              "      gap: 12px;\n",
              "    }\n",
              "\n",
              "    .colab-df-convert {\n",
              "      background-color: #E8F0FE;\n",
              "      border: none;\n",
              "      border-radius: 50%;\n",
              "      cursor: pointer;\n",
              "      display: none;\n",
              "      fill: #1967D2;\n",
              "      height: 32px;\n",
              "      padding: 0 0 0 0;\n",
              "      width: 32px;\n",
              "    }\n",
              "\n",
              "    .colab-df-convert:hover {\n",
              "      background-color: #E2EBFA;\n",
              "      box-shadow: 0px 1px 2px rgba(60, 64, 67, 0.3), 0px 1px 3px 1px rgba(60, 64, 67, 0.15);\n",
              "      fill: #174EA6;\n",
              "    }\n",
              "\n",
              "    [theme=dark] .colab-df-convert {\n",
              "      background-color: #3B4455;\n",
              "      fill: #D2E3FC;\n",
              "    }\n",
              "\n",
              "    [theme=dark] .colab-df-convert:hover {\n",
              "      background-color: #434B5C;\n",
              "      box-shadow: 0px 1px 3px 1px rgba(0, 0, 0, 0.15);\n",
              "      filter: drop-shadow(0px 1px 2px rgba(0, 0, 0, 0.3));\n",
              "      fill: #FFFFFF;\n",
              "    }\n",
              "  </style>\n",
              "\n",
              "      <script>\n",
              "        const buttonEl =\n",
              "          document.querySelector('#df-d262423b-dbb5-4295-9cf4-1619d3a48c11 button.colab-df-convert');\n",
              "        buttonEl.style.display =\n",
              "          google.colab.kernel.accessAllowed ? 'block' : 'none';\n",
              "\n",
              "        async function convertToInteractive(key) {\n",
              "          const element = document.querySelector('#df-d262423b-dbb5-4295-9cf4-1619d3a48c11');\n",
              "          const dataTable =\n",
              "            await google.colab.kernel.invokeFunction('convertToInteractive',\n",
              "                                                     [key], {});\n",
              "          if (!dataTable) return;\n",
              "\n",
              "          const docLinkHtml = 'Like what you see? Visit the ' +\n",
              "            '<a target=\"_blank\" href=https://colab.research.google.com/notebooks/data_table.ipynb>data table notebook</a>'\n",
              "            + ' to learn more about interactive tables.';\n",
              "          element.innerHTML = '';\n",
              "          dataTable['output_type'] = 'display_data';\n",
              "          await google.colab.output.renderOutput(dataTable, element);\n",
              "          const docLink = document.createElement('div');\n",
              "          docLink.innerHTML = docLinkHtml;\n",
              "          element.appendChild(docLink);\n",
              "        }\n",
              "      </script>\n",
              "    </div>\n",
              "  </div>\n",
              "  "
            ]
          },
          "metadata": {},
          "execution_count": 36
        }
      ]
    },
    {
      "cell_type": "code",
      "source": [
        "test_df_temp = test_df.copy()"
      ],
      "metadata": {
        "id": "tiGqiZOpAAxs"
      },
      "execution_count": null,
      "outputs": []
    },
    {
      "cell_type": "code",
      "source": [
        "test_pass_id = test_df_temp.PassengerId\n",
        "test_pass_id"
      ],
      "metadata": {
        "colab": {
          "base_uri": "https://localhost:8080/"
        },
        "outputId": "4ab645b9-4e34-47ab-8c42-be0270421650",
        "id": "OE3jD7bzeaih"
      },
      "execution_count": null,
      "outputs": [
        {
          "output_type": "execute_result",
          "data": {
            "text/plain": [
              "0       0013_01\n",
              "1       0018_01\n",
              "2       0019_01\n",
              "3       0021_01\n",
              "4       0023_01\n",
              "         ...   \n",
              "4272    9266_02\n",
              "4273    9269_01\n",
              "4274    9271_01\n",
              "4275    9273_01\n",
              "4276    9277_01\n",
              "Name: PassengerId, Length: 4277, dtype: object"
            ]
          },
          "metadata": {},
          "execution_count": 38
        }
      ]
    },
    {
      "cell_type": "code",
      "source": [
        "for label, content in test_df_temp.items():\n",
        "    if pd.api.types.is_string_dtype(content):\n",
        "        print(label)"
      ],
      "metadata": {
        "colab": {
          "base_uri": "https://localhost:8080/"
        },
        "outputId": "dac478c9-e2e7-4a90-ea6c-c9a3a17f520b",
        "id": "L5j-oYFAeaii"
      },
      "execution_count": null,
      "outputs": [
        {
          "output_type": "stream",
          "name": "stdout",
          "text": [
            "PassengerId\n",
            "HomePlanet\n",
            "CryoSleep\n",
            "Cabin\n",
            "Destination\n",
            "VIP\n",
            "Name\n"
          ]
        }
      ]
    },
    {
      "cell_type": "code",
      "source": [
        "# This will turn all string value into categories\n",
        "for label, content in test_df_temp.items():\n",
        "    if pd.api.types.is_string_dtype(content):\n",
        "        test_df_temp[label]=content.astype('category').cat.as_ordered()"
      ],
      "metadata": {
        "id": "TVnQ1cBXeaii"
      },
      "execution_count": null,
      "outputs": []
    },
    {
      "cell_type": "code",
      "source": [
        "test_df_temp.info()"
      ],
      "metadata": {
        "colab": {
          "base_uri": "https://localhost:8080/"
        },
        "outputId": "b0cbde62-1744-4dce-a002-dd1cec8a3d21",
        "id": "77sAnJnBeaii"
      },
      "execution_count": null,
      "outputs": [
        {
          "output_type": "stream",
          "name": "stdout",
          "text": [
            "<class 'pandas.core.frame.DataFrame'>\n",
            "RangeIndex: 4277 entries, 0 to 4276\n",
            "Data columns (total 13 columns):\n",
            " #   Column        Non-Null Count  Dtype   \n",
            "---  ------        --------------  -----   \n",
            " 0   PassengerId   4277 non-null   category\n",
            " 1   HomePlanet    4190 non-null   category\n",
            " 2   CryoSleep     4184 non-null   category\n",
            " 3   Cabin         4177 non-null   category\n",
            " 4   Destination   4185 non-null   category\n",
            " 5   Age           4186 non-null   float64 \n",
            " 6   VIP           4184 non-null   category\n",
            " 7   RoomService   4195 non-null   float64 \n",
            " 8   FoodCourt     4171 non-null   float64 \n",
            " 9   ShoppingMall  4179 non-null   float64 \n",
            " 10  Spa           4176 non-null   float64 \n",
            " 11  VRDeck        4197 non-null   float64 \n",
            " 12  Name          4183 non-null   category\n",
            "dtypes: category(7), float64(6)\n",
            "memory usage: 721.5 KB\n"
          ]
        }
      ]
    },
    {
      "cell_type": "code",
      "source": [
        "test_df_temp.isnull().sum()"
      ],
      "metadata": {
        "colab": {
          "base_uri": "https://localhost:8080/"
        },
        "outputId": "9f3a8d78-d5ed-480f-cc9b-3552fc9cbb4b",
        "id": "Q_y5RYqfeaii"
      },
      "execution_count": null,
      "outputs": [
        {
          "output_type": "execute_result",
          "data": {
            "text/plain": [
              "PassengerId       0\n",
              "HomePlanet       87\n",
              "CryoSleep        93\n",
              "Cabin           100\n",
              "Destination      92\n",
              "Age              91\n",
              "VIP              93\n",
              "RoomService      82\n",
              "FoodCourt       106\n",
              "ShoppingMall     98\n",
              "Spa             101\n",
              "VRDeck           80\n",
              "Name             94\n",
              "dtype: int64"
            ]
          },
          "metadata": {},
          "execution_count": 42
        }
      ]
    },
    {
      "cell_type": "code",
      "source": [
        "test_df_temp.head()"
      ],
      "metadata": {
        "colab": {
          "base_uri": "https://localhost:8080/",
          "height": 206
        },
        "outputId": "b0e953bb-ac79-4b24-bfb8-a341ffe893b9",
        "id": "Mj1JBkH-eaii"
      },
      "execution_count": null,
      "outputs": [
        {
          "output_type": "execute_result",
          "data": {
            "text/plain": [
              "  PassengerId HomePlanet CryoSleep  Cabin  Destination   Age    VIP  \\\n",
              "0     0013_01      Earth      True  G/3/S  TRAPPIST-1e  27.0  False   \n",
              "1     0018_01      Earth     False  F/4/S  TRAPPIST-1e  19.0  False   \n",
              "2     0019_01     Europa      True  C/0/S  55 Cancri e  31.0  False   \n",
              "3     0021_01     Europa     False  C/1/S  TRAPPIST-1e  38.0  False   \n",
              "4     0023_01      Earth     False  F/5/S  TRAPPIST-1e  20.0  False   \n",
              "\n",
              "   RoomService  FoodCourt  ShoppingMall     Spa  VRDeck              Name  \n",
              "0          0.0        0.0           0.0     0.0     0.0   Nelly Carsoning  \n",
              "1          0.0        9.0           0.0  2823.0     0.0    Lerome Peckers  \n",
              "2          0.0        0.0           0.0     0.0     0.0   Sabih Unhearfus  \n",
              "3          0.0     6652.0           0.0   181.0   585.0  Meratz Caltilter  \n",
              "4         10.0        0.0         635.0     0.0     0.0   Brence Harperez  "
            ],
            "text/html": [
              "\n",
              "  <div id=\"df-7769f60d-ceb7-41c1-9d9b-da46487a4df2\">\n",
              "    <div class=\"colab-df-container\">\n",
              "      <div>\n",
              "<style scoped>\n",
              "    .dataframe tbody tr th:only-of-type {\n",
              "        vertical-align: middle;\n",
              "    }\n",
              "\n",
              "    .dataframe tbody tr th {\n",
              "        vertical-align: top;\n",
              "    }\n",
              "\n",
              "    .dataframe thead th {\n",
              "        text-align: right;\n",
              "    }\n",
              "</style>\n",
              "<table border=\"1\" class=\"dataframe\">\n",
              "  <thead>\n",
              "    <tr style=\"text-align: right;\">\n",
              "      <th></th>\n",
              "      <th>PassengerId</th>\n",
              "      <th>HomePlanet</th>\n",
              "      <th>CryoSleep</th>\n",
              "      <th>Cabin</th>\n",
              "      <th>Destination</th>\n",
              "      <th>Age</th>\n",
              "      <th>VIP</th>\n",
              "      <th>RoomService</th>\n",
              "      <th>FoodCourt</th>\n",
              "      <th>ShoppingMall</th>\n",
              "      <th>Spa</th>\n",
              "      <th>VRDeck</th>\n",
              "      <th>Name</th>\n",
              "    </tr>\n",
              "  </thead>\n",
              "  <tbody>\n",
              "    <tr>\n",
              "      <th>0</th>\n",
              "      <td>0013_01</td>\n",
              "      <td>Earth</td>\n",
              "      <td>True</td>\n",
              "      <td>G/3/S</td>\n",
              "      <td>TRAPPIST-1e</td>\n",
              "      <td>27.0</td>\n",
              "      <td>False</td>\n",
              "      <td>0.0</td>\n",
              "      <td>0.0</td>\n",
              "      <td>0.0</td>\n",
              "      <td>0.0</td>\n",
              "      <td>0.0</td>\n",
              "      <td>Nelly Carsoning</td>\n",
              "    </tr>\n",
              "    <tr>\n",
              "      <th>1</th>\n",
              "      <td>0018_01</td>\n",
              "      <td>Earth</td>\n",
              "      <td>False</td>\n",
              "      <td>F/4/S</td>\n",
              "      <td>TRAPPIST-1e</td>\n",
              "      <td>19.0</td>\n",
              "      <td>False</td>\n",
              "      <td>0.0</td>\n",
              "      <td>9.0</td>\n",
              "      <td>0.0</td>\n",
              "      <td>2823.0</td>\n",
              "      <td>0.0</td>\n",
              "      <td>Lerome Peckers</td>\n",
              "    </tr>\n",
              "    <tr>\n",
              "      <th>2</th>\n",
              "      <td>0019_01</td>\n",
              "      <td>Europa</td>\n",
              "      <td>True</td>\n",
              "      <td>C/0/S</td>\n",
              "      <td>55 Cancri e</td>\n",
              "      <td>31.0</td>\n",
              "      <td>False</td>\n",
              "      <td>0.0</td>\n",
              "      <td>0.0</td>\n",
              "      <td>0.0</td>\n",
              "      <td>0.0</td>\n",
              "      <td>0.0</td>\n",
              "      <td>Sabih Unhearfus</td>\n",
              "    </tr>\n",
              "    <tr>\n",
              "      <th>3</th>\n",
              "      <td>0021_01</td>\n",
              "      <td>Europa</td>\n",
              "      <td>False</td>\n",
              "      <td>C/1/S</td>\n",
              "      <td>TRAPPIST-1e</td>\n",
              "      <td>38.0</td>\n",
              "      <td>False</td>\n",
              "      <td>0.0</td>\n",
              "      <td>6652.0</td>\n",
              "      <td>0.0</td>\n",
              "      <td>181.0</td>\n",
              "      <td>585.0</td>\n",
              "      <td>Meratz Caltilter</td>\n",
              "    </tr>\n",
              "    <tr>\n",
              "      <th>4</th>\n",
              "      <td>0023_01</td>\n",
              "      <td>Earth</td>\n",
              "      <td>False</td>\n",
              "      <td>F/5/S</td>\n",
              "      <td>TRAPPIST-1e</td>\n",
              "      <td>20.0</td>\n",
              "      <td>False</td>\n",
              "      <td>10.0</td>\n",
              "      <td>0.0</td>\n",
              "      <td>635.0</td>\n",
              "      <td>0.0</td>\n",
              "      <td>0.0</td>\n",
              "      <td>Brence Harperez</td>\n",
              "    </tr>\n",
              "  </tbody>\n",
              "</table>\n",
              "</div>\n",
              "      <button class=\"colab-df-convert\" onclick=\"convertToInteractive('df-7769f60d-ceb7-41c1-9d9b-da46487a4df2')\"\n",
              "              title=\"Convert this dataframe to an interactive table.\"\n",
              "              style=\"display:none;\">\n",
              "        \n",
              "  <svg xmlns=\"http://www.w3.org/2000/svg\" height=\"24px\"viewBox=\"0 0 24 24\"\n",
              "       width=\"24px\">\n",
              "    <path d=\"M0 0h24v24H0V0z\" fill=\"none\"/>\n",
              "    <path d=\"M18.56 5.44l.94 2.06.94-2.06 2.06-.94-2.06-.94-.94-2.06-.94 2.06-2.06.94zm-11 1L8.5 8.5l.94-2.06 2.06-.94-2.06-.94L8.5 2.5l-.94 2.06-2.06.94zm10 10l.94 2.06.94-2.06 2.06-.94-2.06-.94-.94-2.06-.94 2.06-2.06.94z\"/><path d=\"M17.41 7.96l-1.37-1.37c-.4-.4-.92-.59-1.43-.59-.52 0-1.04.2-1.43.59L10.3 9.45l-7.72 7.72c-.78.78-.78 2.05 0 2.83L4 21.41c.39.39.9.59 1.41.59.51 0 1.02-.2 1.41-.59l7.78-7.78 2.81-2.81c.8-.78.8-2.07 0-2.86zM5.41 20L4 18.59l7.72-7.72 1.47 1.35L5.41 20z\"/>\n",
              "  </svg>\n",
              "      </button>\n",
              "      \n",
              "  <style>\n",
              "    .colab-df-container {\n",
              "      display:flex;\n",
              "      flex-wrap:wrap;\n",
              "      gap: 12px;\n",
              "    }\n",
              "\n",
              "    .colab-df-convert {\n",
              "      background-color: #E8F0FE;\n",
              "      border: none;\n",
              "      border-radius: 50%;\n",
              "      cursor: pointer;\n",
              "      display: none;\n",
              "      fill: #1967D2;\n",
              "      height: 32px;\n",
              "      padding: 0 0 0 0;\n",
              "      width: 32px;\n",
              "    }\n",
              "\n",
              "    .colab-df-convert:hover {\n",
              "      background-color: #E2EBFA;\n",
              "      box-shadow: 0px 1px 2px rgba(60, 64, 67, 0.3), 0px 1px 3px 1px rgba(60, 64, 67, 0.15);\n",
              "      fill: #174EA6;\n",
              "    }\n",
              "\n",
              "    [theme=dark] .colab-df-convert {\n",
              "      background-color: #3B4455;\n",
              "      fill: #D2E3FC;\n",
              "    }\n",
              "\n",
              "    [theme=dark] .colab-df-convert:hover {\n",
              "      background-color: #434B5C;\n",
              "      box-shadow: 0px 1px 3px 1px rgba(0, 0, 0, 0.15);\n",
              "      filter: drop-shadow(0px 1px 2px rgba(0, 0, 0, 0.3));\n",
              "      fill: #FFFFFF;\n",
              "    }\n",
              "  </style>\n",
              "\n",
              "      <script>\n",
              "        const buttonEl =\n",
              "          document.querySelector('#df-7769f60d-ceb7-41c1-9d9b-da46487a4df2 button.colab-df-convert');\n",
              "        buttonEl.style.display =\n",
              "          google.colab.kernel.accessAllowed ? 'block' : 'none';\n",
              "\n",
              "        async function convertToInteractive(key) {\n",
              "          const element = document.querySelector('#df-7769f60d-ceb7-41c1-9d9b-da46487a4df2');\n",
              "          const dataTable =\n",
              "            await google.colab.kernel.invokeFunction('convertToInteractive',\n",
              "                                                     [key], {});\n",
              "          if (!dataTable) return;\n",
              "\n",
              "          const docLinkHtml = 'Like what you see? Visit the ' +\n",
              "            '<a target=\"_blank\" href=https://colab.research.google.com/notebooks/data_table.ipynb>data table notebook</a>'\n",
              "            + ' to learn more about interactive tables.';\n",
              "          element.innerHTML = '';\n",
              "          dataTable['output_type'] = 'display_data';\n",
              "          await google.colab.output.renderOutput(dataTable, element);\n",
              "          const docLink = document.createElement('div');\n",
              "          docLink.innerHTML = docLinkHtml;\n",
              "          element.appendChild(docLink);\n",
              "        }\n",
              "      </script>\n",
              "    </div>\n",
              "  </div>\n",
              "  "
            ]
          },
          "metadata": {},
          "execution_count": 43
        }
      ]
    },
    {
      "cell_type": "markdown",
      "source": [
        "### Filling in missing numerical features with `median` value"
      ],
      "metadata": {
        "id": "6E1UjiUNeaik"
      }
    },
    {
      "cell_type": "code",
      "source": [
        "# This will list all numeric columns\n",
        "for label, content in test_df_temp.items():\n",
        "    if pd.api.types.is_numeric_dtype(content):\n",
        "        print(label)"
      ],
      "metadata": {
        "colab": {
          "base_uri": "https://localhost:8080/"
        },
        "outputId": "8549ab42-bc06-4ecf-f406-bbe4ecfe2129",
        "id": "3KbYiamoeaik"
      },
      "execution_count": null,
      "outputs": [
        {
          "output_type": "stream",
          "name": "stdout",
          "text": [
            "Age\n",
            "RoomService\n",
            "FoodCourt\n",
            "ShoppingMall\n",
            "Spa\n",
            "VRDeck\n"
          ]
        }
      ]
    },
    {
      "cell_type": "code",
      "source": [
        "# Check for which numeric columns have null values\n",
        "for label, content in test_df_temp.items():\n",
        "    if pd.api.types.is_numeric_dtype(content):\n",
        "        if pd.isnull(content).sum():\n",
        "            print(label)"
      ],
      "metadata": {
        "colab": {
          "base_uri": "https://localhost:8080/"
        },
        "outputId": "ad056482-51e1-41e9-d4ba-4cc3dc531f65",
        "id": "aCNmt8g8eaik"
      },
      "execution_count": null,
      "outputs": [
        {
          "output_type": "stream",
          "name": "stdout",
          "text": [
            "Age\n",
            "RoomService\n",
            "FoodCourt\n",
            "ShoppingMall\n",
            "Spa\n",
            "VRDeck\n"
          ]
        }
      ]
    },
    {
      "cell_type": "code",
      "source": [
        "# Fill numeric columns with median value\n",
        "for label, content in test_df_temp.items():\n",
        "    if pd.api.types.is_numeric_dtype(content):\n",
        "        if pd.isnull(content).sum():\n",
        "          # Add a binary column which tells us if the data was missing or not\n",
        "          test_df_temp[label+'_is_missing'] = pd.isnull(content)\n",
        "          # Fill missing numeric valeus with median\n",
        "          test_df_temp[label] = fill_in_median"
      ],
      "metadata": {
        "id": "l9bNuiHpeaik"
      },
      "execution_count": null,
      "outputs": []
    },
    {
      "cell_type": "code",
      "source": [
        "# Check for more numeric columns have null values\n",
        "for label, content in test_df_temp.items():\n",
        "    if pd.api.types.is_numeric_dtype(content):\n",
        "        if pd.isnull(content).sum():\n",
        "            print(label)"
      ],
      "metadata": {
        "id": "PiHeSQ4Ueaik"
      },
      "execution_count": null,
      "outputs": []
    },
    {
      "cell_type": "code",
      "source": [
        "# Check to see how many examples were missing\n",
        "\n",
        "test_df_temp.ShoppingMall.value_counts()"
      ],
      "metadata": {
        "colab": {
          "base_uri": "https://localhost:8080/"
        },
        "outputId": "6883c67c-4974-470a-ad39-f5dc2ab5d811",
        "id": "GgfxvpcZeaik"
      },
      "execution_count": null,
      "outputs": [
        {
          "output_type": "execute_result",
          "data": {
            "text/plain": [
              "0.0       2800\n",
              "1.0         78\n",
              "2.0         34\n",
              "5.0         32\n",
              "3.0         29\n",
              "          ... \n",
              "6064.0       1\n",
              "807.0        1\n",
              "253.0        1\n",
              "1333.0       1\n",
              "5353.0       1\n",
              "Name: ShoppingMall, Length: 793, dtype: int64"
            ]
          },
          "metadata": {},
          "execution_count": 48
        }
      ]
    },
    {
      "cell_type": "code",
      "source": [
        "test_df_temp.isna().sum()"
      ],
      "metadata": {
        "colab": {
          "base_uri": "https://localhost:8080/"
        },
        "outputId": "8064c6b1-3d02-4658-dc08-6459ed7eb6b5",
        "id": "b8OsNQXQeaik"
      },
      "execution_count": null,
      "outputs": [
        {
          "output_type": "execute_result",
          "data": {
            "text/plain": [
              "PassengerId                  0\n",
              "HomePlanet                  87\n",
              "CryoSleep                   93\n",
              "Cabin                      100\n",
              "Destination                 92\n",
              "Age                          0\n",
              "VIP                         93\n",
              "RoomService                  0\n",
              "FoodCourt                    0\n",
              "ShoppingMall                 0\n",
              "Spa                          0\n",
              "VRDeck                       0\n",
              "Name                        94\n",
              "Age_is_missing               0\n",
              "RoomService_is_missing       0\n",
              "FoodCourt_is_missing         0\n",
              "ShoppingMall_is_missing      0\n",
              "Spa_is_missing               0\n",
              "VRDeck_is_missing            0\n",
              "dtype: int64"
            ]
          },
          "metadata": {},
          "execution_count": 49
        }
      ]
    },
    {
      "cell_type": "markdown",
      "source": [
        "### Filling in missing categorical features with corresponding values"
      ],
      "metadata": {
        "id": "4piYcG2leail"
      }
    },
    {
      "cell_type": "code",
      "source": [
        "# check for columns that are not numeric\n",
        "for label, content in test_df_temp.items():\n",
        "    if not pd.api.types.is_numeric_dtype(content):\n",
        "        print(label)"
      ],
      "metadata": {
        "colab": {
          "base_uri": "https://localhost:8080/"
        },
        "outputId": "5a1a1e4b-63d2-4873-9165-8cdc785bf6e8",
        "id": "WdcpNFS0eail"
      },
      "execution_count": null,
      "outputs": [
        {
          "output_type": "stream",
          "name": "stdout",
          "text": [
            "PassengerId\n",
            "HomePlanet\n",
            "CryoSleep\n",
            "Cabin\n",
            "Destination\n",
            "VIP\n",
            "Name\n"
          ]
        }
      ]
    },
    {
      "cell_type": "code",
      "source": [
        "test_df_temp.head()"
      ],
      "metadata": {
        "colab": {
          "base_uri": "https://localhost:8080/",
          "height": 357
        },
        "outputId": "70364b77-8cd4-4218-9bda-919ca35f1cb5",
        "id": "pimM-SHIeail"
      },
      "execution_count": null,
      "outputs": [
        {
          "output_type": "execute_result",
          "data": {
            "text/plain": [
              "  PassengerId HomePlanet CryoSleep  Cabin  Destination    Age    VIP  \\\n",
              "0     0013_01      Earth      True  G/3/S  TRAPPIST-1e    0.0  False   \n",
              "1     0018_01      Earth     False  F/4/S  TRAPPIST-1e   44.0  False   \n",
              "2     0019_01     Europa      True  C/0/S  55 Cancri e   49.0  False   \n",
              "3     0021_01     Europa     False  C/1/S  TRAPPIST-1e  193.0  False   \n",
              "4     0023_01      Earth     False  F/5/S  TRAPPIST-1e    2.0  False   \n",
              "\n",
              "   RoomService  FoodCourt  ShoppingMall    Spa  VRDeck              Name  \\\n",
              "0          0.0        0.0           0.0    0.0     0.0   Nelly Carsoning   \n",
              "1         44.0       44.0          44.0   44.0    44.0    Lerome Peckers   \n",
              "2         49.0       49.0          49.0   49.0    49.0   Sabih Unhearfus   \n",
              "3        193.0      193.0         193.0  193.0   193.0  Meratz Caltilter   \n",
              "4          2.0        2.0           2.0    2.0     2.0   Brence Harperez   \n",
              "\n",
              "   Age_is_missing  RoomService_is_missing  FoodCourt_is_missing  \\\n",
              "0           False                   False                 False   \n",
              "1           False                   False                 False   \n",
              "2           False                   False                 False   \n",
              "3           False                   False                 False   \n",
              "4           False                   False                 False   \n",
              "\n",
              "   ShoppingMall_is_missing  Spa_is_missing  VRDeck_is_missing  \n",
              "0                    False           False              False  \n",
              "1                    False           False              False  \n",
              "2                    False           False              False  \n",
              "3                    False           False              False  \n",
              "4                    False           False              False  "
            ],
            "text/html": [
              "\n",
              "  <div id=\"df-e14d788d-4993-4226-baaa-0bff79172324\">\n",
              "    <div class=\"colab-df-container\">\n",
              "      <div>\n",
              "<style scoped>\n",
              "    .dataframe tbody tr th:only-of-type {\n",
              "        vertical-align: middle;\n",
              "    }\n",
              "\n",
              "    .dataframe tbody tr th {\n",
              "        vertical-align: top;\n",
              "    }\n",
              "\n",
              "    .dataframe thead th {\n",
              "        text-align: right;\n",
              "    }\n",
              "</style>\n",
              "<table border=\"1\" class=\"dataframe\">\n",
              "  <thead>\n",
              "    <tr style=\"text-align: right;\">\n",
              "      <th></th>\n",
              "      <th>PassengerId</th>\n",
              "      <th>HomePlanet</th>\n",
              "      <th>CryoSleep</th>\n",
              "      <th>Cabin</th>\n",
              "      <th>Destination</th>\n",
              "      <th>Age</th>\n",
              "      <th>VIP</th>\n",
              "      <th>RoomService</th>\n",
              "      <th>FoodCourt</th>\n",
              "      <th>ShoppingMall</th>\n",
              "      <th>Spa</th>\n",
              "      <th>VRDeck</th>\n",
              "      <th>Name</th>\n",
              "      <th>Age_is_missing</th>\n",
              "      <th>RoomService_is_missing</th>\n",
              "      <th>FoodCourt_is_missing</th>\n",
              "      <th>ShoppingMall_is_missing</th>\n",
              "      <th>Spa_is_missing</th>\n",
              "      <th>VRDeck_is_missing</th>\n",
              "    </tr>\n",
              "  </thead>\n",
              "  <tbody>\n",
              "    <tr>\n",
              "      <th>0</th>\n",
              "      <td>0013_01</td>\n",
              "      <td>Earth</td>\n",
              "      <td>True</td>\n",
              "      <td>G/3/S</td>\n",
              "      <td>TRAPPIST-1e</td>\n",
              "      <td>0.0</td>\n",
              "      <td>False</td>\n",
              "      <td>0.0</td>\n",
              "      <td>0.0</td>\n",
              "      <td>0.0</td>\n",
              "      <td>0.0</td>\n",
              "      <td>0.0</td>\n",
              "      <td>Nelly Carsoning</td>\n",
              "      <td>False</td>\n",
              "      <td>False</td>\n",
              "      <td>False</td>\n",
              "      <td>False</td>\n",
              "      <td>False</td>\n",
              "      <td>False</td>\n",
              "    </tr>\n",
              "    <tr>\n",
              "      <th>1</th>\n",
              "      <td>0018_01</td>\n",
              "      <td>Earth</td>\n",
              "      <td>False</td>\n",
              "      <td>F/4/S</td>\n",
              "      <td>TRAPPIST-1e</td>\n",
              "      <td>44.0</td>\n",
              "      <td>False</td>\n",
              "      <td>44.0</td>\n",
              "      <td>44.0</td>\n",
              "      <td>44.0</td>\n",
              "      <td>44.0</td>\n",
              "      <td>44.0</td>\n",
              "      <td>Lerome Peckers</td>\n",
              "      <td>False</td>\n",
              "      <td>False</td>\n",
              "      <td>False</td>\n",
              "      <td>False</td>\n",
              "      <td>False</td>\n",
              "      <td>False</td>\n",
              "    </tr>\n",
              "    <tr>\n",
              "      <th>2</th>\n",
              "      <td>0019_01</td>\n",
              "      <td>Europa</td>\n",
              "      <td>True</td>\n",
              "      <td>C/0/S</td>\n",
              "      <td>55 Cancri e</td>\n",
              "      <td>49.0</td>\n",
              "      <td>False</td>\n",
              "      <td>49.0</td>\n",
              "      <td>49.0</td>\n",
              "      <td>49.0</td>\n",
              "      <td>49.0</td>\n",
              "      <td>49.0</td>\n",
              "      <td>Sabih Unhearfus</td>\n",
              "      <td>False</td>\n",
              "      <td>False</td>\n",
              "      <td>False</td>\n",
              "      <td>False</td>\n",
              "      <td>False</td>\n",
              "      <td>False</td>\n",
              "    </tr>\n",
              "    <tr>\n",
              "      <th>3</th>\n",
              "      <td>0021_01</td>\n",
              "      <td>Europa</td>\n",
              "      <td>False</td>\n",
              "      <td>C/1/S</td>\n",
              "      <td>TRAPPIST-1e</td>\n",
              "      <td>193.0</td>\n",
              "      <td>False</td>\n",
              "      <td>193.0</td>\n",
              "      <td>193.0</td>\n",
              "      <td>193.0</td>\n",
              "      <td>193.0</td>\n",
              "      <td>193.0</td>\n",
              "      <td>Meratz Caltilter</td>\n",
              "      <td>False</td>\n",
              "      <td>False</td>\n",
              "      <td>False</td>\n",
              "      <td>False</td>\n",
              "      <td>False</td>\n",
              "      <td>False</td>\n",
              "    </tr>\n",
              "    <tr>\n",
              "      <th>4</th>\n",
              "      <td>0023_01</td>\n",
              "      <td>Earth</td>\n",
              "      <td>False</td>\n",
              "      <td>F/5/S</td>\n",
              "      <td>TRAPPIST-1e</td>\n",
              "      <td>2.0</td>\n",
              "      <td>False</td>\n",
              "      <td>2.0</td>\n",
              "      <td>2.0</td>\n",
              "      <td>2.0</td>\n",
              "      <td>2.0</td>\n",
              "      <td>2.0</td>\n",
              "      <td>Brence Harperez</td>\n",
              "      <td>False</td>\n",
              "      <td>False</td>\n",
              "      <td>False</td>\n",
              "      <td>False</td>\n",
              "      <td>False</td>\n",
              "      <td>False</td>\n",
              "    </tr>\n",
              "  </tbody>\n",
              "</table>\n",
              "</div>\n",
              "      <button class=\"colab-df-convert\" onclick=\"convertToInteractive('df-e14d788d-4993-4226-baaa-0bff79172324')\"\n",
              "              title=\"Convert this dataframe to an interactive table.\"\n",
              "              style=\"display:none;\">\n",
              "        \n",
              "  <svg xmlns=\"http://www.w3.org/2000/svg\" height=\"24px\"viewBox=\"0 0 24 24\"\n",
              "       width=\"24px\">\n",
              "    <path d=\"M0 0h24v24H0V0z\" fill=\"none\"/>\n",
              "    <path d=\"M18.56 5.44l.94 2.06.94-2.06 2.06-.94-2.06-.94-.94-2.06-.94 2.06-2.06.94zm-11 1L8.5 8.5l.94-2.06 2.06-.94-2.06-.94L8.5 2.5l-.94 2.06-2.06.94zm10 10l.94 2.06.94-2.06 2.06-.94-2.06-.94-.94-2.06-.94 2.06-2.06.94z\"/><path d=\"M17.41 7.96l-1.37-1.37c-.4-.4-.92-.59-1.43-.59-.52 0-1.04.2-1.43.59L10.3 9.45l-7.72 7.72c-.78.78-.78 2.05 0 2.83L4 21.41c.39.39.9.59 1.41.59.51 0 1.02-.2 1.41-.59l7.78-7.78 2.81-2.81c.8-.78.8-2.07 0-2.86zM5.41 20L4 18.59l7.72-7.72 1.47 1.35L5.41 20z\"/>\n",
              "  </svg>\n",
              "      </button>\n",
              "      \n",
              "  <style>\n",
              "    .colab-df-container {\n",
              "      display:flex;\n",
              "      flex-wrap:wrap;\n",
              "      gap: 12px;\n",
              "    }\n",
              "\n",
              "    .colab-df-convert {\n",
              "      background-color: #E8F0FE;\n",
              "      border: none;\n",
              "      border-radius: 50%;\n",
              "      cursor: pointer;\n",
              "      display: none;\n",
              "      fill: #1967D2;\n",
              "      height: 32px;\n",
              "      padding: 0 0 0 0;\n",
              "      width: 32px;\n",
              "    }\n",
              "\n",
              "    .colab-df-convert:hover {\n",
              "      background-color: #E2EBFA;\n",
              "      box-shadow: 0px 1px 2px rgba(60, 64, 67, 0.3), 0px 1px 3px 1px rgba(60, 64, 67, 0.15);\n",
              "      fill: #174EA6;\n",
              "    }\n",
              "\n",
              "    [theme=dark] .colab-df-convert {\n",
              "      background-color: #3B4455;\n",
              "      fill: #D2E3FC;\n",
              "    }\n",
              "\n",
              "    [theme=dark] .colab-df-convert:hover {\n",
              "      background-color: #434B5C;\n",
              "      box-shadow: 0px 1px 3px 1px rgba(0, 0, 0, 0.15);\n",
              "      filter: drop-shadow(0px 1px 2px rgba(0, 0, 0, 0.3));\n",
              "      fill: #FFFFFF;\n",
              "    }\n",
              "  </style>\n",
              "\n",
              "      <script>\n",
              "        const buttonEl =\n",
              "          document.querySelector('#df-e14d788d-4993-4226-baaa-0bff79172324 button.colab-df-convert');\n",
              "        buttonEl.style.display =\n",
              "          google.colab.kernel.accessAllowed ? 'block' : 'none';\n",
              "\n",
              "        async function convertToInteractive(key) {\n",
              "          const element = document.querySelector('#df-e14d788d-4993-4226-baaa-0bff79172324');\n",
              "          const dataTable =\n",
              "            await google.colab.kernel.invokeFunction('convertToInteractive',\n",
              "                                                     [key], {});\n",
              "          if (!dataTable) return;\n",
              "\n",
              "          const docLinkHtml = 'Like what you see? Visit the ' +\n",
              "            '<a target=\"_blank\" href=https://colab.research.google.com/notebooks/data_table.ipynb>data table notebook</a>'\n",
              "            + ' to learn more about interactive tables.';\n",
              "          element.innerHTML = '';\n",
              "          dataTable['output_type'] = 'display_data';\n",
              "          await google.colab.output.renderOutput(dataTable, element);\n",
              "          const docLink = document.createElement('div');\n",
              "          docLink.innerHTML = docLinkHtml;\n",
              "          element.appendChild(docLink);\n",
              "        }\n",
              "      </script>\n",
              "    </div>\n",
              "  </div>\n",
              "  "
            ]
          },
          "metadata": {},
          "execution_count": 51
        }
      ]
    },
    {
      "cell_type": "code",
      "source": [
        "test_df_temp[[\"Cabin_deck\",\"Cabin_no.\",\"Cabin_side\"]]=test_df_temp[\"Cabin\"].str.split(\"/\",expand=True)\n",
        "test_df_temp.drop(columns=[\"Cabin\"],inplace=True)\n",
        "\n",
        "test_df_temp[[\"firstname\",\"last_name\"]]=test_df_temp[\"Name\"].str.split(\" \",expand=True)\n",
        "test_df_temp.drop(columns=[\"Name\"],inplace=True)\n",
        "\n",
        "test_df_temp[[\"PassengerId_group\",\"PassenngerId_no\"]]=test_df_temp[\"PassengerId\"].str.split(\"_\",expand=True)\n",
        "test_df_temp.drop(columns=[\"PassengerId\"],inplace=True)   # -> we have test_pass_id"
      ],
      "metadata": {
        "id": "J3UA5F_Xeail"
      },
      "execution_count": null,
      "outputs": []
    },
    {
      "cell_type": "code",
      "source": [
        "test_df_temp.head()"
      ],
      "metadata": {
        "colab": {
          "base_uri": "https://localhost:8080/",
          "height": 369
        },
        "outputId": "5b0a53f8-f22d-40c4-b2e8-f5d7d0e4f537",
        "id": "tfS3QPCneail"
      },
      "execution_count": null,
      "outputs": [
        {
          "output_type": "execute_result",
          "data": {
            "text/plain": [
              "  HomePlanet CryoSleep  Destination    Age    VIP  RoomService  FoodCourt  \\\n",
              "0      Earth      True  TRAPPIST-1e    0.0  False          0.0        0.0   \n",
              "1      Earth     False  TRAPPIST-1e   44.0  False         44.0       44.0   \n",
              "2     Europa      True  55 Cancri e   49.0  False         49.0       49.0   \n",
              "3     Europa     False  TRAPPIST-1e  193.0  False        193.0      193.0   \n",
              "4      Earth     False  TRAPPIST-1e    2.0  False          2.0        2.0   \n",
              "\n",
              "   ShoppingMall    Spa  VRDeck  ...  ShoppingMall_is_missing  Spa_is_missing  \\\n",
              "0           0.0    0.0     0.0  ...                    False           False   \n",
              "1          44.0   44.0    44.0  ...                    False           False   \n",
              "2          49.0   49.0    49.0  ...                    False           False   \n",
              "3         193.0  193.0   193.0  ...                    False           False   \n",
              "4           2.0    2.0     2.0  ...                    False           False   \n",
              "\n",
              "   VRDeck_is_missing  Cabin_deck  Cabin_no.  Cabin_side firstname  last_name  \\\n",
              "0              False           G          3           S     Nelly  Carsoning   \n",
              "1              False           F          4           S    Lerome    Peckers   \n",
              "2              False           C          0           S     Sabih  Unhearfus   \n",
              "3              False           C          1           S    Meratz  Caltilter   \n",
              "4              False           F          5           S    Brence   Harperez   \n",
              "\n",
              "  PassengerId_group PassenngerId_no  \n",
              "0              0013              01  \n",
              "1              0018              01  \n",
              "2              0019              01  \n",
              "3              0021              01  \n",
              "4              0023              01  \n",
              "\n",
              "[5 rows x 23 columns]"
            ],
            "text/html": [
              "\n",
              "  <div id=\"df-e8baf50f-d505-470f-a76f-b3312c32b073\">\n",
              "    <div class=\"colab-df-container\">\n",
              "      <div>\n",
              "<style scoped>\n",
              "    .dataframe tbody tr th:only-of-type {\n",
              "        vertical-align: middle;\n",
              "    }\n",
              "\n",
              "    .dataframe tbody tr th {\n",
              "        vertical-align: top;\n",
              "    }\n",
              "\n",
              "    .dataframe thead th {\n",
              "        text-align: right;\n",
              "    }\n",
              "</style>\n",
              "<table border=\"1\" class=\"dataframe\">\n",
              "  <thead>\n",
              "    <tr style=\"text-align: right;\">\n",
              "      <th></th>\n",
              "      <th>HomePlanet</th>\n",
              "      <th>CryoSleep</th>\n",
              "      <th>Destination</th>\n",
              "      <th>Age</th>\n",
              "      <th>VIP</th>\n",
              "      <th>RoomService</th>\n",
              "      <th>FoodCourt</th>\n",
              "      <th>ShoppingMall</th>\n",
              "      <th>Spa</th>\n",
              "      <th>VRDeck</th>\n",
              "      <th>...</th>\n",
              "      <th>ShoppingMall_is_missing</th>\n",
              "      <th>Spa_is_missing</th>\n",
              "      <th>VRDeck_is_missing</th>\n",
              "      <th>Cabin_deck</th>\n",
              "      <th>Cabin_no.</th>\n",
              "      <th>Cabin_side</th>\n",
              "      <th>firstname</th>\n",
              "      <th>last_name</th>\n",
              "      <th>PassengerId_group</th>\n",
              "      <th>PassenngerId_no</th>\n",
              "    </tr>\n",
              "  </thead>\n",
              "  <tbody>\n",
              "    <tr>\n",
              "      <th>0</th>\n",
              "      <td>Earth</td>\n",
              "      <td>True</td>\n",
              "      <td>TRAPPIST-1e</td>\n",
              "      <td>0.0</td>\n",
              "      <td>False</td>\n",
              "      <td>0.0</td>\n",
              "      <td>0.0</td>\n",
              "      <td>0.0</td>\n",
              "      <td>0.0</td>\n",
              "      <td>0.0</td>\n",
              "      <td>...</td>\n",
              "      <td>False</td>\n",
              "      <td>False</td>\n",
              "      <td>False</td>\n",
              "      <td>G</td>\n",
              "      <td>3</td>\n",
              "      <td>S</td>\n",
              "      <td>Nelly</td>\n",
              "      <td>Carsoning</td>\n",
              "      <td>0013</td>\n",
              "      <td>01</td>\n",
              "    </tr>\n",
              "    <tr>\n",
              "      <th>1</th>\n",
              "      <td>Earth</td>\n",
              "      <td>False</td>\n",
              "      <td>TRAPPIST-1e</td>\n",
              "      <td>44.0</td>\n",
              "      <td>False</td>\n",
              "      <td>44.0</td>\n",
              "      <td>44.0</td>\n",
              "      <td>44.0</td>\n",
              "      <td>44.0</td>\n",
              "      <td>44.0</td>\n",
              "      <td>...</td>\n",
              "      <td>False</td>\n",
              "      <td>False</td>\n",
              "      <td>False</td>\n",
              "      <td>F</td>\n",
              "      <td>4</td>\n",
              "      <td>S</td>\n",
              "      <td>Lerome</td>\n",
              "      <td>Peckers</td>\n",
              "      <td>0018</td>\n",
              "      <td>01</td>\n",
              "    </tr>\n",
              "    <tr>\n",
              "      <th>2</th>\n",
              "      <td>Europa</td>\n",
              "      <td>True</td>\n",
              "      <td>55 Cancri e</td>\n",
              "      <td>49.0</td>\n",
              "      <td>False</td>\n",
              "      <td>49.0</td>\n",
              "      <td>49.0</td>\n",
              "      <td>49.0</td>\n",
              "      <td>49.0</td>\n",
              "      <td>49.0</td>\n",
              "      <td>...</td>\n",
              "      <td>False</td>\n",
              "      <td>False</td>\n",
              "      <td>False</td>\n",
              "      <td>C</td>\n",
              "      <td>0</td>\n",
              "      <td>S</td>\n",
              "      <td>Sabih</td>\n",
              "      <td>Unhearfus</td>\n",
              "      <td>0019</td>\n",
              "      <td>01</td>\n",
              "    </tr>\n",
              "    <tr>\n",
              "      <th>3</th>\n",
              "      <td>Europa</td>\n",
              "      <td>False</td>\n",
              "      <td>TRAPPIST-1e</td>\n",
              "      <td>193.0</td>\n",
              "      <td>False</td>\n",
              "      <td>193.0</td>\n",
              "      <td>193.0</td>\n",
              "      <td>193.0</td>\n",
              "      <td>193.0</td>\n",
              "      <td>193.0</td>\n",
              "      <td>...</td>\n",
              "      <td>False</td>\n",
              "      <td>False</td>\n",
              "      <td>False</td>\n",
              "      <td>C</td>\n",
              "      <td>1</td>\n",
              "      <td>S</td>\n",
              "      <td>Meratz</td>\n",
              "      <td>Caltilter</td>\n",
              "      <td>0021</td>\n",
              "      <td>01</td>\n",
              "    </tr>\n",
              "    <tr>\n",
              "      <th>4</th>\n",
              "      <td>Earth</td>\n",
              "      <td>False</td>\n",
              "      <td>TRAPPIST-1e</td>\n",
              "      <td>2.0</td>\n",
              "      <td>False</td>\n",
              "      <td>2.0</td>\n",
              "      <td>2.0</td>\n",
              "      <td>2.0</td>\n",
              "      <td>2.0</td>\n",
              "      <td>2.0</td>\n",
              "      <td>...</td>\n",
              "      <td>False</td>\n",
              "      <td>False</td>\n",
              "      <td>False</td>\n",
              "      <td>F</td>\n",
              "      <td>5</td>\n",
              "      <td>S</td>\n",
              "      <td>Brence</td>\n",
              "      <td>Harperez</td>\n",
              "      <td>0023</td>\n",
              "      <td>01</td>\n",
              "    </tr>\n",
              "  </tbody>\n",
              "</table>\n",
              "<p>5 rows × 23 columns</p>\n",
              "</div>\n",
              "      <button class=\"colab-df-convert\" onclick=\"convertToInteractive('df-e8baf50f-d505-470f-a76f-b3312c32b073')\"\n",
              "              title=\"Convert this dataframe to an interactive table.\"\n",
              "              style=\"display:none;\">\n",
              "        \n",
              "  <svg xmlns=\"http://www.w3.org/2000/svg\" height=\"24px\"viewBox=\"0 0 24 24\"\n",
              "       width=\"24px\">\n",
              "    <path d=\"M0 0h24v24H0V0z\" fill=\"none\"/>\n",
              "    <path d=\"M18.56 5.44l.94 2.06.94-2.06 2.06-.94-2.06-.94-.94-2.06-.94 2.06-2.06.94zm-11 1L8.5 8.5l.94-2.06 2.06-.94-2.06-.94L8.5 2.5l-.94 2.06-2.06.94zm10 10l.94 2.06.94-2.06 2.06-.94-2.06-.94-.94-2.06-.94 2.06-2.06.94z\"/><path d=\"M17.41 7.96l-1.37-1.37c-.4-.4-.92-.59-1.43-.59-.52 0-1.04.2-1.43.59L10.3 9.45l-7.72 7.72c-.78.78-.78 2.05 0 2.83L4 21.41c.39.39.9.59 1.41.59.51 0 1.02-.2 1.41-.59l7.78-7.78 2.81-2.81c.8-.78.8-2.07 0-2.86zM5.41 20L4 18.59l7.72-7.72 1.47 1.35L5.41 20z\"/>\n",
              "  </svg>\n",
              "      </button>\n",
              "      \n",
              "  <style>\n",
              "    .colab-df-container {\n",
              "      display:flex;\n",
              "      flex-wrap:wrap;\n",
              "      gap: 12px;\n",
              "    }\n",
              "\n",
              "    .colab-df-convert {\n",
              "      background-color: #E8F0FE;\n",
              "      border: none;\n",
              "      border-radius: 50%;\n",
              "      cursor: pointer;\n",
              "      display: none;\n",
              "      fill: #1967D2;\n",
              "      height: 32px;\n",
              "      padding: 0 0 0 0;\n",
              "      width: 32px;\n",
              "    }\n",
              "\n",
              "    .colab-df-convert:hover {\n",
              "      background-color: #E2EBFA;\n",
              "      box-shadow: 0px 1px 2px rgba(60, 64, 67, 0.3), 0px 1px 3px 1px rgba(60, 64, 67, 0.15);\n",
              "      fill: #174EA6;\n",
              "    }\n",
              "\n",
              "    [theme=dark] .colab-df-convert {\n",
              "      background-color: #3B4455;\n",
              "      fill: #D2E3FC;\n",
              "    }\n",
              "\n",
              "    [theme=dark] .colab-df-convert:hover {\n",
              "      background-color: #434B5C;\n",
              "      box-shadow: 0px 1px 3px 1px rgba(0, 0, 0, 0.15);\n",
              "      filter: drop-shadow(0px 1px 2px rgba(0, 0, 0, 0.3));\n",
              "      fill: #FFFFFF;\n",
              "    }\n",
              "  </style>\n",
              "\n",
              "      <script>\n",
              "        const buttonEl =\n",
              "          document.querySelector('#df-e8baf50f-d505-470f-a76f-b3312c32b073 button.colab-df-convert');\n",
              "        buttonEl.style.display =\n",
              "          google.colab.kernel.accessAllowed ? 'block' : 'none';\n",
              "\n",
              "        async function convertToInteractive(key) {\n",
              "          const element = document.querySelector('#df-e8baf50f-d505-470f-a76f-b3312c32b073');\n",
              "          const dataTable =\n",
              "            await google.colab.kernel.invokeFunction('convertToInteractive',\n",
              "                                                     [key], {});\n",
              "          if (!dataTable) return;\n",
              "\n",
              "          const docLinkHtml = 'Like what you see? Visit the ' +\n",
              "            '<a target=\"_blank\" href=https://colab.research.google.com/notebooks/data_table.ipynb>data table notebook</a>'\n",
              "            + ' to learn more about interactive tables.';\n",
              "          element.innerHTML = '';\n",
              "          dataTable['output_type'] = 'display_data';\n",
              "          await google.colab.output.renderOutput(dataTable, element);\n",
              "          const docLink = document.createElement('div');\n",
              "          docLink.innerHTML = docLinkHtml;\n",
              "          element.appendChild(docLink);\n",
              "        }\n",
              "      </script>\n",
              "    </div>\n",
              "  </div>\n",
              "  "
            ]
          },
          "metadata": {},
          "execution_count": 53
        }
      ]
    },
    {
      "cell_type": "code",
      "source": [
        "# check for columns that are not numeric\n",
        "for label, content in test_df_temp.items():\n",
        "    if not pd.api.types.is_numeric_dtype(content):\n",
        "        print(label)"
      ],
      "metadata": {
        "colab": {
          "base_uri": "https://localhost:8080/"
        },
        "outputId": "2676605b-6da9-4bdc-cdaf-0415f2fbcf9d",
        "id": "kQBX_9exeail"
      },
      "execution_count": null,
      "outputs": [
        {
          "output_type": "stream",
          "name": "stdout",
          "text": [
            "HomePlanet\n",
            "CryoSleep\n",
            "Destination\n",
            "VIP\n",
            "Cabin_deck\n",
            "Cabin_no.\n",
            "Cabin_side\n",
            "firstname\n",
            "last_name\n",
            "PassengerId_group\n",
            "PassenngerId_no\n"
          ]
        }
      ]
    },
    {
      "cell_type": "code",
      "source": [
        "test_df_temp.isna().sum()"
      ],
      "metadata": {
        "colab": {
          "base_uri": "https://localhost:8080/"
        },
        "outputId": "b6d172bd-c664-440e-cd6a-1430c3ce5ee0",
        "id": "gvN8jDzoeail"
      },
      "execution_count": null,
      "outputs": [
        {
          "output_type": "execute_result",
          "data": {
            "text/plain": [
              "HomePlanet                  87\n",
              "CryoSleep                   93\n",
              "Destination                 92\n",
              "Age                          0\n",
              "VIP                         93\n",
              "RoomService                  0\n",
              "FoodCourt                    0\n",
              "ShoppingMall                 0\n",
              "Spa                          0\n",
              "VRDeck                       0\n",
              "Age_is_missing               0\n",
              "RoomService_is_missing       0\n",
              "FoodCourt_is_missing         0\n",
              "ShoppingMall_is_missing      0\n",
              "Spa_is_missing               0\n",
              "VRDeck_is_missing            0\n",
              "Cabin_deck                 100\n",
              "Cabin_no.                  100\n",
              "Cabin_side                 100\n",
              "firstname                   94\n",
              "last_name                   94\n",
              "PassengerId_group            0\n",
              "PassenngerId_no              0\n",
              "dtype: int64"
            ]
          },
          "metadata": {},
          "execution_count": 55
        }
      ]
    },
    {
      "cell_type": "code",
      "source": [
        "# Turn categorical variables into numbers and fill missing\n",
        "for label, content in test_df_temp.items():\n",
        "    if not pd.api.types.is_numeric_dtype(content):\n",
        "        # Add a binary column to indicate weather sample has a missing value\n",
        "        test_df_temp[label+'_is_missing'] = pd.isnull(content)\n",
        "        # Turn categories into numbers and add +1\n",
        "        test_df_temp[label] = pd.Categorical(content).codes +1"
      ],
      "metadata": {
        "id": "Uy9stht6eail"
      },
      "execution_count": null,
      "outputs": []
    },
    {
      "cell_type": "code",
      "source": [
        "# Check for more categorical columns have null values\n",
        "for label, content in test_df_temp.items():\n",
        "    if not pd.api.types.is_numeric_dtype(content):\n",
        "        if pd.isnull(content).sum():\n",
        "            print(label)"
      ],
      "metadata": {
        "id": "3l6NMyDAeaim"
      },
      "execution_count": null,
      "outputs": []
    },
    {
      "cell_type": "code",
      "source": [
        "test_df_temp.isna().sum()"
      ],
      "metadata": {
        "colab": {
          "base_uri": "https://localhost:8080/"
        },
        "outputId": "84abfe81-9327-4e43-c864-8395ec85054b",
        "id": "UwNxnJjdeaim"
      },
      "execution_count": null,
      "outputs": [
        {
          "output_type": "execute_result",
          "data": {
            "text/plain": [
              "HomePlanet                      0\n",
              "CryoSleep                       0\n",
              "Destination                     0\n",
              "Age                             0\n",
              "VIP                             0\n",
              "RoomService                     0\n",
              "FoodCourt                       0\n",
              "ShoppingMall                    0\n",
              "Spa                             0\n",
              "VRDeck                          0\n",
              "Age_is_missing                  0\n",
              "RoomService_is_missing          0\n",
              "FoodCourt_is_missing            0\n",
              "ShoppingMall_is_missing         0\n",
              "Spa_is_missing                  0\n",
              "VRDeck_is_missing               0\n",
              "Cabin_deck                      0\n",
              "Cabin_no.                       0\n",
              "Cabin_side                      0\n",
              "firstname                       0\n",
              "last_name                       0\n",
              "PassengerId_group               0\n",
              "PassenngerId_no                 0\n",
              "HomePlanet_is_missing           0\n",
              "CryoSleep_is_missing            0\n",
              "Destination_is_missing          0\n",
              "VIP_is_missing                  0\n",
              "Cabin_deck_is_missing           0\n",
              "Cabin_no._is_missing            0\n",
              "Cabin_side_is_missing           0\n",
              "firstname_is_missing            0\n",
              "last_name_is_missing            0\n",
              "PassengerId_group_is_missing    0\n",
              "PassenngerId_no_is_missing      0\n",
              "dtype: int64"
            ]
          },
          "metadata": {},
          "execution_count": 58
        }
      ]
    },
    {
      "cell_type": "code",
      "source": [
        "df_temp.head()"
      ],
      "metadata": {
        "colab": {
          "base_uri": "https://localhost:8080/",
          "height": 300
        },
        "outputId": "1d2c68f0-3d6d-42d2-af93-6a6d02fa31ee",
        "id": "jqjdGvvHeaim"
      },
      "execution_count": null,
      "outputs": [
        {
          "output_type": "execute_result",
          "data": {
            "text/plain": [
              "   HomePlanet  CryoSleep  Destination   Age  VIP  RoomService  FoodCourt  \\\n",
              "0           2          1            3  39.0    1          0.0        0.0   \n",
              "1           1          1            3  24.0    1        109.0        9.0   \n",
              "2           2          1            3  58.0    2         43.0     3576.0   \n",
              "3           2          1            3  33.0    1          0.0     1283.0   \n",
              "4           1          1            3  16.0    1        303.0       70.0   \n",
              "\n",
              "   ShoppingMall     Spa  VRDeck  ...  CryoSleep_is_missing  \\\n",
              "0           0.0     0.0     0.0  ...                 False   \n",
              "1          25.0   549.0    44.0  ...                 False   \n",
              "2           0.0  6715.0    49.0  ...                 False   \n",
              "3         371.0  3329.0   193.0  ...                 False   \n",
              "4         151.0   565.0     2.0  ...                 False   \n",
              "\n",
              "   Destination_is_missing  VIP_is_missing  Cabin_deck_is_missing  \\\n",
              "0                   False           False                  False   \n",
              "1                   False           False                  False   \n",
              "2                   False           False                  False   \n",
              "3                   False           False                  False   \n",
              "4                   False           False                  False   \n",
              "\n",
              "   Cabin_no._is_missing  Cabin_side_is_missing  firstname_is_missing  \\\n",
              "0                 False                  False                 False   \n",
              "1                 False                  False                 False   \n",
              "2                 False                  False                 False   \n",
              "3                 False                  False                 False   \n",
              "4                 False                  False                 False   \n",
              "\n",
              "   last_name_is_missing  PassengerId_group_is_missing  \\\n",
              "0                 False                         False   \n",
              "1                 False                         False   \n",
              "2                 False                         False   \n",
              "3                 False                         False   \n",
              "4                 False                         False   \n",
              "\n",
              "   PassenngerId_no_is_missing  \n",
              "0                       False  \n",
              "1                       False  \n",
              "2                       False  \n",
              "3                       False  \n",
              "4                       False  \n",
              "\n",
              "[5 rows x 35 columns]"
            ],
            "text/html": [
              "\n",
              "  <div id=\"df-dc163029-21c5-4ae4-80b4-542fa9899b1e\">\n",
              "    <div class=\"colab-df-container\">\n",
              "      <div>\n",
              "<style scoped>\n",
              "    .dataframe tbody tr th:only-of-type {\n",
              "        vertical-align: middle;\n",
              "    }\n",
              "\n",
              "    .dataframe tbody tr th {\n",
              "        vertical-align: top;\n",
              "    }\n",
              "\n",
              "    .dataframe thead th {\n",
              "        text-align: right;\n",
              "    }\n",
              "</style>\n",
              "<table border=\"1\" class=\"dataframe\">\n",
              "  <thead>\n",
              "    <tr style=\"text-align: right;\">\n",
              "      <th></th>\n",
              "      <th>HomePlanet</th>\n",
              "      <th>CryoSleep</th>\n",
              "      <th>Destination</th>\n",
              "      <th>Age</th>\n",
              "      <th>VIP</th>\n",
              "      <th>RoomService</th>\n",
              "      <th>FoodCourt</th>\n",
              "      <th>ShoppingMall</th>\n",
              "      <th>Spa</th>\n",
              "      <th>VRDeck</th>\n",
              "      <th>...</th>\n",
              "      <th>CryoSleep_is_missing</th>\n",
              "      <th>Destination_is_missing</th>\n",
              "      <th>VIP_is_missing</th>\n",
              "      <th>Cabin_deck_is_missing</th>\n",
              "      <th>Cabin_no._is_missing</th>\n",
              "      <th>Cabin_side_is_missing</th>\n",
              "      <th>firstname_is_missing</th>\n",
              "      <th>last_name_is_missing</th>\n",
              "      <th>PassengerId_group_is_missing</th>\n",
              "      <th>PassenngerId_no_is_missing</th>\n",
              "    </tr>\n",
              "  </thead>\n",
              "  <tbody>\n",
              "    <tr>\n",
              "      <th>0</th>\n",
              "      <td>2</td>\n",
              "      <td>1</td>\n",
              "      <td>3</td>\n",
              "      <td>39.0</td>\n",
              "      <td>1</td>\n",
              "      <td>0.0</td>\n",
              "      <td>0.0</td>\n",
              "      <td>0.0</td>\n",
              "      <td>0.0</td>\n",
              "      <td>0.0</td>\n",
              "      <td>...</td>\n",
              "      <td>False</td>\n",
              "      <td>False</td>\n",
              "      <td>False</td>\n",
              "      <td>False</td>\n",
              "      <td>False</td>\n",
              "      <td>False</td>\n",
              "      <td>False</td>\n",
              "      <td>False</td>\n",
              "      <td>False</td>\n",
              "      <td>False</td>\n",
              "    </tr>\n",
              "    <tr>\n",
              "      <th>1</th>\n",
              "      <td>1</td>\n",
              "      <td>1</td>\n",
              "      <td>3</td>\n",
              "      <td>24.0</td>\n",
              "      <td>1</td>\n",
              "      <td>109.0</td>\n",
              "      <td>9.0</td>\n",
              "      <td>25.0</td>\n",
              "      <td>549.0</td>\n",
              "      <td>44.0</td>\n",
              "      <td>...</td>\n",
              "      <td>False</td>\n",
              "      <td>False</td>\n",
              "      <td>False</td>\n",
              "      <td>False</td>\n",
              "      <td>False</td>\n",
              "      <td>False</td>\n",
              "      <td>False</td>\n",
              "      <td>False</td>\n",
              "      <td>False</td>\n",
              "      <td>False</td>\n",
              "    </tr>\n",
              "    <tr>\n",
              "      <th>2</th>\n",
              "      <td>2</td>\n",
              "      <td>1</td>\n",
              "      <td>3</td>\n",
              "      <td>58.0</td>\n",
              "      <td>2</td>\n",
              "      <td>43.0</td>\n",
              "      <td>3576.0</td>\n",
              "      <td>0.0</td>\n",
              "      <td>6715.0</td>\n",
              "      <td>49.0</td>\n",
              "      <td>...</td>\n",
              "      <td>False</td>\n",
              "      <td>False</td>\n",
              "      <td>False</td>\n",
              "      <td>False</td>\n",
              "      <td>False</td>\n",
              "      <td>False</td>\n",
              "      <td>False</td>\n",
              "      <td>False</td>\n",
              "      <td>False</td>\n",
              "      <td>False</td>\n",
              "    </tr>\n",
              "    <tr>\n",
              "      <th>3</th>\n",
              "      <td>2</td>\n",
              "      <td>1</td>\n",
              "      <td>3</td>\n",
              "      <td>33.0</td>\n",
              "      <td>1</td>\n",
              "      <td>0.0</td>\n",
              "      <td>1283.0</td>\n",
              "      <td>371.0</td>\n",
              "      <td>3329.0</td>\n",
              "      <td>193.0</td>\n",
              "      <td>...</td>\n",
              "      <td>False</td>\n",
              "      <td>False</td>\n",
              "      <td>False</td>\n",
              "      <td>False</td>\n",
              "      <td>False</td>\n",
              "      <td>False</td>\n",
              "      <td>False</td>\n",
              "      <td>False</td>\n",
              "      <td>False</td>\n",
              "      <td>False</td>\n",
              "    </tr>\n",
              "    <tr>\n",
              "      <th>4</th>\n",
              "      <td>1</td>\n",
              "      <td>1</td>\n",
              "      <td>3</td>\n",
              "      <td>16.0</td>\n",
              "      <td>1</td>\n",
              "      <td>303.0</td>\n",
              "      <td>70.0</td>\n",
              "      <td>151.0</td>\n",
              "      <td>565.0</td>\n",
              "      <td>2.0</td>\n",
              "      <td>...</td>\n",
              "      <td>False</td>\n",
              "      <td>False</td>\n",
              "      <td>False</td>\n",
              "      <td>False</td>\n",
              "      <td>False</td>\n",
              "      <td>False</td>\n",
              "      <td>False</td>\n",
              "      <td>False</td>\n",
              "      <td>False</td>\n",
              "      <td>False</td>\n",
              "    </tr>\n",
              "  </tbody>\n",
              "</table>\n",
              "<p>5 rows × 35 columns</p>\n",
              "</div>\n",
              "      <button class=\"colab-df-convert\" onclick=\"convertToInteractive('df-dc163029-21c5-4ae4-80b4-542fa9899b1e')\"\n",
              "              title=\"Convert this dataframe to an interactive table.\"\n",
              "              style=\"display:none;\">\n",
              "        \n",
              "  <svg xmlns=\"http://www.w3.org/2000/svg\" height=\"24px\"viewBox=\"0 0 24 24\"\n",
              "       width=\"24px\">\n",
              "    <path d=\"M0 0h24v24H0V0z\" fill=\"none\"/>\n",
              "    <path d=\"M18.56 5.44l.94 2.06.94-2.06 2.06-.94-2.06-.94-.94-2.06-.94 2.06-2.06.94zm-11 1L8.5 8.5l.94-2.06 2.06-.94-2.06-.94L8.5 2.5l-.94 2.06-2.06.94zm10 10l.94 2.06.94-2.06 2.06-.94-2.06-.94-.94-2.06-.94 2.06-2.06.94z\"/><path d=\"M17.41 7.96l-1.37-1.37c-.4-.4-.92-.59-1.43-.59-.52 0-1.04.2-1.43.59L10.3 9.45l-7.72 7.72c-.78.78-.78 2.05 0 2.83L4 21.41c.39.39.9.59 1.41.59.51 0 1.02-.2 1.41-.59l7.78-7.78 2.81-2.81c.8-.78.8-2.07 0-2.86zM5.41 20L4 18.59l7.72-7.72 1.47 1.35L5.41 20z\"/>\n",
              "  </svg>\n",
              "      </button>\n",
              "      \n",
              "  <style>\n",
              "    .colab-df-container {\n",
              "      display:flex;\n",
              "      flex-wrap:wrap;\n",
              "      gap: 12px;\n",
              "    }\n",
              "\n",
              "    .colab-df-convert {\n",
              "      background-color: #E8F0FE;\n",
              "      border: none;\n",
              "      border-radius: 50%;\n",
              "      cursor: pointer;\n",
              "      display: none;\n",
              "      fill: #1967D2;\n",
              "      height: 32px;\n",
              "      padding: 0 0 0 0;\n",
              "      width: 32px;\n",
              "    }\n",
              "\n",
              "    .colab-df-convert:hover {\n",
              "      background-color: #E2EBFA;\n",
              "      box-shadow: 0px 1px 2px rgba(60, 64, 67, 0.3), 0px 1px 3px 1px rgba(60, 64, 67, 0.15);\n",
              "      fill: #174EA6;\n",
              "    }\n",
              "\n",
              "    [theme=dark] .colab-df-convert {\n",
              "      background-color: #3B4455;\n",
              "      fill: #D2E3FC;\n",
              "    }\n",
              "\n",
              "    [theme=dark] .colab-df-convert:hover {\n",
              "      background-color: #434B5C;\n",
              "      box-shadow: 0px 1px 3px 1px rgba(0, 0, 0, 0.15);\n",
              "      filter: drop-shadow(0px 1px 2px rgba(0, 0, 0, 0.3));\n",
              "      fill: #FFFFFF;\n",
              "    }\n",
              "  </style>\n",
              "\n",
              "      <script>\n",
              "        const buttonEl =\n",
              "          document.querySelector('#df-dc163029-21c5-4ae4-80b4-542fa9899b1e button.colab-df-convert');\n",
              "        buttonEl.style.display =\n",
              "          google.colab.kernel.accessAllowed ? 'block' : 'none';\n",
              "\n",
              "        async function convertToInteractive(key) {\n",
              "          const element = document.querySelector('#df-dc163029-21c5-4ae4-80b4-542fa9899b1e');\n",
              "          const dataTable =\n",
              "            await google.colab.kernel.invokeFunction('convertToInteractive',\n",
              "                                                     [key], {});\n",
              "          if (!dataTable) return;\n",
              "\n",
              "          const docLinkHtml = 'Like what you see? Visit the ' +\n",
              "            '<a target=\"_blank\" href=https://colab.research.google.com/notebooks/data_table.ipynb>data table notebook</a>'\n",
              "            + ' to learn more about interactive tables.';\n",
              "          element.innerHTML = '';\n",
              "          dataTable['output_type'] = 'display_data';\n",
              "          await google.colab.output.renderOutput(dataTable, element);\n",
              "          const docLink = document.createElement('div');\n",
              "          docLink.innerHTML = docLinkHtml;\n",
              "          element.appendChild(docLink);\n",
              "        }\n",
              "      </script>\n",
              "    </div>\n",
              "  </div>\n",
              "  "
            ]
          },
          "metadata": {},
          "execution_count": 59
        }
      ]
    },
    {
      "cell_type": "code",
      "source": [
        "test_df_temp.head()"
      ],
      "metadata": {
        "colab": {
          "base_uri": "https://localhost:8080/",
          "height": 300
        },
        "id": "DrZlPP8jgXup",
        "outputId": "c93859bf-620d-44d8-a9dd-59e91e312bd1"
      },
      "execution_count": null,
      "outputs": [
        {
          "output_type": "execute_result",
          "data": {
            "text/plain": [
              "   HomePlanet  CryoSleep  Destination    Age  VIP  RoomService  FoodCourt  \\\n",
              "0           1          2            3    0.0    1          0.0        0.0   \n",
              "1           1          1            3   44.0    1         44.0       44.0   \n",
              "2           2          2            1   49.0    1         49.0       49.0   \n",
              "3           2          1            3  193.0    1        193.0      193.0   \n",
              "4           1          1            3    2.0    1          2.0        2.0   \n",
              "\n",
              "   ShoppingMall    Spa  VRDeck  ...  CryoSleep_is_missing  \\\n",
              "0           0.0    0.0     0.0  ...                 False   \n",
              "1          44.0   44.0    44.0  ...                 False   \n",
              "2          49.0   49.0    49.0  ...                 False   \n",
              "3         193.0  193.0   193.0  ...                 False   \n",
              "4           2.0    2.0     2.0  ...                 False   \n",
              "\n",
              "   Destination_is_missing  VIP_is_missing  Cabin_deck_is_missing  \\\n",
              "0                   False           False                  False   \n",
              "1                   False           False                  False   \n",
              "2                   False           False                  False   \n",
              "3                   False           False                  False   \n",
              "4                   False           False                  False   \n",
              "\n",
              "   Cabin_no._is_missing  Cabin_side_is_missing  firstname_is_missing  \\\n",
              "0                 False                  False                 False   \n",
              "1                 False                  False                 False   \n",
              "2                 False                  False                 False   \n",
              "3                 False                  False                 False   \n",
              "4                 False                  False                 False   \n",
              "\n",
              "   last_name_is_missing  PassengerId_group_is_missing  \\\n",
              "0                 False                         False   \n",
              "1                 False                         False   \n",
              "2                 False                         False   \n",
              "3                 False                         False   \n",
              "4                 False                         False   \n",
              "\n",
              "   PassenngerId_no_is_missing  \n",
              "0                       False  \n",
              "1                       False  \n",
              "2                       False  \n",
              "3                       False  \n",
              "4                       False  \n",
              "\n",
              "[5 rows x 34 columns]"
            ],
            "text/html": [
              "\n",
              "  <div id=\"df-6558af19-04c5-4275-90dd-de772eaae1dd\">\n",
              "    <div class=\"colab-df-container\">\n",
              "      <div>\n",
              "<style scoped>\n",
              "    .dataframe tbody tr th:only-of-type {\n",
              "        vertical-align: middle;\n",
              "    }\n",
              "\n",
              "    .dataframe tbody tr th {\n",
              "        vertical-align: top;\n",
              "    }\n",
              "\n",
              "    .dataframe thead th {\n",
              "        text-align: right;\n",
              "    }\n",
              "</style>\n",
              "<table border=\"1\" class=\"dataframe\">\n",
              "  <thead>\n",
              "    <tr style=\"text-align: right;\">\n",
              "      <th></th>\n",
              "      <th>HomePlanet</th>\n",
              "      <th>CryoSleep</th>\n",
              "      <th>Destination</th>\n",
              "      <th>Age</th>\n",
              "      <th>VIP</th>\n",
              "      <th>RoomService</th>\n",
              "      <th>FoodCourt</th>\n",
              "      <th>ShoppingMall</th>\n",
              "      <th>Spa</th>\n",
              "      <th>VRDeck</th>\n",
              "      <th>...</th>\n",
              "      <th>CryoSleep_is_missing</th>\n",
              "      <th>Destination_is_missing</th>\n",
              "      <th>VIP_is_missing</th>\n",
              "      <th>Cabin_deck_is_missing</th>\n",
              "      <th>Cabin_no._is_missing</th>\n",
              "      <th>Cabin_side_is_missing</th>\n",
              "      <th>firstname_is_missing</th>\n",
              "      <th>last_name_is_missing</th>\n",
              "      <th>PassengerId_group_is_missing</th>\n",
              "      <th>PassenngerId_no_is_missing</th>\n",
              "    </tr>\n",
              "  </thead>\n",
              "  <tbody>\n",
              "    <tr>\n",
              "      <th>0</th>\n",
              "      <td>1</td>\n",
              "      <td>2</td>\n",
              "      <td>3</td>\n",
              "      <td>0.0</td>\n",
              "      <td>1</td>\n",
              "      <td>0.0</td>\n",
              "      <td>0.0</td>\n",
              "      <td>0.0</td>\n",
              "      <td>0.0</td>\n",
              "      <td>0.0</td>\n",
              "      <td>...</td>\n",
              "      <td>False</td>\n",
              "      <td>False</td>\n",
              "      <td>False</td>\n",
              "      <td>False</td>\n",
              "      <td>False</td>\n",
              "      <td>False</td>\n",
              "      <td>False</td>\n",
              "      <td>False</td>\n",
              "      <td>False</td>\n",
              "      <td>False</td>\n",
              "    </tr>\n",
              "    <tr>\n",
              "      <th>1</th>\n",
              "      <td>1</td>\n",
              "      <td>1</td>\n",
              "      <td>3</td>\n",
              "      <td>44.0</td>\n",
              "      <td>1</td>\n",
              "      <td>44.0</td>\n",
              "      <td>44.0</td>\n",
              "      <td>44.0</td>\n",
              "      <td>44.0</td>\n",
              "      <td>44.0</td>\n",
              "      <td>...</td>\n",
              "      <td>False</td>\n",
              "      <td>False</td>\n",
              "      <td>False</td>\n",
              "      <td>False</td>\n",
              "      <td>False</td>\n",
              "      <td>False</td>\n",
              "      <td>False</td>\n",
              "      <td>False</td>\n",
              "      <td>False</td>\n",
              "      <td>False</td>\n",
              "    </tr>\n",
              "    <tr>\n",
              "      <th>2</th>\n",
              "      <td>2</td>\n",
              "      <td>2</td>\n",
              "      <td>1</td>\n",
              "      <td>49.0</td>\n",
              "      <td>1</td>\n",
              "      <td>49.0</td>\n",
              "      <td>49.0</td>\n",
              "      <td>49.0</td>\n",
              "      <td>49.0</td>\n",
              "      <td>49.0</td>\n",
              "      <td>...</td>\n",
              "      <td>False</td>\n",
              "      <td>False</td>\n",
              "      <td>False</td>\n",
              "      <td>False</td>\n",
              "      <td>False</td>\n",
              "      <td>False</td>\n",
              "      <td>False</td>\n",
              "      <td>False</td>\n",
              "      <td>False</td>\n",
              "      <td>False</td>\n",
              "    </tr>\n",
              "    <tr>\n",
              "      <th>3</th>\n",
              "      <td>2</td>\n",
              "      <td>1</td>\n",
              "      <td>3</td>\n",
              "      <td>193.0</td>\n",
              "      <td>1</td>\n",
              "      <td>193.0</td>\n",
              "      <td>193.0</td>\n",
              "      <td>193.0</td>\n",
              "      <td>193.0</td>\n",
              "      <td>193.0</td>\n",
              "      <td>...</td>\n",
              "      <td>False</td>\n",
              "      <td>False</td>\n",
              "      <td>False</td>\n",
              "      <td>False</td>\n",
              "      <td>False</td>\n",
              "      <td>False</td>\n",
              "      <td>False</td>\n",
              "      <td>False</td>\n",
              "      <td>False</td>\n",
              "      <td>False</td>\n",
              "    </tr>\n",
              "    <tr>\n",
              "      <th>4</th>\n",
              "      <td>1</td>\n",
              "      <td>1</td>\n",
              "      <td>3</td>\n",
              "      <td>2.0</td>\n",
              "      <td>1</td>\n",
              "      <td>2.0</td>\n",
              "      <td>2.0</td>\n",
              "      <td>2.0</td>\n",
              "      <td>2.0</td>\n",
              "      <td>2.0</td>\n",
              "      <td>...</td>\n",
              "      <td>False</td>\n",
              "      <td>False</td>\n",
              "      <td>False</td>\n",
              "      <td>False</td>\n",
              "      <td>False</td>\n",
              "      <td>False</td>\n",
              "      <td>False</td>\n",
              "      <td>False</td>\n",
              "      <td>False</td>\n",
              "      <td>False</td>\n",
              "    </tr>\n",
              "  </tbody>\n",
              "</table>\n",
              "<p>5 rows × 34 columns</p>\n",
              "</div>\n",
              "      <button class=\"colab-df-convert\" onclick=\"convertToInteractive('df-6558af19-04c5-4275-90dd-de772eaae1dd')\"\n",
              "              title=\"Convert this dataframe to an interactive table.\"\n",
              "              style=\"display:none;\">\n",
              "        \n",
              "  <svg xmlns=\"http://www.w3.org/2000/svg\" height=\"24px\"viewBox=\"0 0 24 24\"\n",
              "       width=\"24px\">\n",
              "    <path d=\"M0 0h24v24H0V0z\" fill=\"none\"/>\n",
              "    <path d=\"M18.56 5.44l.94 2.06.94-2.06 2.06-.94-2.06-.94-.94-2.06-.94 2.06-2.06.94zm-11 1L8.5 8.5l.94-2.06 2.06-.94-2.06-.94L8.5 2.5l-.94 2.06-2.06.94zm10 10l.94 2.06.94-2.06 2.06-.94-2.06-.94-.94-2.06-.94 2.06-2.06.94z\"/><path d=\"M17.41 7.96l-1.37-1.37c-.4-.4-.92-.59-1.43-.59-.52 0-1.04.2-1.43.59L10.3 9.45l-7.72 7.72c-.78.78-.78 2.05 0 2.83L4 21.41c.39.39.9.59 1.41.59.51 0 1.02-.2 1.41-.59l7.78-7.78 2.81-2.81c.8-.78.8-2.07 0-2.86zM5.41 20L4 18.59l7.72-7.72 1.47 1.35L5.41 20z\"/>\n",
              "  </svg>\n",
              "      </button>\n",
              "      \n",
              "  <style>\n",
              "    .colab-df-container {\n",
              "      display:flex;\n",
              "      flex-wrap:wrap;\n",
              "      gap: 12px;\n",
              "    }\n",
              "\n",
              "    .colab-df-convert {\n",
              "      background-color: #E8F0FE;\n",
              "      border: none;\n",
              "      border-radius: 50%;\n",
              "      cursor: pointer;\n",
              "      display: none;\n",
              "      fill: #1967D2;\n",
              "      height: 32px;\n",
              "      padding: 0 0 0 0;\n",
              "      width: 32px;\n",
              "    }\n",
              "\n",
              "    .colab-df-convert:hover {\n",
              "      background-color: #E2EBFA;\n",
              "      box-shadow: 0px 1px 2px rgba(60, 64, 67, 0.3), 0px 1px 3px 1px rgba(60, 64, 67, 0.15);\n",
              "      fill: #174EA6;\n",
              "    }\n",
              "\n",
              "    [theme=dark] .colab-df-convert {\n",
              "      background-color: #3B4455;\n",
              "      fill: #D2E3FC;\n",
              "    }\n",
              "\n",
              "    [theme=dark] .colab-df-convert:hover {\n",
              "      background-color: #434B5C;\n",
              "      box-shadow: 0px 1px 3px 1px rgba(0, 0, 0, 0.15);\n",
              "      filter: drop-shadow(0px 1px 2px rgba(0, 0, 0, 0.3));\n",
              "      fill: #FFFFFF;\n",
              "    }\n",
              "  </style>\n",
              "\n",
              "      <script>\n",
              "        const buttonEl =\n",
              "          document.querySelector('#df-6558af19-04c5-4275-90dd-de772eaae1dd button.colab-df-convert');\n",
              "        buttonEl.style.display =\n",
              "          google.colab.kernel.accessAllowed ? 'block' : 'none';\n",
              "\n",
              "        async function convertToInteractive(key) {\n",
              "          const element = document.querySelector('#df-6558af19-04c5-4275-90dd-de772eaae1dd');\n",
              "          const dataTable =\n",
              "            await google.colab.kernel.invokeFunction('convertToInteractive',\n",
              "                                                     [key], {});\n",
              "          if (!dataTable) return;\n",
              "\n",
              "          const docLinkHtml = 'Like what you see? Visit the ' +\n",
              "            '<a target=\"_blank\" href=https://colab.research.google.com/notebooks/data_table.ipynb>data table notebook</a>'\n",
              "            + ' to learn more about interactive tables.';\n",
              "          element.innerHTML = '';\n",
              "          dataTable['output_type'] = 'display_data';\n",
              "          await google.colab.output.renderOutput(dataTable, element);\n",
              "          const docLink = document.createElement('div');\n",
              "          docLink.innerHTML = docLinkHtml;\n",
              "          element.appendChild(docLink);\n",
              "        }\n",
              "      </script>\n",
              "    </div>\n",
              "  </div>\n",
              "  "
            ]
          },
          "metadata": {},
          "execution_count": 60
        }
      ]
    },
    {
      "cell_type": "code",
      "source": [],
      "metadata": {
        "id": "7-n-aLqRiaPp"
      },
      "execution_count": null,
      "outputs": []
    },
    {
      "cell_type": "markdown",
      "source": [
        "## Data is ready, so we can start with prepairing the model."
      ],
      "metadata": {
        "id": "SBrIo6WfE2WR"
      }
    },
    {
      "cell_type": "code",
      "source": [
        "# scaler = MinMaxScaler()\n",
        "# scaler.fit_transform(df_temp)"
      ],
      "metadata": {
        "id": "LlzIAvxN8ids"
      },
      "execution_count": null,
      "outputs": []
    },
    {
      "cell_type": "code",
      "source": [
        "X = df_temp.drop('Transported', axis=1)\n",
        "y = df_temp.Transported"
      ],
      "metadata": {
        "id": "16uTLEAQjJ2c"
      },
      "execution_count": null,
      "outputs": []
    },
    {
      "cell_type": "code",
      "source": [
        "#split the data into train and test sets\n",
        "\n",
        "X_train, X_val, y_train, y_val = train_test_split(X, y, test_size=0.2, random_state=42)\n",
        "\n",
        "# np.random.seed(42)\n",
        "\n",
        "# X_train = X.iloc[:int(len(X) * 0.8), :]\n",
        "# X_val = X.iloc[int(len(X) * 0.8):, :]\n",
        "# y_train = y.iloc[:int(len(y) * 0.8)]\n",
        "# y_val = y.iloc[int(len(y) * 0.8):]"
      ],
      "metadata": {
        "id": "aCW_ZPKjjPS6"
      },
      "execution_count": null,
      "outputs": []
    },
    {
      "cell_type": "code",
      "source": [
        "#!pip install scikeras"
      ],
      "metadata": {
        "id": "twFGc9bjsilm"
      },
      "execution_count": null,
      "outputs": []
    },
    {
      "cell_type": "markdown",
      "source": [
        "```\n",
        "def create_larger():\n",
        "\t# create model\n",
        "  model = Sequential()\n",
        "  model.add(Dense(int(len(X_train.columns)/2), input_shape=(len(X_train.columns),), activation='relu'))\n",
        "  model.add(Dense(int(len(X_train.columns)/2), activation='relu'))\n",
        "  model.add(Dense(int(len(X_train.columns)/2), activation='relu'))\n",
        "  model.add(Dense(1, activation='sigmoid'))\n",
        "\t# Compile model\n",
        "  model.compile(loss='binary_crossentropy', optimizer='adam', metrics=['accuracy'])\n",
        "  return model\n",
        "estimators = []\n",
        "estimators.append(('standardize', StandardScaler()))\n",
        "estimators.append(('mlp', KerasClassifier(model=create_larger, epochs=100, batch_size=32, verbose=0)))\n",
        "pipeline = Pipeline(estimators)\n",
        "kfold = StratifiedKFold(n_splits=10, shuffle=False)\n",
        "results = cross_val_score(pipeline, X_train, y_train, cv=kfold)\n",
        "print(\"Larger: %.2f%% (%.2f%%)\" % (results.mean()*100, results.std()*100))\n",
        "```"
      ],
      "metadata": {
        "id": "S5VPvPRS7QYm"
      }
    },
    {
      "cell_type": "code",
      "source": [
        "from sklearn.preprocessing import StandardScaler\n",
        "\n",
        "scaler = MinMaxScaler()\n",
        "X_train = scaler.fit_transform(X_train)\n",
        "X_val = scaler.transform(X_val)\n",
        "X_test = scaler.transform(test_df_temp)"
      ],
      "metadata": {
        "id": "4ul7gpK1eR9s"
      },
      "execution_count": null,
      "outputs": []
    },
    {
      "cell_type": "code",
      "source": [
        "X_train.shape, y_train.shape, X_val.shape, y_val.shape, X_test.shape"
      ],
      "metadata": {
        "colab": {
          "base_uri": "https://localhost:8080/"
        },
        "id": "hwlB5_oiWMms",
        "outputId": "c59a7301-c870-4372-e6db-3be50defd6fc"
      },
      "execution_count": null,
      "outputs": [
        {
          "output_type": "execute_result",
          "data": {
            "text/plain": [
              "((6954, 34), (6954,), (1739, 34), (1739,), (4277, 34))"
            ]
          },
          "metadata": {},
          "execution_count": 66
        }
      ]
    },
    {
      "cell_type": "code",
      "source": [
        "X_train.dtype, y_train.dtype, X_val.dtype, y_val.dtype, X_test.dtype"
      ],
      "metadata": {
        "colab": {
          "base_uri": "https://localhost:8080/"
        },
        "id": "ri4T7MWlqyhS",
        "outputId": "6032f024-0a40-4a5c-8316-ee63ede17a14"
      },
      "execution_count": null,
      "outputs": [
        {
          "output_type": "execute_result",
          "data": {
            "text/plain": [
              "(dtype('float64'),\n",
              " dtype('bool'),\n",
              " dtype('float64'),\n",
              " dtype('bool'),\n",
              " dtype('float64'))"
            ]
          },
          "metadata": {},
          "execution_count": 67
        }
      ]
    },
    {
      "cell_type": "code",
      "source": [
        "y_train.to_numpy()"
      ],
      "metadata": {
        "colab": {
          "base_uri": "https://localhost:8080/"
        },
        "id": "DkUz4SMcsBF3",
        "outputId": "b7bed9c9-8d43-4bac-d7f6-5e37d3236467"
      },
      "execution_count": null,
      "outputs": [
        {
          "output_type": "execute_result",
          "data": {
            "text/plain": [
              "array([False, False,  True, ..., False, False, False])"
            ]
          },
          "metadata": {},
          "execution_count": 68
        }
      ]
    },
    {
      "cell_type": "code",
      "source": [
        "from torch.utils.data import DataLoader, Dataset\n",
        "\n",
        "BATCH_SIZE = 32\n",
        "LEARNING_RATE = 0.001\n",
        "\n",
        "## train data\n",
        "class TrainData(Dataset):\n",
        "    \n",
        "    def __init__(self, X_data, y_data):\n",
        "        self.X_data = X_data\n",
        "        self.y_data = y_data\n",
        "        \n",
        "    def __getitem__(self, index):\n",
        "        return self.X_data[index], self.y_data[index]\n",
        "        \n",
        "    def __len__ (self):\n",
        "        return len(self.X_data)\n",
        "\n",
        "\n",
        "train_dataset = TrainData(torch.FloatTensor(X_train), \n",
        "                          torch.FloatTensor(y_train.to_numpy()))\n",
        "\n",
        "## validation data    \n",
        "class ValData(Dataset):\n",
        "    \n",
        "    def __init__(self, X_data, y_data):\n",
        "        self.X_data = X_data\n",
        "        self.y_data = y_data\n",
        "        \n",
        "    def __getitem__(self, index):\n",
        "        return self.X_data[index], self.y_data[index]\n",
        "        \n",
        "    def __len__ (self):\n",
        "        return len(self.X_data)\n",
        "    \n",
        "\n",
        "test_dataset = ValData(torch.FloatTensor(X_val),\n",
        "                        torch.FloatTensor(y_val.to_numpy()))\n",
        "\n",
        "## train data\n",
        "class TestData(Dataset):\n",
        "    \n",
        "    def __init__(self, X_data):\n",
        "        self.X_data = X_data\n",
        "                \n",
        "    def __getitem__(self, index):\n",
        "        return self.X_data[index]\n",
        "        \n",
        "    def __len__ (self):\n",
        "        return len(self.X_data)\n",
        "\n",
        "\n",
        "main_test_dataset = TestData(torch.FloatTensor(X_test))"
      ],
      "metadata": {
        "id": "i6QJPrJne4Wh"
      },
      "execution_count": null,
      "outputs": []
    },
    {
      "cell_type": "code",
      "source": [
        "train_loader = DataLoader(dataset=train_dataset, batch_size=BATCH_SIZE, shuffle=True)\n",
        "val_loader = DataLoader(dataset=test_dataset, batch_size=BATCH_SIZE)\n",
        "test_loader = DataLoader(dataset=main_test_dataset, batch_size=1)"
      ],
      "metadata": {
        "id": "N2kL2wqBe-JA"
      },
      "execution_count": null,
      "outputs": []
    },
    {
      "cell_type": "code",
      "source": [
        "# def make_data(tfeature, tlabel):\n",
        "  \n",
        "#   tens_feature = torch.from_numpy(tfeature)\n",
        "#   tens_label = torch.as_tensor(tlabel)\n",
        "  \n",
        "#   return tens_feature, tens_label\n",
        "  "
      ],
      "metadata": {
        "id": "BcEtxY8VBTuQ"
      },
      "execution_count": null,
      "outputs": []
    },
    {
      "cell_type": "code",
      "source": [
        "len(X_train), len(y_train), len(X_val), len(y_val)"
      ],
      "metadata": {
        "colab": {
          "base_uri": "https://localhost:8080/"
        },
        "id": "pb57F6ovKimr",
        "outputId": "085f6c57-e7fa-4322-a3cc-691a962ac532"
      },
      "execution_count": null,
      "outputs": [
        {
          "output_type": "execute_result",
          "data": {
            "text/plain": [
              "(6954, 6954, 1739, 1739)"
            ]
          },
          "metadata": {},
          "execution_count": 72
        }
      ]
    },
    {
      "cell_type": "code",
      "source": [
        "range(len(X_train))"
      ],
      "metadata": {
        "colab": {
          "base_uri": "https://localhost:8080/"
        },
        "id": "xkJnNNdgOmhG",
        "outputId": "11d80dd9-a0f6-4869-d3e2-b2a0a979f468"
      },
      "execution_count": null,
      "outputs": [
        {
          "output_type": "execute_result",
          "data": {
            "text/plain": [
              "range(0, 6954)"
            ]
          },
          "metadata": {},
          "execution_count": 73
        }
      ]
    },
    {
      "cell_type": "code",
      "source": [
        "# training_data=[]\n",
        "# for i in range(len(X_train)):\n",
        "#   training_data.append([X_train[i], y_train[i]])"
      ],
      "metadata": {
        "id": "0Wtj3F8rCHZr"
      },
      "execution_count": null,
      "outputs": []
    },
    {
      "cell_type": "code",
      "source": [
        "# valid_data=[]\n",
        "# for i in range(len(X_val)):\n",
        "#   valid_data.append([X_val[i], y_val[i]])"
      ],
      "metadata": {
        "id": "gJqwT2gVDCKM"
      },
      "execution_count": null,
      "outputs": []
    },
    {
      "cell_type": "code",
      "source": [
        "# training_data[0]"
      ],
      "metadata": {
        "id": "zUD1NtxgGd9d"
      },
      "execution_count": null,
      "outputs": []
    },
    {
      "cell_type": "code",
      "source": [
        "# len(training_data[0]), len(training_data)"
      ],
      "metadata": {
        "id": "Kek-o-q1HHxH"
      },
      "execution_count": null,
      "outputs": []
    },
    {
      "cell_type": "code",
      "source": [
        "# from torch.utils.data import DataLoader\n",
        "\n",
        "# # Setup the batch size hyperparameter\n",
        "# BATCH_SIZE = 32\n",
        "\n",
        "# # Turn datasets into iterables (batches)\n",
        "# train_dataloader = DataLoader(dataset=training_data,\n",
        "#                               batch_size=BATCH_SIZE,\n",
        "#                               shuffle=True)\n",
        "\n",
        "# val_dataloader = DataLoader(dataset=valid_data,\n",
        "#                              batch_size=BATCH_SIZE,\n",
        "#                              shuffle=False)\n",
        "\n",
        "# train_dataloader, val_dataloader\n",
        "# # Let's check out what we've created\n",
        "print(f\"Dataloaders: {train_loader, val_loader, test_loader}\") \n",
        "print(f\"Length of train dataloader: {len(train_loader)} batches of {BATCH_SIZE}\")\n",
        "print(f\"Length of validation dataloader: {len(val_loader)} batches of {BATCH_SIZE}\")\n",
        "print(f\"Length of validation dataloader: {len(test_loader)} batches of {1}\")"
      ],
      "metadata": {
        "id": "2Jny7WGMB4QZ",
        "colab": {
          "base_uri": "https://localhost:8080/"
        },
        "outputId": "bdcfe9bc-2c54-4a9b-afd1-d9d3223164ef"
      },
      "execution_count": null,
      "outputs": [
        {
          "output_type": "stream",
          "name": "stdout",
          "text": [
            "Dataloaders: (<torch.utils.data.dataloader.DataLoader object at 0x7efe005b1310>, <torch.utils.data.dataloader.DataLoader object at 0x7efe005b12d0>, <torch.utils.data.dataloader.DataLoader object at 0x7efe005b1590>)\n",
            "Length of train dataloader: 218 batches of 32\n",
            "Length of validation dataloader: 55 batches of 32\n",
            "Length of validation dataloader: 4277 batches of 1\n"
          ]
        }
      ]
    },
    {
      "cell_type": "code",
      "source": [
        "# Check out what's inside the training dataloader\n",
        "train_features_batch, train_labels_batch = next(iter(train_loader))\n",
        "train_features_batch.shape, train_labels_batch.shape, train_features_batch.dtype, train_labels_batch.dtype"
      ],
      "metadata": {
        "id": "9GSC6XUu96K_",
        "colab": {
          "base_uri": "https://localhost:8080/"
        },
        "outputId": "d579b3f0-48bf-48d9-d792-6d8c3750fbd5"
      },
      "execution_count": null,
      "outputs": [
        {
          "output_type": "execute_result",
          "data": {
            "text/plain": [
              "(torch.Size([32, 34]), torch.Size([32]), torch.float32, torch.float32)"
            ]
          },
          "metadata": {},
          "execution_count": 79
        }
      ]
    },
    {
      "cell_type": "code",
      "source": [
        "train_features_batch[0], train_labels_batch[0]"
      ],
      "metadata": {
        "colab": {
          "base_uri": "https://localhost:8080/"
        },
        "id": "hoWTMH7A-jRi",
        "outputId": "631f8e6e-285f-4f7b-e847-2f6dea6c59dc"
      },
      "execution_count": null,
      "outputs": [
        {
          "output_type": "execute_result",
          "data": {
            "text/plain": [
              "(tensor([0.3333, 0.5000, 1.0000, 0.2785, 0.5000, 0.0000, 0.0297, 0.0000, 0.0000,\n",
              "         0.0170, 0.0000, 0.0000, 0.0000, 0.0000, 0.0000, 0.0000, 0.7500, 0.0699,\n",
              "         0.5000, 0.2095, 0.1227, 0.5854, 0.2857, 0.0000, 0.0000, 0.0000, 0.0000,\n",
              "         0.0000, 0.0000, 0.0000, 0.0000, 0.0000, 0.0000, 0.0000]), tensor(0.))"
            ]
          },
          "metadata": {},
          "execution_count": 80
        }
      ]
    },
    {
      "cell_type": "code",
      "source": [
        "device = 'cuda' if torch.cuda.is_available() else 'cpu'\n",
        "device"
      ],
      "metadata": {
        "colab": {
          "base_uri": "https://localhost:8080/",
          "height": 35
        },
        "id": "ZyXU5AuDvtHy",
        "outputId": "e2729865-0cf7-481e-d1e9-3c25817678ac"
      },
      "execution_count": null,
      "outputs": [
        {
          "output_type": "execute_result",
          "data": {
            "text/plain": [
              "'cuda'"
            ],
            "application/vnd.google.colaboratory.intrinsic+json": {
              "type": "string"
            }
          },
          "metadata": {},
          "execution_count": 81
        }
      ]
    },
    {
      "cell_type": "markdown",
      "source": [
        "## Creating a model class!!!!"
      ],
      "metadata": {
        "id": "LRjBTG54HODR"
      }
    },
    {
      "cell_type": "markdown",
      "source": [
        "### SpaceTitanicV1"
      ],
      "metadata": {
        "id": "n8LwQEKMccUw"
      }
    },
    {
      "cell_type": "code",
      "source": [
        "class SpaceTitanicV1(nn.Module):\n",
        "  def __init__(self,\n",
        "               input_shape: int,\n",
        "               hidden_units: int,\n",
        "               output_shape: int):\n",
        "    super(SpaceTitanicV1, self).__init__()\n",
        "\n",
        "    self.layer_1 = nn.Linear(input_shape, hidden_units) \n",
        "    self.layer_2 = nn.Linear(hidden_units, hidden_units)\n",
        "    self.layer_3 = nn.Linear(hidden_units, hidden_units)\n",
        "    self.layer_out = nn.Linear(hidden_units, output_shape) \n",
        "    \n",
        "    self.relu = nn.ReLU()\n",
        "    self.dropout = nn.Dropout(p=0.1)\n",
        "    self.batchnorm1 = nn.BatchNorm1d(hidden_units)\n",
        "    self.batchnorm2 = nn.BatchNorm1d(hidden_units)\n",
        "    self.batchnorm3 = nn.BatchNorm1d(hidden_units)\n",
        "        \n",
        "  def forward(self, inputs):\n",
        "    x = self.relu(self.layer_1(inputs))\n",
        "    x = self.batchnorm1(x)\n",
        "    x = self.relu(self.layer_2(x))\n",
        "    x = self.batchnorm2(x)\n",
        "    x = self.relu(self.layer_3(x))\n",
        "    x = self.batchnorm3(x)\n",
        "    x = self.dropout(x)\n",
        "    x = self.layer_out(x)\n",
        "    \n",
        "    return x"
      ],
      "metadata": {
        "id": "gwF5T802D3IA"
      },
      "execution_count": null,
      "outputs": []
    },
    {
      "cell_type": "markdown",
      "source": [
        "### SpaceTitanicV2"
      ],
      "metadata": {
        "id": "yKyz71qzcgeP"
      }
    },
    {
      "cell_type": "code",
      "source": [
        "class SpaceTitanicV2(nn.Module):\n",
        "  def __init__(self,\n",
        "               input_shape: int,\n",
        "               hidden_units: int,\n",
        "               output_shape: int):\n",
        "    super(SpaceTitanicV2, self).__init__()\n",
        "\n",
        "    self.layer_1 = nn.Linear(input_shape, hidden_units) \n",
        "    self.layer_2 = nn.Linear(hidden_units, hidden_units)\n",
        "    self.layer_out = nn.Linear(hidden_units, output_shape) \n",
        "    \n",
        "    self.relu = nn.ReLU()\n",
        "    self.dropout = nn.Dropout(p=0.1)\n",
        "    self.batchnorm1 = nn.BatchNorm1d(hidden_units)\n",
        "    self.batchnorm2 = nn.BatchNorm1d(hidden_units)\n",
        "        \n",
        "  def forward(self, inputs):\n",
        "    x = self.relu(self.layer_1(inputs))\n",
        "    x = self.batchnorm1(x)\n",
        "    x = self.relu(self.layer_2(x))\n",
        "    x = self.batchnorm2(x)\n",
        "    x = self.dropout(x)\n",
        "    x = self.layer_out(x)\n",
        "    \n",
        "    return x"
      ],
      "metadata": {
        "id": "A7WU3yNhHWfY"
      },
      "execution_count": null,
      "outputs": []
    },
    {
      "cell_type": "markdown",
      "source": [
        "### SpaceTitanicV3"
      ],
      "metadata": {
        "id": "YuOy2YRGcjJe"
      }
    },
    {
      "cell_type": "code",
      "source": [
        "class SpaceTitanicV3(nn.Module):\n",
        "  def __init__(self,\n",
        "               input_shape: int,\n",
        "               hidden_units: int,\n",
        "               output_shape: int):\n",
        "    super(SpaceTitanicV3, self).__init__()\n",
        "\n",
        "    self.layer_1 = nn.Linear(input_shape, hidden_units) \n",
        "    self.layer_2 = nn.Linear(hidden_units, hidden_units)\n",
        "    self.layer_3 = nn.Linear(hidden_units, hidden_units)\n",
        "    self.layer_out = nn.Linear(hidden_units, output_shape) \n",
        "    \n",
        "    self.relu = nn.ReLU()\n",
        "    self.dropout = nn.Dropout(p=0.3)\n",
        "    self.batchnorm1 = nn.BatchNorm1d(hidden_units)\n",
        "    self.batchnorm2 = nn.BatchNorm1d(hidden_units)\n",
        "    self.batchnorm3 = nn.BatchNorm1d(hidden_units)\n",
        "        \n",
        "  def forward(self, inputs):\n",
        "    x = self.relu(self.layer_1(inputs))\n",
        "    x = self.batchnorm1(x)\n",
        "    x = self.relu(self.layer_2(x))\n",
        "    x = self.batchnorm2(x)\n",
        "    x = self.relu(self.layer_3(x))\n",
        "    x = self.batchnorm3(x)\n",
        "    x = self.dropout(x)\n",
        "    x = self.layer_out(x)\n",
        "    \n",
        "    return x"
      ],
      "metadata": {
        "id": "H-fSu_kBVvpv"
      },
      "execution_count": null,
      "outputs": []
    },
    {
      "cell_type": "markdown",
      "source": [
        "### SpaceTitanicV4"
      ],
      "metadata": {
        "id": "jlDGadu1clMI"
      }
    },
    {
      "cell_type": "code",
      "source": [
        "class SpaceTitanicV4(nn.Module):\n",
        "  def __init__(self,\n",
        "               input_shape: int,\n",
        "               hidden_units: int,\n",
        "               output_shape: int):\n",
        "    super(SpaceTitanicV4, self).__init__()\n",
        "\n",
        "    self.layer_1 = nn.Linear(input_shape, hidden_units) \n",
        "    self.layer_2 = nn.Linear(hidden_units, hidden_units)\n",
        "    self.layer_out = nn.Linear(hidden_units, output_shape) \n",
        "    \n",
        "    self.relu = nn.ReLU()\n",
        "    self.dropout = nn.Dropout(p=0.5)\n",
        "    self.batchnorm1 = nn.BatchNorm1d(hidden_units)\n",
        "    self.batchnorm2 = nn.BatchNorm1d(hidden_units)\n",
        "        \n",
        "  def forward(self, inputs):\n",
        "    x = self.relu(self.layer_1(inputs))\n",
        "    x = self.batchnorm1(x)\n",
        "    x = self.relu(self.layer_2(x))\n",
        "    x = self.batchnorm2(x)\n",
        "    x = self.dropout(x)\n",
        "    x = self.layer_out(x)\n",
        "    \n",
        "    return x"
      ],
      "metadata": {
        "id": "-kA8Lxgrm-fn"
      },
      "execution_count": null,
      "outputs": []
    },
    {
      "cell_type": "markdown",
      "source": [
        "### SpaceTitanicV5"
      ],
      "metadata": {
        "id": "E9jY3dtEcnfj"
      }
    },
    {
      "cell_type": "code",
      "source": [
        "class SpaceTitanicV5(nn.Module):\n",
        "  def __init__(self,\n",
        "               input_shape: int,\n",
        "               hidden_units: int,\n",
        "               output_shape: int):\n",
        "    super(SpaceTitanicV5, self).__init__()\n",
        "\n",
        "    self.layer_1 = nn.Linear(input_shape, hidden_units) \n",
        "    self.layer_2 = nn.Linear(hidden_units, hidden_units)\n",
        "    self.layer_3 = nn.Linear(hidden_units, hidden_units)\n",
        "    self.layer_out = nn.Linear(hidden_units, output_shape) \n",
        "    \n",
        "    self.relu = nn.ReLU()\n",
        "    self.dropout = nn.Dropout(p=0.5)\n",
        "    self.batchnorm1 = nn.BatchNorm1d(hidden_units)\n",
        "    self.batchnorm2 = nn.BatchNorm1d(hidden_units)\n",
        "    self.batchnorm3 = nn.BatchNorm1d(hidden_units)\n",
        "        \n",
        "  def forward(self, inputs):\n",
        "    x = self.relu(self.layer_1(inputs))\n",
        "    x = self.batchnorm1(x)\n",
        "    x = self.relu(self.layer_2(x))\n",
        "    x = self.batchnorm2(x)\n",
        "    x = self.relu(self.layer_3(x))\n",
        "    x = self.batchnorm3(x)\n",
        "    x = self.dropout(x)\n",
        "    x = self.layer_out(x)\n",
        "    \n",
        "    return x"
      ],
      "metadata": {
        "id": "ZAoX0Xz1_o9H"
      },
      "execution_count": null,
      "outputs": []
    },
    {
      "cell_type": "markdown",
      "source": [
        "## Model Training and prepairing for evaluation"
      ],
      "metadata": {
        "id": "HDPD93W2imp7"
      }
    },
    {
      "cell_type": "code",
      "source": [
        "len(X_train[0])"
      ],
      "metadata": {
        "colab": {
          "base_uri": "https://localhost:8080/"
        },
        "id": "aipchjvDIIpQ",
        "outputId": "ad1dc2a9-162f-46e5-97c6-01879861b617"
      },
      "execution_count": null,
      "outputs": [
        {
          "output_type": "execute_result",
          "data": {
            "text/plain": [
              "34"
            ]
          },
          "metadata": {},
          "execution_count": 87
        }
      ]
    },
    {
      "cell_type": "code",
      "source": [
        "torch.manual_seed(42)\n",
        "\n",
        "# Setup model with input parameters\n",
        "model_0 = SpaceTitanicV1(\n",
        "    input_shape=len(X_train[0]),\n",
        "    hidden_units=64, # how mnay units in the hidden layer\n",
        "    output_shape=1 # one for every class\n",
        ").to(device)\n",
        "\n",
        "model_0"
      ],
      "metadata": {
        "id": "8KxCND0J8gqm",
        "colab": {
          "base_uri": "https://localhost:8080/"
        },
        "outputId": "92fee603-5046-4679-db68-0f3ef22ef1c1"
      },
      "execution_count": null,
      "outputs": [
        {
          "output_type": "execute_result",
          "data": {
            "text/plain": [
              "SpaceTitanicV1(\n",
              "  (layer_1): Linear(in_features=34, out_features=64, bias=True)\n",
              "  (layer_2): Linear(in_features=64, out_features=64, bias=True)\n",
              "  (layer_3): Linear(in_features=64, out_features=64, bias=True)\n",
              "  (layer_out): Linear(in_features=64, out_features=1, bias=True)\n",
              "  (relu): ReLU()\n",
              "  (dropout): Dropout(p=0.1, inplace=False)\n",
              "  (batchnorm1): BatchNorm1d(64, eps=1e-05, momentum=0.1, affine=True, track_running_stats=True)\n",
              "  (batchnorm2): BatchNorm1d(64, eps=1e-05, momentum=0.1, affine=True, track_running_stats=True)\n",
              "  (batchnorm3): BatchNorm1d(64, eps=1e-05, momentum=0.1, affine=True, track_running_stats=True)\n",
              ")"
            ]
          },
          "metadata": {},
          "execution_count": 88
        }
      ]
    },
    {
      "cell_type": "code",
      "source": [
        "from timeit import default_timer as timer \n",
        "def print_train_time(start: float,\n",
        "                     end: float, \n",
        "                     device: torch.device = None):\n",
        "  \"\"\"Prints difference between start and end time.\"\"\"\n",
        "  total_time = end - start\n",
        "  print(f\"Train time on {device}: {total_time:.3f} seconds\")\n",
        "  return total_time"
      ],
      "metadata": {
        "id": "rRTRT0hwBf5-"
      },
      "execution_count": null,
      "outputs": []
    },
    {
      "cell_type": "code",
      "source": [
        "model_0.state_dict()"
      ],
      "metadata": {
        "id": "_muX1A9sBgjO",
        "colab": {
          "base_uri": "https://localhost:8080/"
        },
        "outputId": "2fc6caab-94c2-4b35-84dc-78c8f9f70b08"
      },
      "execution_count": null,
      "outputs": [
        {
          "output_type": "execute_result",
          "data": {
            "text/plain": [
              "OrderedDict([('layer_1.weight',\n",
              "              tensor([[ 0.1311,  0.1423, -0.0402,  ..., -0.1457,  0.1324,  0.0285],\n",
              "                      [-0.0557,  0.1060,  0.0267,  ..., -0.0357,  0.1422, -0.1016],\n",
              "                      [-0.1023, -0.1023,  0.1543,  ..., -0.1659, -0.0982,  0.0428],\n",
              "                      ...,\n",
              "                      [ 0.0138,  0.0166,  0.0793,  ...,  0.0834, -0.0039,  0.1467],\n",
              "                      [-0.0099, -0.0246,  0.0968,  ..., -0.0609,  0.1217, -0.1092],\n",
              "                      [ 0.1041,  0.1069,  0.0946,  ..., -0.0922,  0.0894, -0.0692]],\n",
              "                     device='cuda:0')),\n",
              "             ('layer_1.bias',\n",
              "              tensor([ 0.0820,  0.0468, -0.0659,  0.1045, -0.0551, -0.0057, -0.0653, -0.1627,\n",
              "                       0.0277,  0.0496, -0.0863,  0.1052, -0.1538, -0.1653, -0.1059, -0.0593,\n",
              "                      -0.0190, -0.0331,  0.0783, -0.1505,  0.0253,  0.0030,  0.0453,  0.1705,\n",
              "                       0.1055, -0.0950, -0.1405, -0.0415, -0.0860,  0.0599,  0.0016,  0.1379,\n",
              "                       0.0674, -0.0315,  0.0059,  0.0411, -0.0213,  0.1384, -0.1341,  0.0836,\n",
              "                      -0.1093, -0.1502, -0.0352,  0.0836,  0.1212,  0.0430, -0.0148, -0.0096,\n",
              "                      -0.0695, -0.0154, -0.0118,  0.1459,  0.1004, -0.1372,  0.0007, -0.1055,\n",
              "                      -0.0272, -0.1363,  0.0446, -0.1237,  0.1693,  0.1295, -0.1181, -0.1615],\n",
              "                     device='cuda:0')),\n",
              "             ('layer_2.weight',\n",
              "              tensor([[ 0.0049, -0.0349,  0.0367,  ...,  0.0016, -0.0561, -0.0988],\n",
              "                      [ 0.0132, -0.0992, -0.0960,  ...,  0.1128,  0.0248,  0.1117],\n",
              "                      [-0.0644,  0.1086,  0.1076,  ..., -0.0290,  0.0043, -0.1184],\n",
              "                      ...,\n",
              "                      [-0.0989,  0.0234, -0.0248,  ...,  0.0351, -0.0977, -0.0005],\n",
              "                      [-0.0675, -0.0709, -0.0732,  ...,  0.0617,  0.0992, -0.0039],\n",
              "                      [-0.0806,  0.0899,  0.1017,  ...,  0.0669,  0.1202,  0.1114]],\n",
              "                     device='cuda:0')),\n",
              "             ('layer_2.bias',\n",
              "              tensor([ 0.0492,  0.0044,  0.0939,  0.1105,  0.0561,  0.0367,  0.0301,  0.0127,\n",
              "                       0.0825,  0.0354, -0.1054, -0.0738, -0.1135, -0.0376,  0.0064, -0.0530,\n",
              "                      -0.1150, -0.0813,  0.0532, -0.0088, -0.0210,  0.0202, -0.0264, -0.0681,\n",
              "                      -0.0574, -0.0510, -0.1170, -0.1153, -0.0474,  0.0469,  0.1222, -0.0034,\n",
              "                       0.0854,  0.0413, -0.0996, -0.0625, -0.0343, -0.1030,  0.0175,  0.0297,\n",
              "                      -0.0974, -0.0263, -0.1103,  0.1245,  0.0739, -0.0472,  0.1075, -0.0782,\n",
              "                       0.1052, -0.0481,  0.0365,  0.0869,  0.0582,  0.0303, -0.0144,  0.0009,\n",
              "                       0.1067, -0.0409, -0.0406,  0.0160, -0.0607, -0.0473,  0.0098,  0.0940],\n",
              "                     device='cuda:0')),\n",
              "             ('layer_3.weight',\n",
              "              tensor([[ 0.0408, -0.0772,  0.0755,  ..., -0.0638,  0.0212,  0.0292],\n",
              "                      [ 0.0775,  0.0586,  0.0699,  ...,  0.0703,  0.0349,  0.0005],\n",
              "                      [ 0.1115, -0.0072,  0.0439,  ..., -0.1076, -0.1149,  0.0425],\n",
              "                      ...,\n",
              "                      [ 0.0399, -0.0107,  0.0406,  ..., -0.0992, -0.0098,  0.0886],\n",
              "                      [-0.0339,  0.1225,  0.1204,  ..., -0.0645,  0.0505, -0.0910],\n",
              "                      [ 0.0777, -0.1022, -0.1133,  ...,  0.0362, -0.0556,  0.0131]],\n",
              "                     device='cuda:0')),\n",
              "             ('layer_3.bias',\n",
              "              tensor([ 0.1158, -0.0369,  0.0319,  0.0015,  0.0823,  0.0547, -0.0058,  0.0684,\n",
              "                      -0.0064, -0.0213, -0.0487, -0.1020,  0.1044, -0.0792, -0.1192, -0.0561,\n",
              "                       0.0253, -0.0113,  0.0569,  0.0716,  0.0735, -0.1049,  0.0510,  0.0619,\n",
              "                      -0.0693,  0.0006,  0.0187,  0.0157,  0.0671,  0.1061,  0.1201,  0.0280,\n",
              "                       0.0731,  0.0534, -0.0676,  0.0836, -0.0089,  0.0510, -0.0830,  0.1000,\n",
              "                       0.0279,  0.0283, -0.1112, -0.0109, -0.0437,  0.1180, -0.1144, -0.0308,\n",
              "                      -0.0620, -0.0906,  0.0481, -0.0863,  0.0591,  0.0150, -0.0662, -0.0142,\n",
              "                       0.0108, -0.0557, -0.0803, -0.0704,  0.0302, -0.1101,  0.0787,  0.0821],\n",
              "                     device='cuda:0')),\n",
              "             ('layer_out.weight',\n",
              "              tensor([[ 0.1149,  0.1058, -0.0703, -0.0542,  0.0915, -0.0162, -0.0920, -0.0599,\n",
              "                        0.0877, -0.0711,  0.0440, -0.1044,  0.0825,  0.0344,  0.0862,  0.0043,\n",
              "                        0.0635,  0.1024, -0.0158, -0.0945, -0.0882,  0.0733, -0.0797, -0.1094,\n",
              "                       -0.1058, -0.0554,  0.0232, -0.1133, -0.0579,  0.1197, -0.0213, -0.0422,\n",
              "                        0.0591, -0.1029, -0.0976,  0.0179,  0.0395, -0.1232,  0.1098, -0.0487,\n",
              "                        0.0191,  0.0889,  0.0478,  0.0388, -0.1140, -0.1166,  0.0465,  0.0046,\n",
              "                        0.0768,  0.0626, -0.1003,  0.0230, -0.0981, -0.0691,  0.0344, -0.0070,\n",
              "                       -0.0798,  0.0424,  0.0867, -0.1228,  0.1172,  0.0690, -0.0105, -0.1212]],\n",
              "                     device='cuda:0')),\n",
              "             ('layer_out.bias', tensor([-0.0529], device='cuda:0')),\n",
              "             ('batchnorm1.weight',\n",
              "              tensor([1., 1., 1., 1., 1., 1., 1., 1., 1., 1., 1., 1., 1., 1., 1., 1., 1., 1.,\n",
              "                      1., 1., 1., 1., 1., 1., 1., 1., 1., 1., 1., 1., 1., 1., 1., 1., 1., 1.,\n",
              "                      1., 1., 1., 1., 1., 1., 1., 1., 1., 1., 1., 1., 1., 1., 1., 1., 1., 1.,\n",
              "                      1., 1., 1., 1., 1., 1., 1., 1., 1., 1.], device='cuda:0')),\n",
              "             ('batchnorm1.bias',\n",
              "              tensor([0., 0., 0., 0., 0., 0., 0., 0., 0., 0., 0., 0., 0., 0., 0., 0., 0., 0., 0., 0., 0., 0., 0., 0.,\n",
              "                      0., 0., 0., 0., 0., 0., 0., 0., 0., 0., 0., 0., 0., 0., 0., 0., 0., 0., 0., 0., 0., 0., 0., 0.,\n",
              "                      0., 0., 0., 0., 0., 0., 0., 0., 0., 0., 0., 0., 0., 0., 0., 0.],\n",
              "                     device='cuda:0')),\n",
              "             ('batchnorm1.running_mean',\n",
              "              tensor([0., 0., 0., 0., 0., 0., 0., 0., 0., 0., 0., 0., 0., 0., 0., 0., 0., 0., 0., 0., 0., 0., 0., 0.,\n",
              "                      0., 0., 0., 0., 0., 0., 0., 0., 0., 0., 0., 0., 0., 0., 0., 0., 0., 0., 0., 0., 0., 0., 0., 0.,\n",
              "                      0., 0., 0., 0., 0., 0., 0., 0., 0., 0., 0., 0., 0., 0., 0., 0.],\n",
              "                     device='cuda:0')),\n",
              "             ('batchnorm1.running_var',\n",
              "              tensor([1., 1., 1., 1., 1., 1., 1., 1., 1., 1., 1., 1., 1., 1., 1., 1., 1., 1.,\n",
              "                      1., 1., 1., 1., 1., 1., 1., 1., 1., 1., 1., 1., 1., 1., 1., 1., 1., 1.,\n",
              "                      1., 1., 1., 1., 1., 1., 1., 1., 1., 1., 1., 1., 1., 1., 1., 1., 1., 1.,\n",
              "                      1., 1., 1., 1., 1., 1., 1., 1., 1., 1.], device='cuda:0')),\n",
              "             ('batchnorm1.num_batches_tracked', tensor(0, device='cuda:0')),\n",
              "             ('batchnorm2.weight',\n",
              "              tensor([1., 1., 1., 1., 1., 1., 1., 1., 1., 1., 1., 1., 1., 1., 1., 1., 1., 1.,\n",
              "                      1., 1., 1., 1., 1., 1., 1., 1., 1., 1., 1., 1., 1., 1., 1., 1., 1., 1.,\n",
              "                      1., 1., 1., 1., 1., 1., 1., 1., 1., 1., 1., 1., 1., 1., 1., 1., 1., 1.,\n",
              "                      1., 1., 1., 1., 1., 1., 1., 1., 1., 1.], device='cuda:0')),\n",
              "             ('batchnorm2.bias',\n",
              "              tensor([0., 0., 0., 0., 0., 0., 0., 0., 0., 0., 0., 0., 0., 0., 0., 0., 0., 0., 0., 0., 0., 0., 0., 0.,\n",
              "                      0., 0., 0., 0., 0., 0., 0., 0., 0., 0., 0., 0., 0., 0., 0., 0., 0., 0., 0., 0., 0., 0., 0., 0.,\n",
              "                      0., 0., 0., 0., 0., 0., 0., 0., 0., 0., 0., 0., 0., 0., 0., 0.],\n",
              "                     device='cuda:0')),\n",
              "             ('batchnorm2.running_mean',\n",
              "              tensor([0., 0., 0., 0., 0., 0., 0., 0., 0., 0., 0., 0., 0., 0., 0., 0., 0., 0., 0., 0., 0., 0., 0., 0.,\n",
              "                      0., 0., 0., 0., 0., 0., 0., 0., 0., 0., 0., 0., 0., 0., 0., 0., 0., 0., 0., 0., 0., 0., 0., 0.,\n",
              "                      0., 0., 0., 0., 0., 0., 0., 0., 0., 0., 0., 0., 0., 0., 0., 0.],\n",
              "                     device='cuda:0')),\n",
              "             ('batchnorm2.running_var',\n",
              "              tensor([1., 1., 1., 1., 1., 1., 1., 1., 1., 1., 1., 1., 1., 1., 1., 1., 1., 1.,\n",
              "                      1., 1., 1., 1., 1., 1., 1., 1., 1., 1., 1., 1., 1., 1., 1., 1., 1., 1.,\n",
              "                      1., 1., 1., 1., 1., 1., 1., 1., 1., 1., 1., 1., 1., 1., 1., 1., 1., 1.,\n",
              "                      1., 1., 1., 1., 1., 1., 1., 1., 1., 1.], device='cuda:0')),\n",
              "             ('batchnorm2.num_batches_tracked', tensor(0, device='cuda:0')),\n",
              "             ('batchnorm3.weight',\n",
              "              tensor([1., 1., 1., 1., 1., 1., 1., 1., 1., 1., 1., 1., 1., 1., 1., 1., 1., 1.,\n",
              "                      1., 1., 1., 1., 1., 1., 1., 1., 1., 1., 1., 1., 1., 1., 1., 1., 1., 1.,\n",
              "                      1., 1., 1., 1., 1., 1., 1., 1., 1., 1., 1., 1., 1., 1., 1., 1., 1., 1.,\n",
              "                      1., 1., 1., 1., 1., 1., 1., 1., 1., 1.], device='cuda:0')),\n",
              "             ('batchnorm3.bias',\n",
              "              tensor([0., 0., 0., 0., 0., 0., 0., 0., 0., 0., 0., 0., 0., 0., 0., 0., 0., 0., 0., 0., 0., 0., 0., 0.,\n",
              "                      0., 0., 0., 0., 0., 0., 0., 0., 0., 0., 0., 0., 0., 0., 0., 0., 0., 0., 0., 0., 0., 0., 0., 0.,\n",
              "                      0., 0., 0., 0., 0., 0., 0., 0., 0., 0., 0., 0., 0., 0., 0., 0.],\n",
              "                     device='cuda:0')),\n",
              "             ('batchnorm3.running_mean',\n",
              "              tensor([0., 0., 0., 0., 0., 0., 0., 0., 0., 0., 0., 0., 0., 0., 0., 0., 0., 0., 0., 0., 0., 0., 0., 0.,\n",
              "                      0., 0., 0., 0., 0., 0., 0., 0., 0., 0., 0., 0., 0., 0., 0., 0., 0., 0., 0., 0., 0., 0., 0., 0.,\n",
              "                      0., 0., 0., 0., 0., 0., 0., 0., 0., 0., 0., 0., 0., 0., 0., 0.],\n",
              "                     device='cuda:0')),\n",
              "             ('batchnorm3.running_var',\n",
              "              tensor([1., 1., 1., 1., 1., 1., 1., 1., 1., 1., 1., 1., 1., 1., 1., 1., 1., 1.,\n",
              "                      1., 1., 1., 1., 1., 1., 1., 1., 1., 1., 1., 1., 1., 1., 1., 1., 1., 1.,\n",
              "                      1., 1., 1., 1., 1., 1., 1., 1., 1., 1., 1., 1., 1., 1., 1., 1., 1., 1.,\n",
              "                      1., 1., 1., 1., 1., 1., 1., 1., 1., 1.], device='cuda:0')),\n",
              "             ('batchnorm3.num_batches_tracked', tensor(0, device='cuda:0'))])"
            ]
          },
          "metadata": {},
          "execution_count": 90
        }
      ]
    },
    {
      "cell_type": "code",
      "source": [
        "model_0.train()"
      ],
      "metadata": {
        "colab": {
          "base_uri": "https://localhost:8080/"
        },
        "id": "3x7Il9YwYkLs",
        "outputId": "662910a3-303a-4231-9273-aeba922ec4ef"
      },
      "execution_count": null,
      "outputs": [
        {
          "output_type": "execute_result",
          "data": {
            "text/plain": [
              "SpaceTitanicV1(\n",
              "  (layer_1): Linear(in_features=34, out_features=64, bias=True)\n",
              "  (layer_2): Linear(in_features=64, out_features=64, bias=True)\n",
              "  (layer_3): Linear(in_features=64, out_features=64, bias=True)\n",
              "  (layer_out): Linear(in_features=64, out_features=1, bias=True)\n",
              "  (relu): ReLU()\n",
              "  (dropout): Dropout(p=0.1, inplace=False)\n",
              "  (batchnorm1): BatchNorm1d(64, eps=1e-05, momentum=0.1, affine=True, track_running_stats=True)\n",
              "  (batchnorm2): BatchNorm1d(64, eps=1e-05, momentum=0.1, affine=True, track_running_stats=True)\n",
              "  (batchnorm3): BatchNorm1d(64, eps=1e-05, momentum=0.1, affine=True, track_running_stats=True)\n",
              ")"
            ]
          },
          "metadata": {},
          "execution_count": 91
        }
      ]
    },
    {
      "cell_type": "code",
      "source": [
        "def binary_acc(y_pred, y_test):\n",
        "    y_pred_tag = torch.round(torch.sigmoid(y_pred))\n",
        "\n",
        "    correct_results_sum = (y_pred_tag == y_test).sum().float()\n",
        "    acc = correct_results_sum/y_test.shape[0]\n",
        "    acc = torch.round(acc * 100)\n",
        "    \n",
        "    return acc"
      ],
      "metadata": {
        "id": "IQIPJX7EbeQj"
      },
      "execution_count": null,
      "outputs": []
    },
    {
      "cell_type": "code",
      "source": [
        "# def accuracy_fn(y_true, y_pred):\n",
        "#     correct = torch.eq(y_true, y_pred).sum().item() # torch.eq() calculates where two tensors are equal\n",
        "#     acc = (correct / len(y_pred)) * 100 \n",
        "#     return acc\n",
        "\n",
        "###  NO!!!  THAT IS ACCURACY CALC FOR MULTI_CLASS CASE!  WE HAVE BINARY CLASSIFICATION!"
      ],
      "metadata": {
        "id": "4tjgdoyKCe8P"
      },
      "execution_count": null,
      "outputs": []
    },
    {
      "cell_type": "code",
      "source": [
        "# Setup loss function and optimizer\n",
        "loss_fn = nn.BCEWithLogitsLoss()\n",
        "optimizer = torch.optim.Adam(params=model_0.parameters(),\n",
        "                            lr=0.001)"
      ],
      "metadata": {
        "id": "dxmcLrFbAgCo"
      },
      "execution_count": null,
      "outputs": []
    },
    {
      "cell_type": "code",
      "source": [
        "EPOCHS = 20\n",
        "\n",
        "model_0.train()\n",
        "for e in range(1, EPOCHS+1):\n",
        "    epoch_loss = 0\n",
        "    epoch_acc = 0\n",
        "    for X_batch, y_batch in train_loader:\n",
        "        X_batch, y_batch = X_batch.to(device), y_batch.to(device)\n",
        "        optimizer.zero_grad()\n",
        "        \n",
        "        y_pred = model_0(X_batch)\n",
        "        \n",
        "        loss = loss_fn(y_pred, y_batch.unsqueeze(1))\n",
        "        acc = binary_acc(y_pred, y_batch.unsqueeze(1))\n",
        "        \n",
        "        loss.backward()\n",
        "        optimizer.step()\n",
        "        \n",
        "        epoch_loss += loss.item()\n",
        "        epoch_acc += acc.item()\n",
        "        \n",
        "\n",
        "    print(f'Epoch {e+0:03}: | Loss: {epoch_loss/len(train_loader):.5f} | Acc: {epoch_acc/len(train_loader):.3f}')"
      ],
      "metadata": {
        "colab": {
          "base_uri": "https://localhost:8080/"
        },
        "id": "F7HApqpVqEvU",
        "outputId": "50f278ec-1cbe-413d-ac00-ba4f7c173c87"
      },
      "execution_count": null,
      "outputs": [
        {
          "output_type": "stream",
          "name": "stdout",
          "text": [
            "Epoch 001: | Loss: 0.55610 | Acc: 71.188\n",
            "Epoch 002: | Loss: 0.47848 | Acc: 76.872\n",
            "Epoch 003: | Loss: 0.45847 | Acc: 78.326\n",
            "Epoch 004: | Loss: 0.44604 | Acc: 78.697\n",
            "Epoch 005: | Loss: 0.44197 | Acc: 78.592\n",
            "Epoch 006: | Loss: 0.43491 | Acc: 79.046\n",
            "Epoch 007: | Loss: 0.42625 | Acc: 79.743\n",
            "Epoch 008: | Loss: 0.42869 | Acc: 79.294\n",
            "Epoch 009: | Loss: 0.41722 | Acc: 80.367\n",
            "Epoch 010: | Loss: 0.41576 | Acc: 80.468\n",
            "Epoch 011: | Loss: 0.40819 | Acc: 80.390\n",
            "Epoch 012: | Loss: 0.40459 | Acc: 80.872\n",
            "Epoch 013: | Loss: 0.39929 | Acc: 81.197\n",
            "Epoch 014: | Loss: 0.39657 | Acc: 80.766\n",
            "Epoch 015: | Loss: 0.39588 | Acc: 80.977\n",
            "Epoch 016: | Loss: 0.39557 | Acc: 81.028\n",
            "Epoch 017: | Loss: 0.39486 | Acc: 81.087\n",
            "Epoch 018: | Loss: 0.38306 | Acc: 81.505\n",
            "Epoch 019: | Loss: 0.38933 | Acc: 81.688\n",
            "Epoch 020: | Loss: 0.38172 | Acc: 82.000\n"
          ]
        }
      ]
    },
    {
      "cell_type": "code",
      "source": [
        "y_pred_list = []\n",
        "test_acc=0\n",
        "model_0.eval()\n",
        "with torch.no_grad():\n",
        "    for X_batch, y_batch in val_loader:\n",
        "        X_batch, y_batch = X_batch.to(device), y_batch.to(device)\n",
        "        y_test_pred = model_0(X_batch)\n",
        "        # y_test_pred = torch.sigmoid(y_test_pred)\n",
        "        # y_pred_tag = torch.round(y_test_pred)\n",
        "        acc = binary_acc(y_test_pred, y_batch.unsqueeze(1))\n",
        "        # y_pred_list.append(y_pred_tag.cpu().numpy())\n",
        "        test_acc += acc.item()\n",
        "    \n",
        "    print(f'Custom accurance score for this case: {test_acc/len(val_loader):.3f}%')\n",
        "y_pred_list = [a.squeeze().tolist() for a in y_pred_list]"
      ],
      "metadata": {
        "colab": {
          "base_uri": "https://localhost:8080/"
        },
        "id": "hUBbA6BdxkL8",
        "outputId": "1c3f4505-b04d-44a0-b427-ffa15a1d0e7b"
      },
      "execution_count": null,
      "outputs": [
        {
          "output_type": "stream",
          "name": "stdout",
          "text": [
            "Custom accurance score for this case: 76.436%\n"
          ]
        }
      ]
    },
    {
      "cell_type": "markdown",
      "source": [
        "### Test data preparation and evaluation"
      ],
      "metadata": {
        "id": "uJoK76cX0P35"
      }
    },
    {
      "cell_type": "code",
      "source": [
        "len(test_df_temp)"
      ],
      "metadata": {
        "colab": {
          "base_uri": "https://localhost:8080/"
        },
        "id": "d8CVzduB19dM",
        "outputId": "a0fabf97-8bdb-4fe5-d917-5a962d8b3ae1"
      },
      "execution_count": null,
      "outputs": [
        {
          "output_type": "execute_result",
          "data": {
            "text/plain": [
              "4277"
            ]
          },
          "metadata": {},
          "execution_count": 97
        }
      ]
    },
    {
      "cell_type": "code",
      "source": [
        "# test_pred_list = []\n",
        "# count=0\n",
        "# model_0.eval()\n",
        "# with torch.no_grad():\n",
        "#     for X_batchV in test_loader:\n",
        "#         X_batchV = X_batchV.to(device)\n",
        "#         test_pred = model_0(X_batchV)\n",
        "#         test_pred = torch.sigmoid(test_pred)\n",
        "#         test_pred_tag = torch.round(test_pred)\n",
        "#         test_pred_list.append(test_pred_tag.cpu().numpy())\n",
        "# test_pred_list = [a.squeeze().tolist() for a in test_pred_list]"
      ],
      "metadata": {
        "id": "NY4gYBB6xkt7"
      },
      "execution_count": null,
      "outputs": []
    },
    {
      "cell_type": "code",
      "source": [
        "# test_pred_bool=[]\n",
        "# for i in range(len(test_pred_list)):\n",
        "#   test_pred_bool.append(bool(test_pred_list[i]))"
      ],
      "metadata": {
        "id": "VQ-I9E4cE2oz"
      },
      "execution_count": null,
      "outputs": []
    },
    {
      "cell_type": "code",
      "source": [
        "# df_preds = pd.DataFrame()\n",
        "# df_preds['PassengerId']=test_pass\n",
        "# df_preds['Transported']=test_pred_bool\n",
        "# df_preds.head()"
      ],
      "metadata": {
        "id": "BN9JsRhj5YRC"
      },
      "execution_count": null,
      "outputs": []
    },
    {
      "cell_type": "code",
      "source": [
        "# # Export prediction data to csv\n",
        "# df_preds_4.to_csv('Submission.csv', index = False)"
      ],
      "metadata": {
        "id": "Y6-WJzuI5alI"
      },
      "execution_count": null,
      "outputs": []
    },
    {
      "cell_type": "markdown",
      "source": [
        "## Score: 0.73111   :("
      ],
      "metadata": {
        "id": "L00w1hxHGuvj"
      }
    },
    {
      "cell_type": "markdown",
      "source": [
        "### We have to try to drop some columns and see if we can get better result with that."
      ],
      "metadata": {
        "id": "tfmAstAjHIx5"
      }
    },
    {
      "cell_type": "code",
      "source": [
        "df_temp.head()"
      ],
      "metadata": {
        "colab": {
          "base_uri": "https://localhost:8080/",
          "height": 300
        },
        "id": "YVZBmG2tHQR3",
        "outputId": "5449bb23-f5a8-4084-cf78-aa2b5bbf1e95"
      },
      "execution_count": null,
      "outputs": [
        {
          "output_type": "execute_result",
          "data": {
            "text/plain": [
              "   HomePlanet  CryoSleep  Destination   Age  VIP  RoomService  FoodCourt  \\\n",
              "0           2          1            3  39.0    1          0.0        0.0   \n",
              "1           1          1            3  24.0    1        109.0        9.0   \n",
              "2           2          1            3  58.0    2         43.0     3576.0   \n",
              "3           2          1            3  33.0    1          0.0     1283.0   \n",
              "4           1          1            3  16.0    1        303.0       70.0   \n",
              "\n",
              "   ShoppingMall     Spa  VRDeck  ...  CryoSleep_is_missing  \\\n",
              "0           0.0     0.0     0.0  ...                 False   \n",
              "1          25.0   549.0    44.0  ...                 False   \n",
              "2           0.0  6715.0    49.0  ...                 False   \n",
              "3         371.0  3329.0   193.0  ...                 False   \n",
              "4         151.0   565.0     2.0  ...                 False   \n",
              "\n",
              "   Destination_is_missing  VIP_is_missing  Cabin_deck_is_missing  \\\n",
              "0                   False           False                  False   \n",
              "1                   False           False                  False   \n",
              "2                   False           False                  False   \n",
              "3                   False           False                  False   \n",
              "4                   False           False                  False   \n",
              "\n",
              "   Cabin_no._is_missing  Cabin_side_is_missing  firstname_is_missing  \\\n",
              "0                 False                  False                 False   \n",
              "1                 False                  False                 False   \n",
              "2                 False                  False                 False   \n",
              "3                 False                  False                 False   \n",
              "4                 False                  False                 False   \n",
              "\n",
              "   last_name_is_missing  PassengerId_group_is_missing  \\\n",
              "0                 False                         False   \n",
              "1                 False                         False   \n",
              "2                 False                         False   \n",
              "3                 False                         False   \n",
              "4                 False                         False   \n",
              "\n",
              "   PassenngerId_no_is_missing  \n",
              "0                       False  \n",
              "1                       False  \n",
              "2                       False  \n",
              "3                       False  \n",
              "4                       False  \n",
              "\n",
              "[5 rows x 35 columns]"
            ],
            "text/html": [
              "\n",
              "  <div id=\"df-3af3c981-a4c0-4adb-ab35-90de166822c3\">\n",
              "    <div class=\"colab-df-container\">\n",
              "      <div>\n",
              "<style scoped>\n",
              "    .dataframe tbody tr th:only-of-type {\n",
              "        vertical-align: middle;\n",
              "    }\n",
              "\n",
              "    .dataframe tbody tr th {\n",
              "        vertical-align: top;\n",
              "    }\n",
              "\n",
              "    .dataframe thead th {\n",
              "        text-align: right;\n",
              "    }\n",
              "</style>\n",
              "<table border=\"1\" class=\"dataframe\">\n",
              "  <thead>\n",
              "    <tr style=\"text-align: right;\">\n",
              "      <th></th>\n",
              "      <th>HomePlanet</th>\n",
              "      <th>CryoSleep</th>\n",
              "      <th>Destination</th>\n",
              "      <th>Age</th>\n",
              "      <th>VIP</th>\n",
              "      <th>RoomService</th>\n",
              "      <th>FoodCourt</th>\n",
              "      <th>ShoppingMall</th>\n",
              "      <th>Spa</th>\n",
              "      <th>VRDeck</th>\n",
              "      <th>...</th>\n",
              "      <th>CryoSleep_is_missing</th>\n",
              "      <th>Destination_is_missing</th>\n",
              "      <th>VIP_is_missing</th>\n",
              "      <th>Cabin_deck_is_missing</th>\n",
              "      <th>Cabin_no._is_missing</th>\n",
              "      <th>Cabin_side_is_missing</th>\n",
              "      <th>firstname_is_missing</th>\n",
              "      <th>last_name_is_missing</th>\n",
              "      <th>PassengerId_group_is_missing</th>\n",
              "      <th>PassenngerId_no_is_missing</th>\n",
              "    </tr>\n",
              "  </thead>\n",
              "  <tbody>\n",
              "    <tr>\n",
              "      <th>0</th>\n",
              "      <td>2</td>\n",
              "      <td>1</td>\n",
              "      <td>3</td>\n",
              "      <td>39.0</td>\n",
              "      <td>1</td>\n",
              "      <td>0.0</td>\n",
              "      <td>0.0</td>\n",
              "      <td>0.0</td>\n",
              "      <td>0.0</td>\n",
              "      <td>0.0</td>\n",
              "      <td>...</td>\n",
              "      <td>False</td>\n",
              "      <td>False</td>\n",
              "      <td>False</td>\n",
              "      <td>False</td>\n",
              "      <td>False</td>\n",
              "      <td>False</td>\n",
              "      <td>False</td>\n",
              "      <td>False</td>\n",
              "      <td>False</td>\n",
              "      <td>False</td>\n",
              "    </tr>\n",
              "    <tr>\n",
              "      <th>1</th>\n",
              "      <td>1</td>\n",
              "      <td>1</td>\n",
              "      <td>3</td>\n",
              "      <td>24.0</td>\n",
              "      <td>1</td>\n",
              "      <td>109.0</td>\n",
              "      <td>9.0</td>\n",
              "      <td>25.0</td>\n",
              "      <td>549.0</td>\n",
              "      <td>44.0</td>\n",
              "      <td>...</td>\n",
              "      <td>False</td>\n",
              "      <td>False</td>\n",
              "      <td>False</td>\n",
              "      <td>False</td>\n",
              "      <td>False</td>\n",
              "      <td>False</td>\n",
              "      <td>False</td>\n",
              "      <td>False</td>\n",
              "      <td>False</td>\n",
              "      <td>False</td>\n",
              "    </tr>\n",
              "    <tr>\n",
              "      <th>2</th>\n",
              "      <td>2</td>\n",
              "      <td>1</td>\n",
              "      <td>3</td>\n",
              "      <td>58.0</td>\n",
              "      <td>2</td>\n",
              "      <td>43.0</td>\n",
              "      <td>3576.0</td>\n",
              "      <td>0.0</td>\n",
              "      <td>6715.0</td>\n",
              "      <td>49.0</td>\n",
              "      <td>...</td>\n",
              "      <td>False</td>\n",
              "      <td>False</td>\n",
              "      <td>False</td>\n",
              "      <td>False</td>\n",
              "      <td>False</td>\n",
              "      <td>False</td>\n",
              "      <td>False</td>\n",
              "      <td>False</td>\n",
              "      <td>False</td>\n",
              "      <td>False</td>\n",
              "    </tr>\n",
              "    <tr>\n",
              "      <th>3</th>\n",
              "      <td>2</td>\n",
              "      <td>1</td>\n",
              "      <td>3</td>\n",
              "      <td>33.0</td>\n",
              "      <td>1</td>\n",
              "      <td>0.0</td>\n",
              "      <td>1283.0</td>\n",
              "      <td>371.0</td>\n",
              "      <td>3329.0</td>\n",
              "      <td>193.0</td>\n",
              "      <td>...</td>\n",
              "      <td>False</td>\n",
              "      <td>False</td>\n",
              "      <td>False</td>\n",
              "      <td>False</td>\n",
              "      <td>False</td>\n",
              "      <td>False</td>\n",
              "      <td>False</td>\n",
              "      <td>False</td>\n",
              "      <td>False</td>\n",
              "      <td>False</td>\n",
              "    </tr>\n",
              "    <tr>\n",
              "      <th>4</th>\n",
              "      <td>1</td>\n",
              "      <td>1</td>\n",
              "      <td>3</td>\n",
              "      <td>16.0</td>\n",
              "      <td>1</td>\n",
              "      <td>303.0</td>\n",
              "      <td>70.0</td>\n",
              "      <td>151.0</td>\n",
              "      <td>565.0</td>\n",
              "      <td>2.0</td>\n",
              "      <td>...</td>\n",
              "      <td>False</td>\n",
              "      <td>False</td>\n",
              "      <td>False</td>\n",
              "      <td>False</td>\n",
              "      <td>False</td>\n",
              "      <td>False</td>\n",
              "      <td>False</td>\n",
              "      <td>False</td>\n",
              "      <td>False</td>\n",
              "      <td>False</td>\n",
              "    </tr>\n",
              "  </tbody>\n",
              "</table>\n",
              "<p>5 rows × 35 columns</p>\n",
              "</div>\n",
              "      <button class=\"colab-df-convert\" onclick=\"convertToInteractive('df-3af3c981-a4c0-4adb-ab35-90de166822c3')\"\n",
              "              title=\"Convert this dataframe to an interactive table.\"\n",
              "              style=\"display:none;\">\n",
              "        \n",
              "  <svg xmlns=\"http://www.w3.org/2000/svg\" height=\"24px\"viewBox=\"0 0 24 24\"\n",
              "       width=\"24px\">\n",
              "    <path d=\"M0 0h24v24H0V0z\" fill=\"none\"/>\n",
              "    <path d=\"M18.56 5.44l.94 2.06.94-2.06 2.06-.94-2.06-.94-.94-2.06-.94 2.06-2.06.94zm-11 1L8.5 8.5l.94-2.06 2.06-.94-2.06-.94L8.5 2.5l-.94 2.06-2.06.94zm10 10l.94 2.06.94-2.06 2.06-.94-2.06-.94-.94-2.06-.94 2.06-2.06.94z\"/><path d=\"M17.41 7.96l-1.37-1.37c-.4-.4-.92-.59-1.43-.59-.52 0-1.04.2-1.43.59L10.3 9.45l-7.72 7.72c-.78.78-.78 2.05 0 2.83L4 21.41c.39.39.9.59 1.41.59.51 0 1.02-.2 1.41-.59l7.78-7.78 2.81-2.81c.8-.78.8-2.07 0-2.86zM5.41 20L4 18.59l7.72-7.72 1.47 1.35L5.41 20z\"/>\n",
              "  </svg>\n",
              "      </button>\n",
              "      \n",
              "  <style>\n",
              "    .colab-df-container {\n",
              "      display:flex;\n",
              "      flex-wrap:wrap;\n",
              "      gap: 12px;\n",
              "    }\n",
              "\n",
              "    .colab-df-convert {\n",
              "      background-color: #E8F0FE;\n",
              "      border: none;\n",
              "      border-radius: 50%;\n",
              "      cursor: pointer;\n",
              "      display: none;\n",
              "      fill: #1967D2;\n",
              "      height: 32px;\n",
              "      padding: 0 0 0 0;\n",
              "      width: 32px;\n",
              "    }\n",
              "\n",
              "    .colab-df-convert:hover {\n",
              "      background-color: #E2EBFA;\n",
              "      box-shadow: 0px 1px 2px rgba(60, 64, 67, 0.3), 0px 1px 3px 1px rgba(60, 64, 67, 0.15);\n",
              "      fill: #174EA6;\n",
              "    }\n",
              "\n",
              "    [theme=dark] .colab-df-convert {\n",
              "      background-color: #3B4455;\n",
              "      fill: #D2E3FC;\n",
              "    }\n",
              "\n",
              "    [theme=dark] .colab-df-convert:hover {\n",
              "      background-color: #434B5C;\n",
              "      box-shadow: 0px 1px 3px 1px rgba(0, 0, 0, 0.15);\n",
              "      filter: drop-shadow(0px 1px 2px rgba(0, 0, 0, 0.3));\n",
              "      fill: #FFFFFF;\n",
              "    }\n",
              "  </style>\n",
              "\n",
              "      <script>\n",
              "        const buttonEl =\n",
              "          document.querySelector('#df-3af3c981-a4c0-4adb-ab35-90de166822c3 button.colab-df-convert');\n",
              "        buttonEl.style.display =\n",
              "          google.colab.kernel.accessAllowed ? 'block' : 'none';\n",
              "\n",
              "        async function convertToInteractive(key) {\n",
              "          const element = document.querySelector('#df-3af3c981-a4c0-4adb-ab35-90de166822c3');\n",
              "          const dataTable =\n",
              "            await google.colab.kernel.invokeFunction('convertToInteractive',\n",
              "                                                     [key], {});\n",
              "          if (!dataTable) return;\n",
              "\n",
              "          const docLinkHtml = 'Like what you see? Visit the ' +\n",
              "            '<a target=\"_blank\" href=https://colab.research.google.com/notebooks/data_table.ipynb>data table notebook</a>'\n",
              "            + ' to learn more about interactive tables.';\n",
              "          element.innerHTML = '';\n",
              "          dataTable['output_type'] = 'display_data';\n",
              "          await google.colab.output.renderOutput(dataTable, element);\n",
              "          const docLink = document.createElement('div');\n",
              "          docLink.innerHTML = docLinkHtml;\n",
              "          element.appendChild(docLink);\n",
              "        }\n",
              "      </script>\n",
              "    </div>\n",
              "  </div>\n",
              "  "
            ]
          },
          "metadata": {},
          "execution_count": 102
        }
      ]
    },
    {
      "cell_type": "markdown",
      "source": [
        "### Data description:\n",
        "\n",
        "`PassengerId` - A unique Id for each passenger. Each Id takes the form gggg_pp where gggg indicates a group the passenger is travelling with and pp is their number within the group. People in a group are often family members, but not always.\n",
        "\n",
        "`HomePlanet` - The planet the passenger departed from, typically their planet of permanent residence.\n",
        "\n",
        "`CryoSleep` - Indicates whether the passenger elected to be put into suspended animation for the duration of the voyage. Passengers in cryosleep are confined to their cabins.\n",
        "\n",
        "`Cabin` - The cabin number where the passenger is staying. Takes the form deck/num/side, where side can be either P for Port or S for Starboard.\n",
        "\n",
        "`Destination` - The planet the passenger will be debarking to.\n",
        "\n",
        "`Age` - The age of the passenger.\n",
        "\n",
        "`VIP` - Whether the passenger has paid for special VIP service during the voyage.\n",
        "\n",
        "`RoomService, FoodCourt, ShoppingMall, Spa, VRDeck` - Amount the passenger has billed at each of the Spaceship Titanic's many luxury amenities.\n",
        "\n",
        "`Name` - The first and last names of the passenger.\n",
        "\n",
        "`Transported` - Whether the passenger was transported to another dimension. This is the target, the column you are trying to predict."
      ],
      "metadata": {
        "id": "L8Ki_Gi4HsEI"
      }
    },
    {
      "cell_type": "markdown",
      "source": [
        "### Age vs. HomePlanet for Transported"
      ],
      "metadata": {
        "id": "HVb1_Fy4J95i"
      }
    },
    {
      "cell_type": "code",
      "source": [
        "df_temp.CryoSleep.head(25)"
      ],
      "metadata": {
        "colab": {
          "base_uri": "https://localhost:8080/"
        },
        "id": "0Unj1KzfPeC0",
        "outputId": "675e6e7c-5251-405e-b51f-7326af0a47c4"
      },
      "execution_count": null,
      "outputs": [
        {
          "output_type": "execute_result",
          "data": {
            "text/plain": [
              "0     1\n",
              "1     1\n",
              "2     1\n",
              "3     1\n",
              "4     1\n",
              "5     1\n",
              "6     1\n",
              "7     2\n",
              "8     1\n",
              "9     2\n",
              "10    2\n",
              "11    1\n",
              "12    1\n",
              "13    1\n",
              "14    1\n",
              "15    1\n",
              "16    1\n",
              "17    1\n",
              "18    2\n",
              "19    1\n",
              "20    1\n",
              "21    2\n",
              "22    2\n",
              "23    2\n",
              "24    1\n",
              "Name: CryoSleep, dtype: int8"
            ]
          },
          "metadata": {},
          "execution_count": 103
        }
      ]
    },
    {
      "cell_type": "code",
      "source": [
        "raw_train_df.CryoSleep.head(25)"
      ],
      "metadata": {
        "colab": {
          "base_uri": "https://localhost:8080/"
        },
        "id": "4oTPe3hjQE0o",
        "outputId": "5da45a8f-668b-4e5f-922b-980f4bb75bb7"
      },
      "execution_count": null,
      "outputs": [
        {
          "output_type": "execute_result",
          "data": {
            "text/plain": [
              "0     False\n",
              "1     False\n",
              "2     False\n",
              "3     False\n",
              "4     False\n",
              "5     False\n",
              "6     False\n",
              "7      True\n",
              "8     False\n",
              "9      True\n",
              "10     True\n",
              "11    False\n",
              "12    False\n",
              "13    False\n",
              "14    False\n",
              "15    False\n",
              "16    False\n",
              "17    False\n",
              "18     True\n",
              "19    False\n",
              "20    False\n",
              "21     True\n",
              "22     True\n",
              "23     True\n",
              "24    False\n",
              "Name: CryoSleep, dtype: object"
            ]
          },
          "metadata": {},
          "execution_count": 104
        }
      ]
    },
    {
      "cell_type": "code",
      "source": [
        "# How many images are there of each breed?\n",
        "\n",
        "raw_train_df.CryoSleep.value_counts().plot.bar(figsize=(5,5))"
      ],
      "metadata": {
        "colab": {
          "base_uri": "https://localhost:8080/",
          "height": 352
        },
        "id": "8u3avQ1SSfSH",
        "outputId": "34c458a5-25be-4ca4-f413-ba5f52a8e123"
      },
      "execution_count": null,
      "outputs": [
        {
          "output_type": "execute_result",
          "data": {
            "text/plain": [
              "<matplotlib.axes._subplots.AxesSubplot at 0x7efe00175bd0>"
            ]
          },
          "metadata": {},
          "execution_count": 105
        },
        {
          "output_type": "display_data",
          "data": {
            "text/plain": [
              "<Figure size 360x360 with 1 Axes>"
            ],
            "image/png": "[encoded data removed]"
          },
          "metadata": {
            "needs_background": "light"
          }
        }
      ]
    },
    {
      "cell_type": "code",
      "source": [
        "# How many images are there of each breed?\n",
        "\n",
        "df_temp.CryoSleep.value_counts().plot.bar(figsize=(5,7))"
      ],
      "metadata": {
        "colab": {
          "base_uri": "https://localhost:8080/",
          "height": 442
        },
        "id": "lKJprACoRcbX",
        "outputId": "afdb6480-3c36-4183-c7b5-c1c37c6a756e"
      },
      "execution_count": null,
      "outputs": [
        {
          "output_type": "execute_result",
          "data": {
            "text/plain": [
              "<matplotlib.axes._subplots.AxesSubplot at 0x7efdf8302dd0>"
            ]
          },
          "metadata": {},
          "execution_count": 106
        },
        {
          "output_type": "display_data",
          "data": {
            "text/plain": [
              "<Figure size 360x504 with 1 Axes>"
            ],
            "image/png": "[encoded data removed]"
          },
          "metadata": {
            "needs_background": "light"
          }
        }
      ]
    },
    {
      "cell_type": "code",
      "source": [
        "# Create another figure\n",
        "plt.figure(figsize=(10,6))\n",
        "\n",
        "# Scatter with positive examples\n",
        "plt.scatter(df_temp.Age[df_temp.Transported==1],\n",
        "            df_temp.HomePlanet[df_temp.Transported==1],\n",
        "            c='aquamarine');\n",
        "\n",
        "# Scatter with negative examples\n",
        "plt.scatter(df_temp.Age[df_temp.Transported==0],\n",
        "            df_temp.HomePlanet[df_temp.Transported==0],\n",
        "            c='chocolate');\n",
        "\n",
        "# Add some info\n",
        "plt.title('Transported state in functions of Age and HomePlanet')\n",
        "plt.xlabel('Age')\n",
        "plt.ylabel('HomePlanet')\n",
        "plt.legend(['Transported', 'Not Transported']);"
      ],
      "metadata": {
        "colab": {
          "base_uri": "https://localhost:8080/",
          "height": 404
        },
        "id": "fxjK46euHXo3",
        "outputId": "0fe23783-9327-410b-fb9a-d827086d7b8f"
      },
      "execution_count": null,
      "outputs": [
        {
          "output_type": "display_data",
          "data": {
            "text/plain": [
              "<Figure size 720x432 with 1 Axes>"
            ],
            "image/png": "[encoded data removed]"
          },
          "metadata": {
            "needs_background": "light"
          }
        }
      ]
    },
    {
      "cell_type": "code",
      "source": [
        "# Create a plot of crosstab -> CryoSleep vs. Transported\n",
        "pd.crosstab(df_temp.CryoSleep, df_temp.Transported).plot(kind='bar', \n",
        "                                    figsize = (10,8), \n",
        "                                    color=['salmon', 'lightblue'])\n",
        "plt.title('Transported in coleration with CryoSleep')\n",
        "plt.xlabel('CryoSleep')\n",
        "plt.ylabel('Amount')\n",
        "plt.legend(['0 = Not Transported', '1 = Transported'])\n",
        "plt.xticks(rotation=0);"
      ],
      "metadata": {
        "colab": {
          "base_uri": "https://localhost:8080/",
          "height": 513
        },
        "id": "I8yclznQLb2m",
        "outputId": "65fa1d5b-1bc0-4cbe-d98f-69dc842a75c6"
      },
      "execution_count": null,
      "outputs": [
        {
          "output_type": "display_data",
          "data": {
            "text/plain": [
              "<Figure size 720x576 with 1 Axes>"
            ],
            "image/png": "[encoded data removed]"
          },
          "metadata": {
            "needs_background": "light"
          }
        }
      ]
    },
    {
      "cell_type": "code",
      "source": [
        "raw_train_df.VIP.unique()"
      ],
      "metadata": {
        "colab": {
          "base_uri": "https://localhost:8080/"
        },
        "id": "NMI42YLSWllz",
        "outputId": "63b69cc8-947b-4b4d-fbb0-b2cdd139c497"
      },
      "execution_count": null,
      "outputs": [
        {
          "output_type": "execute_result",
          "data": {
            "text/plain": [
              "array([False, True, nan], dtype=object)"
            ]
          },
          "metadata": {},
          "execution_count": 109
        }
      ]
    },
    {
      "cell_type": "code",
      "source": [
        "df_temp.VIP.unique()"
      ],
      "metadata": {
        "colab": {
          "base_uri": "https://localhost:8080/"
        },
        "id": "239GMG2uWgek",
        "outputId": "ca024fe5-3442-4c35-bfd0-fe0dc6806903"
      },
      "execution_count": null,
      "outputs": [
        {
          "output_type": "execute_result",
          "data": {
            "text/plain": [
              "array([1, 2, 0], dtype=int8)"
            ]
          },
          "metadata": {},
          "execution_count": 110
        }
      ]
    },
    {
      "cell_type": "code",
      "source": [
        "# Create a plot of crosstab -> VIP vs. Transported\n",
        "pd.crosstab(df_temp.VIP, df_temp.Transported).plot(kind='bar', \n",
        "                                    figsize = (10,8), \n",
        "                                    color=['salmon', 'lightblue'])\n",
        "plt.title('Transported in coleration with CryoSleep')\n",
        "plt.xlabel('VIP')\n",
        "plt.ylabel('Amount')\n",
        "plt.legend(['0 = Not Transported', '1 = Transported'])\n",
        "plt.xticks(rotation=0);"
      ],
      "metadata": {
        "colab": {
          "base_uri": "https://localhost:8080/",
          "height": 513
        },
        "id": "L3eYxrWdMPCP",
        "outputId": "f19bd7a0-f215-452b-c1a4-283626380684"
      },
      "execution_count": null,
      "outputs": [
        {
          "output_type": "display_data",
          "data": {
            "text/plain": [
              "<Figure size 720x576 with 1 Axes>"
            ],
            "image/png": "[encoded data removed]"
          },
          "metadata": {
            "needs_background": "light"
          }
        }
      ]
    },
    {
      "cell_type": "code",
      "source": [
        "np.max(df_temp.Age)"
      ],
      "metadata": {
        "colab": {
          "base_uri": "https://localhost:8080/"
        },
        "id": "bopWMPi1clFn",
        "outputId": "8a759bc7-996b-4b73-d075-6a09a210f2e8"
      },
      "execution_count": null,
      "outputs": [
        {
          "output_type": "execute_result",
          "data": {
            "text/plain": [
              "79.0"
            ]
          },
          "metadata": {},
          "execution_count": 112
        }
      ]
    },
    {
      "cell_type": "code",
      "source": [
        "# Create a plot of crosstab -> Age vs. Transported\n",
        "pd.crosstab(df_temp.Age, df_temp.Transported).plot(kind='bar', \n",
        "                                    figsize = (25,10), \n",
        "                                    color=['salmon', 'lightblue'])\n",
        "plt.title('Transported in coleration with CryoSleep')\n",
        "plt.xlabel('Age')\n",
        "plt.ylabel('Amount')\n",
        "plt.legend(['0 = Not Transported', '1 = Transported'])\n",
        "#plt.xticks(rotation=90);\n",
        "plt.xticks(np.arange(0, np.max(df_temp.Age)+1, 5),\n",
        "             labels = range(0, 81, 5),\n",
        "             rotation = 'vertical');"
      ],
      "metadata": {
        "colab": {
          "base_uri": "https://localhost:8080/",
          "height": 624
        },
        "id": "cvZCO_3QVG74",
        "outputId": "e9b1a891-1d0a-45b8-faf3-a418e37ce665"
      },
      "execution_count": null,
      "outputs": [
        {
          "output_type": "display_data",
          "data": {
            "text/plain": [
              "<Figure size 1800x720 with 1 Axes>"
            ],
            "image/png": "[encoded data removed]"
          },
          "metadata": {
            "needs_background": "light"
          }
        }
      ]
    },
    {
      "cell_type": "code",
      "source": [
        "# Create a plot of crosstab -> Age vs. Transported\n",
        "pd.crosstab(df_temp.Age, df_temp.Transported).plot(kind='bar', \n",
        "                                    figsize = (25,10), \n",
        "                                    color=['salmon', 'lightblue'])\n",
        "plt.title('Transported in coleration with CryoSleep')\n",
        "plt.xlabel('Age')\n",
        "plt.ylabel('Amount')\n",
        "plt.legend(['0 = Not Transported', '1 = Transported'])\n",
        "plt.xticks(rotation=90);\n",
        "# plt.xticks(np.arange(0, np.max(df_temp.Age)+1, 5),\n",
        "#              labels = range(0, 81, 5),\n",
        "#              rotation = 'vertical');"
      ],
      "metadata": {
        "colab": {
          "base_uri": "https://localhost:8080/",
          "height": 634
        },
        "id": "5xJwj94hbxPR",
        "outputId": "a0a4cbee-5834-4a0b-8cfc-fec39074cef9"
      },
      "execution_count": null,
      "outputs": [
        {
          "output_type": "display_data",
          "data": {
            "text/plain": [
              "<Figure size 1800x720 with 1 Axes>"
            ],
            "image/png": "[encoded data removed]"
          },
          "metadata": {
            "needs_background": "light"
          }
        }
      ]
    },
    {
      "cell_type": "markdown",
      "source": [
        "## Model Function"
      ],
      "metadata": {
        "id": "8kwLOlxFiBV6"
      }
    },
    {
      "cell_type": "code",
      "source": [
        "def run_func_model_eval(model_type, df, test_df, scaler_fun, test_size, BATCH_SIZE, EPOCHS, LEARNING_RATE):\n",
        "\n",
        "  X = df.drop('Transported', axis=1)\n",
        "  y = df.Transported\n",
        "\n",
        "  #split the data into train and test sets\n",
        "\n",
        "  X_train, X_val, y_train, y_val = train_test_split(X, y, test_size=test_size, random_state=42)\n",
        "\n",
        "  scaler = scaler_fun\n",
        "  X_train = scaler.fit_transform(X_train)\n",
        "  X_val = scaler.fit_transform(X_val)\n",
        "  X_test = scaler.transform(test_df)\n",
        "\n",
        "  #BATCH_SIZE = 32\n",
        "\n",
        "  ## train data\n",
        "  class TrainData(Dataset):\n",
        "      \n",
        "      def __init__(self, X_data, y_data):\n",
        "          self.X_data = X_data\n",
        "          self.y_data = y_data\n",
        "          \n",
        "      def __getitem__(self, index):\n",
        "          return self.X_data[index], self.y_data[index]\n",
        "          \n",
        "      def __len__ (self):\n",
        "          return len(self.X_data)\n",
        "\n",
        "\n",
        "  train_dataset = TrainData(torch.FloatTensor(X_train), \n",
        "                            torch.FloatTensor(y_train.to_numpy()))\n",
        "\n",
        "  ## validation data    \n",
        "  class ValData(Dataset):\n",
        "      \n",
        "      def __init__(self, X_data, y_data):\n",
        "          self.X_data = X_data\n",
        "          self.y_data = y_data\n",
        "          \n",
        "      def __getitem__(self, index):\n",
        "          return self.X_data[index], self.y_data[index]\n",
        "          \n",
        "      def __len__ (self):\n",
        "          return len(self.X_data)\n",
        "      \n",
        "\n",
        "  test_dataset = ValData(torch.FloatTensor(X_val),\n",
        "                          torch.FloatTensor(y_val.to_numpy()))\n",
        "\n",
        "  ## train data\n",
        "  class TestData(Dataset):\n",
        "      \n",
        "      def __init__(self, X_data):\n",
        "          self.X_data = X_data\n",
        "                  \n",
        "      def __getitem__(self, index):\n",
        "          return self.X_data[index]\n",
        "          \n",
        "      def __len__ (self):\n",
        "          return len(self.X_data)\n",
        "\n",
        "\n",
        "  main_test_dataset = TestData(torch.FloatTensor(X_test))\n",
        "\n",
        "  train_loader = DataLoader(dataset=train_dataset, batch_size=BATCH_SIZE, shuffle=True)\n",
        "  val_loader = DataLoader(dataset=test_dataset, batch_size=BATCH_SIZE)\n",
        "  test_loader = DataLoader(dataset=main_test_dataset, batch_size=1)\n",
        "\n",
        "  torch.manual_seed(42)\n",
        "\n",
        "  # Setup model with input parameters\n",
        "  model = model_type(\n",
        "      input_shape=len(X_train[0]),\n",
        "      hidden_units=80, # how mnay units in the hidden layer\n",
        "      output_shape=1 # one for every class\n",
        "  ).to(device)\n",
        "\n",
        "  #LEARNING_RATE = 0.001\n",
        "\n",
        "  # Setup loss function and optimizer\n",
        "  loss_fn = nn.BCEWithLogitsLoss()\n",
        "  optimizer = torch.optim.Adam(params=model.parameters(),\n",
        "                              lr=LEARNING_RATE)\n",
        "\n",
        "  #EPOCHS = 100\n",
        "\n",
        "  model.train()\n",
        "  for e in range(1, EPOCHS+1):\n",
        "      epoch_loss = 0\n",
        "      epoch_acc = 0\n",
        "      for X_batch, y_batch in train_loader:\n",
        "          X_batch, y_batch = X_batch.to(device), y_batch.to(device)\n",
        "          optimizer.zero_grad()\n",
        "          \n",
        "          y_pred = model(X_batch)\n",
        "          \n",
        "          loss = loss_fn(y_pred, y_batch.unsqueeze(1))\n",
        "          acc = binary_acc(y_pred, y_batch.unsqueeze(1))\n",
        "          \n",
        "          loss.backward()\n",
        "          optimizer.step()\n",
        "          \n",
        "          epoch_loss += loss.item()\n",
        "          epoch_acc += acc.item()\n",
        "          \n",
        "      if (e % 10 == 0) or e==1:\n",
        "        print(f'Epoch {e+0:03}: | Loss: {epoch_loss/len(train_loader):.5f} | Acc: {epoch_acc/len(train_loader):.3f}')\n",
        "    \n",
        "  y_pred_list = []\n",
        "  test_acc=0\n",
        "  model.eval()\n",
        "  with torch.no_grad():\n",
        "      for X_batch, y_batch in val_loader:\n",
        "          X_batch, y_batch = X_batch.to(device), y_batch.to(device)\n",
        "          y_test_pred = model(X_batch)\n",
        "          acc = binary_acc(y_test_pred, y_batch.unsqueeze(1))\n",
        "          test_acc += acc.item()\n",
        "\n",
        "      custom_acc = test_acc/len(val_loader)   \n",
        "      print(f'Custom accurance score for this case: {custom_acc:.2f}%')\n",
        "  y_pred_list = [a.squeeze().tolist() for a in y_pred_list]\n",
        "  return custom_acc, model_type, df, test_df, test_size, BATCH_SIZE, EPOCHS, LEARNING_RATE"
      ],
      "metadata": {
        "id": "uRb2UO4PaZs3"
      },
      "execution_count": null,
      "outputs": []
    },
    {
      "cell_type": "markdown",
      "source": [
        "```\n",
        "  scaler = StandardScaler()\n",
        "  scaler = MinMaxScaler()\n",
        "\n",
        "\n",
        "  Some day to try also these:\n",
        "\n",
        "* XGBoost\n",
        "* LightGBM\n",
        "* Catboost\n",
        "* VotingClassifier(hard)\n",
        "```"
      ],
      "metadata": {
        "id": "eybstnMc-UY4"
      }
    },
    {
      "cell_type": "markdown",
      "source": [
        "## Model results"
      ],
      "metadata": {
        "id": "wKLlZ_bnC3Y2"
      }
    },
    {
      "cell_type": "code",
      "source": [
        "st_v1_model_SS_acc_0 = run_func_model_eval(SpaceTitanicV1, \n",
        "                                      df_temp, \n",
        "                                      test_df_temp,\n",
        "                                      StandardScaler(),\n",
        "                                      test_size=0.15, \n",
        "                                      BATCH_SIZE=32, \n",
        "                                      EPOCHS=50, \n",
        "                                      LEARNING_RATE=0.001)"
      ],
      "metadata": {
        "colab": {
          "base_uri": "https://localhost:8080/"
        },
        "id": "e5aqHwzddhPC",
        "outputId": "1603abd4-8670-4b50-a905-bd11a3eac15b"
      },
      "execution_count": null,
      "outputs": [
        {
          "output_type": "stream",
          "name": "stdout",
          "text": [
            "Epoch 001: | Loss: 0.51683 | Acc: 73.481\n",
            "Epoch 010: | Loss: 0.38473 | Acc: 82.030\n",
            "Epoch 020: | Loss: 0.33579 | Acc: 84.203\n",
            "Epoch 030: | Loss: 0.30356 | Acc: 86.381\n",
            "Epoch 040: | Loss: 0.27331 | Acc: 87.403\n",
            "Epoch 050: | Loss: 0.25756 | Acc: 88.463\n",
            "Custom accurance score for this case: 77.24%\n"
          ]
        }
      ]
    },
    {
      "cell_type": "code",
      "source": [
        "st_v1_model_SS_acc_1 = run_func_model_eval(SpaceTitanicV1, \n",
        "                                      df_temp, \n",
        "                                      test_df_temp,\n",
        "                                      StandardScaler(),\n",
        "                                      test_size=0.2, \n",
        "                                      BATCH_SIZE=32, \n",
        "                                      EPOCHS=50, \n",
        "                                      LEARNING_RATE=0.001)"
      ],
      "metadata": {
        "colab": {
          "base_uri": "https://localhost:8080/"
        },
        "id": "UyaTbPEgg3OC",
        "outputId": "41ffb7af-a7d5-436b-fb14-72248054e290"
      },
      "execution_count": null,
      "outputs": [
        {
          "output_type": "stream",
          "name": "stdout",
          "text": [
            "Epoch 001: | Loss: 0.51913 | Acc: 73.578\n",
            "Epoch 010: | Loss: 0.37931 | Acc: 82.615\n",
            "Epoch 020: | Loss: 0.32744 | Acc: 84.849\n",
            "Epoch 030: | Loss: 0.30113 | Acc: 86.229\n",
            "Epoch 040: | Loss: 0.27338 | Acc: 87.794\n",
            "Epoch 050: | Loss: 0.25865 | Acc: 87.917\n",
            "Custom accurance score for this case: 77.96%\n"
          ]
        }
      ]
    },
    {
      "cell_type": "code",
      "source": [
        "st_v1_model_SS_acc_2 = run_func_model_eval(SpaceTitanicV1, \n",
        "                                      df_temp, \n",
        "                                      test_df_temp,\n",
        "                                      StandardScaler(),\n",
        "                                      test_size=0.1, \n",
        "                                      BATCH_SIZE=32, \n",
        "                                      EPOCHS=50, \n",
        "                                      LEARNING_RATE=0.001)"
      ],
      "metadata": {
        "colab": {
          "base_uri": "https://localhost:8080/"
        },
        "id": "JJIaCMNijRiR",
        "outputId": "88547d80-d193-4c0c-86d9-faf5c0e15565"
      },
      "execution_count": null,
      "outputs": [
        {
          "output_type": "stream",
          "name": "stdout",
          "text": [
            "Epoch 001: | Loss: 0.50100 | Acc: 75.224\n",
            "Epoch 010: | Loss: 0.38355 | Acc: 81.943\n",
            "Epoch 020: | Loss: 0.34266 | Acc: 83.763\n",
            "Epoch 030: | Loss: 0.31241 | Acc: 85.543\n",
            "Epoch 040: | Loss: 0.28155 | Acc: 87.033\n",
            "Epoch 050: | Loss: 0.26295 | Acc: 87.878\n",
            "Custom accurance score for this case: 76.50%\n"
          ]
        }
      ]
    },
    {
      "cell_type": "code",
      "source": [
        "st_v2_model_SS_acc_2 = run_func_model_eval(SpaceTitanicV2, \n",
        "                                      df_temp, \n",
        "                                      test_df_temp,\n",
        "                                      StandardScaler(),\n",
        "                                      test_size=0.1, \n",
        "                                      BATCH_SIZE=32, \n",
        "                                      EPOCHS=50, \n",
        "                                      LEARNING_RATE=0.001)"
      ],
      "metadata": {
        "colab": {
          "base_uri": "https://localhost:8080/"
        },
        "id": "1LdDfdVhkI85",
        "outputId": "b6ac3594-dec0-408c-dff3-821302364a6e"
      },
      "execution_count": null,
      "outputs": [
        {
          "output_type": "stream",
          "name": "stdout",
          "text": [
            "Epoch 001: | Loss: 0.49594 | Acc: 74.796\n",
            "Epoch 010: | Loss: 0.39070 | Acc: 82.082\n",
            "Epoch 020: | Loss: 0.35777 | Acc: 83.535\n",
            "Epoch 030: | Loss: 0.33575 | Acc: 84.384\n",
            "Epoch 040: | Loss: 0.31228 | Acc: 85.980\n",
            "Epoch 050: | Loss: 0.29017 | Acc: 86.751\n",
            "Custom accurance score for this case: 77.29%\n"
          ]
        }
      ]
    },
    {
      "cell_type": "code",
      "source": [
        "st_v3_model_SS_acc_2 = run_func_model_eval(SpaceTitanicV3, \n",
        "                                      df_temp, \n",
        "                                      test_df_temp,\n",
        "                                      StandardScaler(),\n",
        "                                      test_size=0.1, \n",
        "                                      BATCH_SIZE=32, \n",
        "                                      EPOCHS=50, \n",
        "                                      LEARNING_RATE=0.001)"
      ],
      "metadata": {
        "colab": {
          "base_uri": "https://localhost:8080/"
        },
        "id": "B75rUmmlkitd",
        "outputId": "a550f569-7ced-4aea-fead-b5466e7c552e"
      },
      "execution_count": null,
      "outputs": [
        {
          "output_type": "stream",
          "name": "stdout",
          "text": [
            "Epoch 001: | Loss: 0.51028 | Acc: 74.580\n",
            "Epoch 010: | Loss: 0.39085 | Acc: 81.363\n",
            "Epoch 020: | Loss: 0.34859 | Acc: 83.522\n",
            "Epoch 030: | Loss: 0.32286 | Acc: 84.943\n",
            "Epoch 040: | Loss: 0.29571 | Acc: 86.433\n",
            "Epoch 050: | Loss: 0.27727 | Acc: 86.878\n",
            "Custom accurance score for this case: 75.39%\n"
          ]
        }
      ]
    },
    {
      "cell_type": "code",
      "source": [
        "st_v1_model_SS_acc_2 = run_func_model_eval(SpaceTitanicV1, \n",
        "                                      df_temp, \n",
        "                                      test_df_temp,\n",
        "                                      StandardScaler(),\n",
        "                                      test_size=0.1, \n",
        "                                      BATCH_SIZE=64, \n",
        "                                      EPOCHS=50, \n",
        "                                      LEARNING_RATE=0.001)"
      ],
      "metadata": {
        "colab": {
          "base_uri": "https://localhost:8080/"
        },
        "id": "ETIYIdyJkp7-",
        "outputId": "df5ef2e1-b53a-42cb-f909-a732638e9933"
      },
      "execution_count": null,
      "outputs": [
        {
          "output_type": "stream",
          "name": "stdout",
          "text": [
            "Epoch 001: | Loss: 0.50512 | Acc: 75.000\n",
            "Epoch 010: | Loss: 0.37035 | Acc: 82.984\n",
            "Epoch 020: | Loss: 0.31777 | Acc: 85.407\n",
            "Epoch 030: | Loss: 0.27512 | Acc: 87.626\n",
            "Epoch 040: | Loss: 0.24213 | Acc: 88.894\n",
            "Epoch 050: | Loss: 0.22450 | Acc: 90.033\n",
            "Custom accurance score for this case: 77.50%\n"
          ]
        }
      ]
    },
    {
      "cell_type": "code",
      "source": [
        "st_v1_model_SS_acc_2 = run_func_model_eval(SpaceTitanicV1, \n",
        "                                      df_temp, \n",
        "                                      test_df_temp,\n",
        "                                      StandardScaler(),\n",
        "                                      test_size=0.1, \n",
        "                                      BATCH_SIZE=32, \n",
        "                                      EPOCHS=50, \n",
        "                                      LEARNING_RATE=0.01)"
      ],
      "metadata": {
        "colab": {
          "base_uri": "https://localhost:8080/"
        },
        "id": "vxp5FcBplcLm",
        "outputId": "58ca1cdb-c32b-44e4-a982-30c77b172aa1"
      },
      "execution_count": null,
      "outputs": [
        {
          "output_type": "stream",
          "name": "stdout",
          "text": [
            "Epoch 001: | Loss: 0.48741 | Acc: 76.118\n",
            "Epoch 010: | Loss: 0.40574 | Acc: 80.527\n",
            "Epoch 020: | Loss: 0.37815 | Acc: 82.069\n",
            "Epoch 030: | Loss: 0.35447 | Acc: 83.167\n",
            "Epoch 040: | Loss: 0.33025 | Acc: 84.094\n",
            "Epoch 050: | Loss: 0.30248 | Acc: 85.571\n",
            "Custom accurance score for this case: 76.14%\n"
          ]
        }
      ]
    },
    {
      "cell_type": "code",
      "source": [
        "st_v4_model_SS_acc_2 = run_func_model_eval(SpaceTitanicV4, \n",
        "                                      df_temp, \n",
        "                                      test_df_temp,\n",
        "                                      StandardScaler(),\n",
        "                                      test_size=0.1, \n",
        "                                      BATCH_SIZE=32, \n",
        "                                      EPOCHS=50, \n",
        "                                      LEARNING_RATE=0.001)"
      ],
      "metadata": {
        "colab": {
          "base_uri": "https://localhost:8080/"
        },
        "id": "q3z531uKnN1i",
        "outputId": "8e32d647-c06e-4b26-d5af-55ec18c6886e"
      },
      "execution_count": null,
      "outputs": [
        {
          "output_type": "stream",
          "name": "stdout",
          "text": [
            "Epoch 001: | Loss: 0.52237 | Acc: 72.914\n",
            "Epoch 010: | Loss: 0.40748 | Acc: 80.943\n",
            "Epoch 020: | Loss: 0.38368 | Acc: 81.714\n",
            "Epoch 030: | Loss: 0.36323 | Acc: 82.780\n",
            "Epoch 040: | Loss: 0.35594 | Acc: 83.294\n",
            "Epoch 050: | Loss: 0.33863 | Acc: 84.510\n",
            "Custom accurance score for this case: 76.25%\n"
          ]
        }
      ]
    },
    {
      "cell_type": "code",
      "source": [
        "st_v1_model_SS_acc_2 = run_func_model_eval(SpaceTitanicV1, \n",
        "                                      df_temp,\n",
        "                                      test_df_temp,\n",
        "                                      MinMaxScaler(),\n",
        "                                      test_size=0.2, \n",
        "                                      BATCH_SIZE=32, \n",
        "                                      EPOCHS=50, \n",
        "                                      LEARNING_RATE=0.001)"
      ],
      "metadata": {
        "colab": {
          "base_uri": "https://localhost:8080/"
        },
        "id": "QBvcfdXwon2l",
        "outputId": "0c17a50c-baf5-4742-bbab-2a2798eaf2b7"
      },
      "execution_count": null,
      "outputs": [
        {
          "output_type": "stream",
          "name": "stdout",
          "text": [
            "Epoch 001: | Loss: 0.54911 | Acc: 72.326\n",
            "Epoch 010: | Loss: 0.41132 | Acc: 80.642\n",
            "Epoch 020: | Loss: 0.37812 | Acc: 82.032\n",
            "Epoch 030: | Loss: 0.36016 | Acc: 83.280\n",
            "Epoch 040: | Loss: 0.34156 | Acc: 84.110\n",
            "Epoch 050: | Loss: 0.32941 | Acc: 85.023\n",
            "Custom accurance score for this case: 78.51%\n"
          ]
        }
      ]
    },
    {
      "cell_type": "code",
      "source": [
        "st_v1_model_MMS_acc_2 = run_func_model_eval(SpaceTitanicV1, \n",
        "                                      df_temp, \n",
        "                                      test_df_temp,\n",
        "                                      MinMaxScaler(),\n",
        "                                      test_size=0.1, \n",
        "                                      BATCH_SIZE=64, \n",
        "                                      EPOCHS=50, \n",
        "                                      LEARNING_RATE=0.001)"
      ],
      "metadata": {
        "colab": {
          "base_uri": "https://localhost:8080/"
        },
        "id": "hLc8-VaS--9P",
        "outputId": "67018efb-8edf-4251-bad8-fea456ec2caf"
      },
      "execution_count": null,
      "outputs": [
        {
          "output_type": "stream",
          "name": "stdout",
          "text": [
            "Epoch 001: | Loss: 0.54652 | Acc: 72.268\n",
            "Epoch 010: | Loss: 0.39539 | Acc: 81.358\n",
            "Epoch 020: | Loss: 0.35700 | Acc: 83.211\n",
            "Epoch 030: | Loss: 0.32186 | Acc: 84.894\n",
            "Epoch 040: | Loss: 0.30899 | Acc: 85.610\n",
            "Epoch 050: | Loss: 0.28299 | Acc: 87.439\n",
            "Custom accurance score for this case: 77.93%\n"
          ]
        }
      ]
    },
    {
      "cell_type": "code",
      "source": [
        "st_v5_model_MMS_acc_2 = run_func_model_eval(SpaceTitanicV1, \n",
        "                                      df_temp, \n",
        "                                      test_df_temp,\n",
        "                                      MinMaxScaler(),\n",
        "                                      test_size=0.1, \n",
        "                                      BATCH_SIZE=64, \n",
        "                                      EPOCHS=50, \n",
        "                                      LEARNING_RATE=0.01)"
      ],
      "metadata": {
        "colab": {
          "base_uri": "https://localhost:8080/"
        },
        "id": "mowBU2UcAgrI",
        "outputId": "627b1ed3-72a4-46ce-ffde-d73e7c62c3a8"
      },
      "execution_count": null,
      "outputs": [
        {
          "output_type": "stream",
          "name": "stdout",
          "text": [
            "Epoch 001: | Loss: 0.52042 | Acc: 74.024\n",
            "Epoch 010: | Loss: 0.42065 | Acc: 79.992\n",
            "Epoch 020: | Loss: 0.40034 | Acc: 80.902\n",
            "Epoch 030: | Loss: 0.37453 | Acc: 82.008\n",
            "Epoch 040: | Loss: 0.36308 | Acc: 82.455\n",
            "Epoch 050: | Loss: 0.36233 | Acc: 82.220\n",
            "Custom accurance score for this case: 78.64%\n"
          ]
        }
      ]
    },
    {
      "cell_type": "code",
      "source": [],
      "metadata": {
        "id": "vH5syWD5_H6X"
      },
      "execution_count": null,
      "outputs": []
    }
  ]
}